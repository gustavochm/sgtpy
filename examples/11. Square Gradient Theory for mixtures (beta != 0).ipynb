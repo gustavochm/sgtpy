{
 "cells": [
  {
   "cell_type": "markdown",
   "metadata": {},
   "source": [
    "# Square Gradient Theory for Mixtures\n",
    "\n",
    "Square Gradient Theory allows studying the interfacial behavior of fluid. SGT proposes that the Helmholtz free energy density at the interface can be described by the sum of a homogeneous and a gradient contribution, in which the density profiles between the bulk phases are mean to minimize the energy of the system. This results in the following Euler-Lagrange system: \n",
    "\n",
    "$$ \\sum_j c_{ij} \\frac{d^2 \\rho_j}{dz^2} = \\mu_i - \\mu_i^0 \\qquad i = 1,...,c$$ \n",
    "$$ \\rho(z \\rightarrow -\\infty) = \\rho^\\alpha \\qquad \\rho(z \\rightarrow \\infty) = \\rho^\\beta $$\n",
    "\n",
    "Here, $z$ represents the interfacial position,  $\\mu$, the chemical potential and $\\rho$ the density vector. The superscript 0 refers to the bulk phase value and $\\alpha$, $\\beta$ to the bulk phases index. Finally, $c_{ij}$, represents the cross-influence parameter between molecule $i$ and $j$ and, in general, is computed as the geometric mean of the pure fluid's influence parameter and a correction factor:\n",
    "\n",
    "$$ c_{ij} = (1 - \\beta_{ij}) \\sqrt{c_{ii} c_{jj}} $$\n",
    "\n",
    "The solution procedure of the SGT strongly depends on whether the influence parameter matrix is singular or not. f any of the correction parameter $\\beta_{ij}$ is different from zero, it is necessary to solve the Euler-Lagrange system as a boundary value problem (BVP) with a finite interfacial length. One numerical efficient method proposed by [Liang et al.](https://www.sciencedirect.com/science/article/pii/S0378381217302893) is to use orthogonal collocation which considerably reduces the grid to solve the density profiles and provides a direct route to compute interfacial tension. This is done with the ``sgt_mix`` function.\n",
    "\n",
    "An alternative formulation proposed by [Mu et al.](https://www.sciencedirect.com/science/article/pii/S0378381216305787), to modify the SGT Euler-Lagrange system, considering a time-stabilized form.\n",
    "\n",
    "$$ \\sum_j c_{ij} \\frac{d^2 \\rho_j}{dz^2} = \\frac{d \\rho_i}{ds} +  \\mu_i - \\mu_i^0 \\qquad i = 1,...,c $$\n",
    "\n",
    "This approach is performed by the ``msgt_mix`` function.\n",
    "\n",
    "\n",
    "Once the density profiles are solved the interfacial tension can be computed as:\n",
    "\n",
    "$$ \\sigma =  \\int_{-\\infty}^{\\infty} \\sum_i \\sum_j c_{ij} \\frac{d\\rho_i}{dz} \\frac{d\\rho_j}{dz} dz $$\n",
    "\n",
    "This notebook has the purpose of showing examples of computing interfacial tension of mixtures and $\\beta_{ij} \\neq 0$.\n",
    "\n",
    "First, it's needed to import the necessary modules"
   ]
  },
  {
   "cell_type": "code",
   "execution_count": 1,
   "metadata": {},
   "outputs": [],
   "source": [
    "import numpy as np\n",
    "from sgtpy import component, mixture, saftvrmie\n",
    "from sgtpy.equilibrium import bubblePy\n",
    "from sgtpy.sgt import sgt_mix, msgt_mix\n",
    "import matplotlib.pyplot as plt"
   ]
  },
  {
   "cell_type": "markdown",
   "metadata": {},
   "source": [
    "Then the mixture and EoS are created. The bubble point of the mixture of x1 = 0.3 at 320K is computed. The ```full_output``` option allows obtaining the compositions, densities and equilibrium pressure."
   ]
  },
  {
   "cell_type": "code",
   "execution_count": 2,
   "metadata": {},
   "outputs": [
    {
     "name": "stderr",
     "output_type": "stream",
     "text": [
      "/Users/gac21/Documents/sgtpy/sgtpy/vrmie_pure/ideal.py:25: RuntimeWarning: invalid value encountered in log\n",
      "  a = np.log(rho * broglie_vol**3) - 1\n"
     ]
    }
   ],
   "source": [
    "ethanol = component('ethanol2C', ms = 1.7728, sigma = 3.5592 , eps = 224.50,\n",
    "                    lambda_r = 11.319, lambda_a = 6., eAB = 3018.05, rcAB = 0.3547,\n",
    "                    rdAB = 0.4, sites = [1,0,1], cii= 5.3141080872882285e-20)\n",
    "\n",
    "hexane = component('hexane', ms = 1.96720036, sigma = 4.54762477, eps = 377.60127994, \n",
    "                   lambda_r = 18.41193194, cii = 3.581510586936205e-19)\n",
    "\n",
    "mix = mixture(ethanol, hexane)\n",
    "# or\n",
    "mix = ethanol + hexane\n",
    "\n",
    "# setting up kij matrix\n",
    "kij = 0.011818492037463553\n",
    "Kij = np.array([[0, kij], [kij, 0]])\n",
    "mix.kij_saft(Kij)\n",
    "# or by setting the kij interactions by pairs i=0 (hexane), j=1 (ethanol)\n",
    "mix.set_kijsaft(i=0, j=1, kij0=kij)\n",
    "\n",
    "eos = saftvrmie(mix)\n",
    "\n",
    "T = 320 #K\n",
    "X = np.array([0.3, 0.7])\n",
    "P0 = 3e4 # Pa\n",
    "Y0 = np.array([0.7, 0.3])\n",
    "\n",
    "sol = bubblePy(Y0, P0, X, T, eos, full_output = True)\n",
    "Y = sol.Y\n",
    "P = sol.P\n",
    "vl = sol.v1\n",
    "vv = sol.v2\n",
    "\n",
    "#computing the density vector\n",
    "rhol = X / vl\n",
    "rhov = Y / vv"
   ]
  },
  {
   "cell_type": "markdown",
   "metadata": {},
   "source": [
    "In order to set the $\\beta$ correction is necessary to create the symmetric matrix of shape (`nc, nc`) and then use it with the  ```eos.beta_sgt``` method from the eos. The $\\beta_{ij}$ correction is computed as follows:\n",
    "\n",
    "$$ \\beta_{ij} =  \\beta_{ij,0} + \\beta_{ij,1} \\cdot T +  \\beta_{ij,2} \\cdot T^2 + \\frac{\\beta_{ij,3}}{T} $$\n",
    "\n",
    "Alternatively, you can modify just the pair $ij$ using the `eos.set_betaijsgt` method. In both methods, by default only the $\\beta_{ij,0}$ is required. The temperature dependent parameters are optional, if they are not provided they are assumed to be zero.\n",
    "\n",
    "If this step is not done the ```sgt_mix``` or ```msgt_sgt``` function will raise an error as the influence parameter matrix will be singular. "
   ]
  },
  {
   "cell_type": "code",
   "execution_count": 3,
   "metadata": {},
   "outputs": [],
   "source": [
    "bij = 0.05719272059410664\n",
    "beta = np.array([[0, bij], [bij, 0]])\n",
    "eos.beta_sgt(beta)\n",
    "\n",
    "# or by setting the beta correction by pair i=0 (hexane), j=1 (ethanol)\n",
    "eos.set_betaijsgt(i=0, j=1, beta0=bij)"
   ]
  },
  {
   "cell_type": "markdown",
   "metadata": {},
   "source": [
    "The first option is to solve the BVP iteratively using orthogonal collocation. The initial interfacial length is set to 10 Amstrong and the density profiles are solved, then the interfacial length is increased until the calculated interfacial tension doesn't change more than a given tolerance.\n",
    "\n",
    "The initial value can be set as ```'linear'``` or ```'hyperbolic'``` to use a linear or a hyperbolic approximation. Optionally an array can be passed to the argument ```rho0``` or a TensionResult for another calculation, for example, the density profile computed with beta0 calculation."
   ]
  },
  {
   "cell_type": "code",
   "execution_count": 4,
   "metadata": {},
   "outputs": [
    {
     "name": "stderr",
     "output_type": "stream",
     "text": [
      "/Users/gac21/Documents/sgtpy/sgtpy/vrmie_mixtures/ahs_monomer.py:121: RuntimeWarning: invalid value encountered in log\n",
      "  log3 = np.log(xhi3_1)\n",
      "/Users/gac21/Documents/sgtpy/sgtpy/vrmie_mixtures/ghs_chain.py:135: RuntimeWarning: invalid value encountered in log\n",
      "  k0 = -np.log(xhix_1) + (42*xhix - 39*xhix2 + 9*xhix3 - 2*xhix4)/(6*xhix_13)\n",
      "/Users/gac21/Documents/sgtpy/sgtpy/vrmie_mixtures/ares.py:845: RuntimeWarning: invalid value encountered in log\n",
      "  aux1 = np.log(Xass) - Xass/2 + 1/2\n",
      "/Users/gac21/Documents/sgtpy/sgtpy/vrmie_mixtures/ghs_chain.py:194: RuntimeWarning: overflow encountered in exp\n",
      "  dg[0] = np.exp(dg[0])\n",
      "/Users/gac21/Documents/sgtpy/sgtpy/vrmie_mixtures/lngmie_chain.py:79: RuntimeWarning: divide by zero encountered in log\n",
      "  lng = np.log(ghs) + aux / ghs\n",
      "/Users/gac21/Documents/sgtpy/sgtpy/vrmie_mixtures/lngmie_chain.py:79: RuntimeWarning: divide by zero encountered in true_divide\n",
      "  lng = np.log(ghs) + aux / ghs\n",
      "/Users/gac21/Documents/sgtpy/sgtpy/vrmie_mixtures/lngmie_chain.py:82: RuntimeWarning: invalid value encountered in add\n",
      "  dlng += dghs * (ghs - aux)\n",
      "/Users/gac21/Documents/sgtpy/sgtpy/vrmie_mixtures/lngmie_chain.py:83: RuntimeWarning: invalid value encountered in true_divide\n",
      "  dlng /= ghs2\n",
      "/Users/gac21/Documents/sgtpy/sgtpy/vrmie_mixtures/lngmie_chain.py:86: RuntimeWarning: invalid value encountered in add\n",
      "  dlngx += dghsx * (ghs - aux)\n",
      "/Users/gac21/Documents/sgtpy/sgtpy/vrmie_mixtures/lngmie_chain.py:87: RuntimeWarning: invalid value encountered in true_divide\n",
      "  dlngx /= ghs2\n",
      "/Users/gac21/Documents/sgtpy/sgtpy/vrmie_mixtures/ares.py:802: RuntimeWarning: invalid value encountered in matmul\n",
      "  achain = - lng@aux_chain\n"
     ]
    }
   ],
   "source": [
    "sol = sgt_mix(rhol, rhov, T, P, eos, z0 = 10,  rho0 = 'linear',full_output = True)"
   ]
  },
  {
   "cell_type": "code",
   "execution_count": 5,
   "metadata": {},
   "outputs": [
    {
     "data": {
      "text/plain": [
       "array([0.00000000e+00, 2.45283512e-02, 6.72941385e-01, 4.04539896e+00,\n",
       "       1.43956571e+01, 4.11617277e+01, 1.10109648e+02, 2.96107700e+02,\n",
       "       7.88245847e+02, 1.86744039e+03, 3.40630792e+03, 4.43865227e+03,\n",
       "       4.40676359e+03, 3.67018284e+03, 2.64421424e+03, 1.59690736e+03,\n",
       "       7.75933825e+02, 2.98578554e+02, 8.89234878e+01, 1.70535756e+01,\n",
       "       7.78005585e-01, 0.00000000e+00])"
      ]
     },
     "execution_count": 5,
     "metadata": {},
     "output_type": "execute_result"
    }
   ],
   "source": [
    "sol.tension\n",
    "sol.rho\n",
    "sol.z\n",
    "sol.GPT"
   ]
  },
  {
   "cell_type": "markdown",
   "metadata": {},
   "source": [
    "The other option is to use a modified SGT system that includes a temporal variable which helps to reach the stationary density profile ignoring the nonlinearity of the BVP at the first iterations. This type of computation uses a fixed value for the interfacial length.\n",
    "\n",
    "The initial value options to solve the density profiles are the same as for ```sgt_mix```. In this case, the previously computed TensionResult is used as an initial guess."
   ]
  },
  {
   "cell_type": "code",
   "execution_count": 6,
   "metadata": {},
   "outputs": [],
   "source": [
    "solm = msgt_mix(rhol, rhov, T, P, eos, z = 20, rho0 = sol, full_output = True)"
   ]
  },
  {
   "cell_type": "code",
   "execution_count": 7,
   "metadata": {},
   "outputs": [
    {
     "name": "stdout",
     "output_type": "stream",
     "text": [
      "BVP SGT :  15.06038324964086 mN/m\n",
      "Modified BVP SGT :  15.060383249641061 mN/m\n"
     ]
    }
   ],
   "source": [
    "print('BVP SGT : ', sol.tension, 'mN/m')\n",
    "print('Modified BVP SGT : ', solm.tension, 'mN/m')"
   ]
  },
  {
   "cell_type": "markdown",
   "metadata": {},
   "source": [
    "Finally, the density profiles can be compared. It can be seen that when a correction to the cross-influence parameter just one stationary point across the interface."
   ]
  },
  {
   "cell_type": "code",
   "execution_count": 8,
   "metadata": {},
   "outputs": [
    {
     "data": {
      "text/plain": [
       "Text(0, 0.5, '$\\\\rho_2$ / kmol m$^{-3}$ ')"
      ]
     },
     "execution_count": 8,
     "metadata": {},
     "output_type": "execute_result"
    },
    {
     "data": {
      "image/png": "[encoded data removed]",
      "text/plain": [
       "<Figure size 360x360 with 1 Axes>"
      ]
     },
     "metadata": {
      "needs_background": "light"
     },
     "output_type": "display_data"
    }
   ],
   "source": [
    "#convert densities to kmol/m3\n",
    "rho = sol.rho / 1000\n",
    "rhom = solm.rho / 1000 \n",
    "\n",
    "fig = plt.figure(figsize = (5,5))\n",
    "ax = fig.add_subplot(111)\n",
    "ax.plot(rho[0], rho[1], '--')\n",
    "ax.plot(rhom[0], rhom[1], '.')\n",
    "ax.set_xlabel(r'$\\rho_1$ / kmol m$^{-3}$ ')\n",
    "ax.set_ylabel(r'$\\rho_2$ / kmol m$^{-3}$ ')\n",
    "# fig.savefig('sgt.jpg')"
   ]
  },
  {
   "cell_type": "markdown",
   "metadata": {},
   "source": [
    "---\n",
    "For further information about the ``sgt_mix`` and ``msgt_mix`` functions check out the documentation running: ``sgt_mix?`` or ``msgt_mix?``"
   ]
  },
  {
   "cell_type": "code",
   "execution_count": null,
   "metadata": {},
   "outputs": [],
   "source": []
  }
 ],
 "metadata": {
  "kernelspec": {
   "display_name": "thermo",
   "language": "python",
   "name": "python3"
  },
  "language_info": {
   "codemirror_mode": {
    "name": "ipython",
    "version": 3
   },
   "file_extension": ".py",
   "mimetype": "text/x-python",
   "name": "python",
   "nbconvert_exporter": "python",
   "pygments_lexer": "ipython3",
   "version": "3.9.7"
  }
 },
 "nbformat": 4,
 "nbformat_minor": 2
}
