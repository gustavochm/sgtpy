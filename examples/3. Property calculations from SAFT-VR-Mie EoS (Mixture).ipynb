{
 "cells": [
  {
   "cell_type": "markdown",
   "metadata": {},
   "source": [
    "# Property calculation with SAFT-VR-Mie EoS\n",
    "\n",
    "First it is necessary to import the ``component`` and ``mixture`` classes and the SAFT-VR-Mie equation of state (``saftvrmie``)."
   ]
  },
  {
   "cell_type": "code",
   "execution_count": 1,
   "metadata": {},
   "outputs": [],
   "source": [
    "import numpy as np\n",
    "from sgtpy import component, mixture, saftvrmie"
   ]
  },
  {
   "cell_type": "markdown",
   "metadata": {},
   "source": [
    "First, a component is defined with the ``component`` class function, then a mixture is set with the ``mixture class``. Finally, the ``eos`` object is created with the component and the ``saftvrmie`` function. \n",
    "\n",
    "The ``eos`` object includes the methods to evaluate properties from the equation of state, such as densities, pressure, fugacity coefficients, chemical potential and some thermal derived properties (residual entropy, residual enthalpy, residual heat capacities and speed of sound).\n",
    "\n",
    "**warning:** thermal derived properties are computed with numerical derivatives using $O(h^4)$ approximation.\n",
    "\n",
    "In the case of coarse-grained non-associating fluid mixtures, the ``eos`` object allows to compute the [influence parameter for SGT](https://aiche.onlinelibrary.wiley.com/doi/full/10.1002/aic.15190). This is done with the following correlation:\n",
    "\n",
    "$$ \\sqrt{\\frac{c_{ii}}{N_{av}^2 \\epsilon_{ii} \\sigma_{ii}^5}} = m_s \\left[0.12008 + 2.21979 \\alpha_i \\right]$$\n",
    "\n",
    "$$ \\alpha_i = \\left[ \\frac{\\lambda_r}{\\lambda_r - \\lambda_a} \\left( \\frac{\\lambda_r}{\\lambda_a}\\right)^{\\frac{\\lambda_a}{\\lambda_r - \\lambda_a}}\\right] \\left[\\frac{1}{\\lambda_a - 3} - \\frac{1}{\\lambda_r - 3} \\right]$$\n",
    "\n",
    "The ``eos.cii_correlation`` method is shown below for a mixture of methane and dodecane."
   ]
  },
  {
   "cell_type": "code",
   "execution_count": 2,
   "metadata": {},
   "outputs": [
    {
     "data": {
      "text/plain": [
       "array([[1.92075094e-20],\n",
       "       [1.27211926e-18]])"
      ]
     },
     "execution_count": 2,
     "metadata": {},
     "output_type": "execute_result"
    }
   ],
   "source": [
    "methane = component('methane', ms = 1.0, sigma = 3.752 , eps = 170.75,\n",
    "                    lambda_r = 16.39, lambda_a = 6.)\n",
    "dodecane = component('dodecane', ms = 4.0, sigma = 4.351 , eps = 378.56,\n",
    "                    lambda_r = 18.41, lambda_a = 6.)\n",
    "\n",
    "mix = mixture(methane, dodecane)\n",
    "# or\n",
    "mix = methane + dodecane\n",
    "\n",
    "# interaction parameter optimized from phase equilibria data\n",
    "kij = -0.02199102576365056\n",
    "Kij = np.array([[0, kij], [kij, 0]])\n",
    "mix.kij_saft(Kij)\n",
    "# or\n",
    "mix.set_kijsaft(i=0, j=1, kij0=kij)\n",
    "\n",
    "eos = saftvrmie(mix)\n",
    "eos.cii_correlation(overwrite = True)"
   ]
  },
  {
   "cell_type": "markdown",
   "metadata": {},
   "source": [
    "Mixtures calculations with SAFT-VR-Mie will be exemplified for the mixture of Hexane, Ethanol and CPME.\n",
    "\n",
    "First, the components are defined. Then a mixture and it's interactions are set up (including induced association)."
   ]
  },
  {
   "cell_type": "code",
   "execution_count": 3,
   "metadata": {},
   "outputs": [
    {
     "name": "stderr",
     "output_type": "stream",
     "text": [
      "/Users/gac21/Documents/sgtpy/sgtpy/vrmie_pure/ideal.py:25: RuntimeWarning: invalid value encountered in log\n",
      "  a = np.log(rho * broglie_vol**3) - 1\n"
     ]
    }
   ],
   "source": [
    "ethanol = component('ethanol2C', ms = 1.7728, sigma = 3.5592 , eps = 224.50,\n",
    "                    lambda_r = 11.319, lambda_a = 6., eAB = 3018.05, rcAB = 0.3547,\n",
    "                    rdAB = 0.4, sites = [1,0,1], cii= 5.3141080872882285e-20, Mw=46.07)\n",
    "\n",
    "cpme = component('cpme', ms =  2.32521144, sigma = 4.13606074, eps = 343.91193798, lambda_r = 14.15484877, \n",
    "                 lambda_a = 6.0, npol = 1.91990385,mupol = 1.27, sites=[0,0,1], cii = 3.5213681817448466e-19, Mw=100.16)\n",
    "\n",
    "hexane = component('hexane', ms = 1.96720036, sigma = 4.54762477, eps = 377.60127994, \n",
    "                   lambda_r = 18.41193194, npol = 0., cii = 3.581510586936205e-19, Mw=86.18 )\n",
    "\n",
    "# creating mixture\n",
    "mix = mixture(hexane, ethanol)\n",
    "# adding a component\n",
    "mix.add_component(cpme)\n",
    "\n",
    "# or \n",
    "mix = hexane + ethanol + cpme\n",
    "\n",
    "# setting kij corrections\n",
    "k12 = 0.011818492037463553\n",
    "k13 = 0.0008700151297528677\n",
    "k23 = 0.01015194\n",
    "Kij = np.array([[0., k12, k13], [k12, 0., k23], [k13, k23, 0.]])\n",
    "mix.kij_saft(Kij)\n",
    "\n",
    "# or by setting the kij interactions by pairs\n",
    "mix.set_kijsaft(i=0, j=1, kij0=k12)\n",
    "mix.set_kijsaft(i=0, j=2, kij0=k13)\n",
    "mix.set_kijsaft(i=1, j=2, kij0=k23)\n",
    "\n",
    "eos = saftvrmie(mix)\n",
    "\n",
    "# manual induced association set up \n",
    "rc = 2.23153033\n",
    "eos.eABij[1,2] = ethanol.eAB / 2\n",
    "eos.eABij[2,1] = ethanol.eAB / 2\n",
    "eos.rcij[1,2] = rc * 1e-10\n",
    "eos.rcij[2,1] = rc * 1e-10\n",
    "\n",
    "# or by using the eos._set_induced_asso method selfasso=1 (ethanol), inducedasso=2 (cpme)\n",
    "rc = 2.23153033 # Amstrong\n",
    "eos.set_induced_asso(selfasso=1, inducedasso=2, rcij=rc)"
   ]
  },
  {
   "cell_type": "markdown",
   "metadata": {},
   "source": [
    "The density of the mixture is computed with the ``eos.density`` method. It requires the composition, temperature (K), pressure (Pa) and the aggregation state (``'L'`` for liquid phase or ``'V'`` for vapor phase).\n",
    "\n",
    "When no initial guess has been provided. Topliss's method is used to initialize the density calculation."
   ]
  },
  {
   "cell_type": "code",
   "execution_count": 4,
   "metadata": {},
   "outputs": [
    {
     "data": {
      "text/plain": [
       "(9311.833947244264, 35.45814854270115)"
      ]
     },
     "execution_count": 4,
     "metadata": {},
     "output_type": "execute_result"
    }
   ],
   "source": [
    "T = 350.  # K\n",
    "P = 1e5  # Pa\n",
    "x = np.array([0.1, 0.3, 0.6])\n",
    "# computed density in mol/m3\n",
    "eos.density(x, T, P, 'L'), eos.density(x, T, P, 'V')"
   ]
  },
  {
   "cell_type": "markdown",
   "metadata": {},
   "source": [
    "Optionally, you can provide an initial guess to start computing the density. This is done with the ``rho0`` parameter.\n",
    "\n",
    "In this case, Newton's method is used to solve the density."
   ]
  },
  {
   "cell_type": "code",
   "execution_count": 5,
   "metadata": {},
   "outputs": [
    {
     "data": {
      "text/plain": [
       "9311.83394724426"
      ]
     },
     "execution_count": 5,
     "metadata": {},
     "output_type": "execute_result"
    }
   ],
   "source": [
    "T = 350.  # K\n",
    "P = 1e5  # Pa\n",
    "x = np.array([0.1, 0.3, 0.6])\n",
    "# computed density in mol/m3\n",
    "rho0 = 0.9*9311.833947244266\n",
    "eos.density(x, T, P, 'L', rho0=rho0)"
   ]
  },
  {
   "cell_type": "markdown",
   "metadata": {},
   "source": [
    "The pressure of the fluid mixture can be computed at given composition, molar density (mol/m3) and temperature (K) using the ``eos.pressure`` method."
   ]
  },
  {
   "cell_type": "code",
   "execution_count": 6,
   "metadata": {},
   "outputs": [
    {
     "data": {
      "text/plain": [
       "(99999.99999563358, 99999.99999968821)"
      ]
     },
     "execution_count": 6,
     "metadata": {},
     "output_type": "execute_result"
    }
   ],
   "source": [
    "T = 350.  # K\n",
    "x = np.array([0.1, 0.3, 0.6])\n",
    "rhol = 9311.833947244266  # mol/m3\n",
    "rhov = 35.4581485427012  # mol/m3\n",
    "#computed pressure in Pa\n",
    "eos.pressure(x, rhol, T), eos.pressure(x, rhov, T) "
   ]
  },
  {
   "cell_type": "markdown",
   "metadata": {},
   "source": [
    "The effective fugacity coefficients can be computed at given composition, temperature (K), pressure (Pa) and aggregation state using the ``eos.logfugef`` method. This function returns the natural logarithm of the fugacity coefficients and the computed volume root.\n",
    "\n",
    "The fugacity of the mixture can be computed with the ``eos.logfugmix`` method. It works similarly to the previous method. \n",
    "\n",
    "The chemical potential are computed at given  density vector ($\\rho_i = x_i \\rho $) (mol/m3) and temperature (K)."
   ]
  },
  {
   "cell_type": "code",
   "execution_count": 7,
   "metadata": {},
   "outputs": [
    {
     "name": "stdout",
     "output_type": "stream",
     "text": [
      "Partial molar property :  True\n"
     ]
    },
    {
     "data": {
      "text/plain": [
       "array([-1.25361318, -0.45605435, -1.03181168])"
      ]
     },
     "execution_count": 7,
     "metadata": {},
     "output_type": "execute_result"
    }
   ],
   "source": [
    "T = 350.  # K\n",
    "P = 1e5  # Pa\n",
    "x = np.array([0.1, 0.3, 0.6])\n",
    "\n",
    "lnphi, v = eos.logfugef(x, T, P, 'L')\n",
    "lnphimix, v = eos.logfugmix(x, T, P, 'L')\n",
    "\n",
    "print('Partial molar property : ', np.allclose(lnphimix, np.dot(lnphi, x)))\n",
    "\n",
    "\n",
    "rholv = x/v   # mol/m3\n",
    "# chemical potential divided by RT\n",
    "eos.muad(rholv, T)"
   ]
  },
  {
   "cell_type": "markdown",
   "metadata": {},
   "source": [
    "The ``eos`` object also includes the calculation of some thermal derived properties such as residual entropy (``eos.EntropyR``), residual enthalpy (``eos.EnthalpyR``), residual isochoric heat capacity (``eos.CvR``), residual isobaric heat capacity (``eos.CpR``).\n",
    "\n",
    "For the speed of sound calculation (``eos.speed_sound``) the ideal gas heat capacities are required, in the example, the isochoric and isobaric ideal gas contributions are set to $3R/2$ and $5R/2$, respectively. Better values of ideal gas heat capacities contribution can be found from empirical correlations, such as the provided by DIPPR 801."
   ]
  },
  {
   "cell_type": "code",
   "execution_count": 8,
   "metadata": {},
   "outputs": [
    {
     "name": "stdout",
     "output_type": "stream",
     "text": [
      "Residual Entropy :  -96.33130425662506 J / mol K\n",
      "Residual Enthalpy :  -34450.632081272895 J / mol\n",
      "Residual isochoric heat capacity :  27.424762820732038 J / mol K\n",
      "Residual isobaric heat capacity :  58.62708089324403 J / mol K\n",
      "Speed of sound :  1189.40813313884 m / s\n"
     ]
    }
   ],
   "source": [
    "Sr = eos.EntropyR(x, T, P, 'L')\n",
    "Hr = eos.EnthalpyR(x, T, P, 'L')\n",
    "Cpr = eos.CpR(x, T, P, 'L')\n",
    "Cvr = eos.CvR(x, 1./v, T)\n",
    "\n",
    "R = 8.314 # J / mol K\n",
    "CvId = 3*R/2\n",
    "CpId = 5*R/2\n",
    "w = eos.speed_sound(x, T, P, 'L', CvId=CvId, CpId=CpId)\n",
    "\n",
    "print('Residual Entropy : ', Sr, 'J / mol K')\n",
    "print('Residual Enthalpy : ', Hr, 'J / mol')\n",
    "print('Residual isochoric heat capacity : ', Cvr, 'J / mol K')\n",
    "print('Residual isobaric heat capacity : ', Cpr, 'J / mol K')\n",
    "print('Speed of sound : ', w, 'm / s')"
   ]
  },
  {
   "cell_type": "markdown",
   "metadata": {},
   "source": [
    "---\n",
    "For further information about each method check out the documentation running: ``eos.function?``"
   ]
  }
 ],
 "metadata": {
  "kernelspec": {
   "display_name": "thermo",
   "language": "python",
   "name": "python3"
  },
  "language_info": {
   "codemirror_mode": {
    "name": "ipython",
    "version": 3
   },
   "file_extension": ".py",
   "mimetype": "text/x-python",
   "name": "python",
   "nbconvert_exporter": "python",
   "pygments_lexer": "ipython3",
   "version": "3.9.7"
  }
 },
 "nbformat": 4,
 "nbformat_minor": 4
}
