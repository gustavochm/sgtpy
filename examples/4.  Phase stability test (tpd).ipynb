{
 "cells": [
  {
   "cell_type": "markdown",
   "metadata": {},
   "source": [
    "# Stability testing with Tangent Plane Distance (TPD) function\n",
    "\n",
    "The [tangent plane distance](https://www.sciencedirect.com/science/article/pii/0378381282850012) ($tpd$) function allows testing the relative stability of a phase of composition $z$ against a trial phase of composition $w$ at fixed temperature and pressure].\n",
    "\n",
    "\n",
    "$$ tpd(\\underline{w}) =  \\sum_{i=1}^c w_i (\\ln w_i +  \\ln \\hat{\\phi}_i(\\underline{w})\n",
    "- \\ln z_i - \\ln \\hat{\\phi}_i(\\underline{z})) $$\n",
    "\n",
    "Usually, this function is minimized to check the stability of the given phase based on the following criteria:\n",
    "- If the minimized $tpd$ is positive, the global phase $z$ is stable.\n",
    "- If the minimized $tpd$ is zero, the global phase $z$ and trial phase $w$ are in equilibrium.\n",
    "- If the minimized $tpd$ is negative, the global phase $z$ is unstable\n",
    "\n",
    "\n",
    "In this notebook, stability analysis for the mixture of water and butanol will be performed. To start, the required functions are imported."
   ]
  },
  {
   "cell_type": "code",
   "execution_count": 1,
   "metadata": {},
   "outputs": [],
   "source": [
    "import numpy as np\n",
    "from sgtpy import component, mixture, saftvrmie\n",
    "from sgtpy.equilibrium import tpd_min, tpd_minimas, lle_init"
   ]
  },
  {
   "cell_type": "markdown",
   "metadata": {},
   "source": [
    "Then, the mixture of water and butanol and its interaction parameters are set up."
   ]
  },
  {
   "cell_type": "code",
   "execution_count": 2,
   "metadata": {},
   "outputs": [],
   "source": [
    "# creating pure components\n",
    "water = component('water', ms = 1.7311, sigma = 2.4539 , eps = 110.85,\n",
    "                    lambda_r = 8.308, lambda_a = 6., eAB = 1991.07, rcAB = 0.5624,\n",
    "                    rdAB = 0.4, sites = [0,2,2], cii = 1.5371939421515458e-20)\n",
    "\n",
    "butanol = component('butanol2C', ms = 1.9651, sigma = 4.1077 , eps = 277.892,\n",
    "                    lambda_r = 10.6689, lambda_a = 6., eAB = 3300.0, rcAB = 0.2615,\n",
    "                    rdAB = 0.4, sites = [1,0,1], npol = 1.45, mupol = 1.6609,\n",
    "                    cii  = 1.5018715324070352e-19)\n",
    "mix = mixture(water, butanol)\n",
    "# or\n",
    "mix = water + butanol\n",
    "\n",
    "# optimized from experimental LLE\n",
    "kij, lij = np.array([-0.00736075, -0.00737153])\n",
    "Kij = np.array([[0, kij], [kij, 0]])\n",
    "Lij = np.array([[0., lij], [lij, 0]])\n",
    "\n",
    "# setting interactions corrections\n",
    "mix.kij_saft(Kij)\n",
    "mix.lij_saft(Lij)\n",
    "\n",
    "# or setting interaction between component i=0 (water) and j=1 (butanol)\n",
    "mix.set_kijsaft(i=0, j=1, kij0=kij)\n",
    "mix.set_lijsaft(i=0, j=1, lij0=lij)\n",
    "\n",
    "# creating eos model\n",
    "eos = saftvrmie(mix)"
   ]
  },
  {
   "cell_type": "markdown",
   "metadata": {},
   "source": [
    "----\n",
    "### tpd_min\n",
    "\n",
    "The ``tpd_min`` function searches for a phase composition corresponding to a minimum of $tpd$ function given an initial value. The user needs to specify whether the trial (W) and reference (Z) phases are liquids (``L``) or vapors (``V``)."
   ]
  },
  {
   "cell_type": "code",
   "execution_count": 3,
   "metadata": {},
   "outputs": [
    {
     "data": {
      "text/plain": [
       "(array([0.95593128, 0.04406872]), -0.011057869928523312)"
      ]
     },
     "execution_count": 3,
     "metadata": {},
     "output_type": "execute_result"
    }
   ],
   "source": [
    "T = 320 # K\n",
    "P = 1.01e5 # Pa\n",
    "z = np.array([0.8, 0.2])\n",
    "#Search for trial phase\n",
    "w = np.array([0.99, 0.01])\n",
    "tpd_min(w, z, T, P, eos, stateW = 'L', stateZ = 'L')\n",
    "#composition of minimum found and tpd value\n",
    "#(array([0.95593128, 0.04406872]), -0.011057869928527753)"
   ]
  },
  {
   "cell_type": "code",
   "execution_count": 4,
   "metadata": {},
   "outputs": [
    {
     "data": {
      "text/plain": [
       "(array([0.82414986, 0.17585014]), 0.8662935076215214)"
      ]
     },
     "execution_count": 4,
     "metadata": {},
     "output_type": "execute_result"
    }
   ],
   "source": [
    "w = np.array([0.99, 0.01])\n",
    "tpd_min(w, z, T, P, eos, stateW = 'V', stateZ = 'L')\n",
    "#composition of minimum found and tpd value\n",
    "#(array([0.82414986, 0.17585014]), 0.8662935076215186)"
   ]
  },
  {
   "cell_type": "markdown",
   "metadata": {},
   "source": [
    "---\n",
    "### tpd_minimas\n",
    "The ``tpd_minimas`` function will attempt (but does not guarantee) to search for ``nmin`` minima of the $tpd$ function. As for the ``tpd_min`` function, you need to specify the aggregation state of the global (``z``) and the trial phase (``w``)."
   ]
  },
  {
   "cell_type": "code",
   "execution_count": 5,
   "metadata": {},
   "outputs": [
    {
     "data": {
      "text/plain": [
       "((array([0.95593125, 0.04406875]), array([0.55571931, 0.44428069])),\n",
       " array([-0.01105787, -0.01083625]))"
      ]
     },
     "execution_count": 5,
     "metadata": {},
     "output_type": "execute_result"
    }
   ],
   "source": [
    "T = 320 # K\n",
    "P = 1.01e5 # Pa\n",
    "z = np.array([0.8, 0.2])\n",
    "nmin = 2\n",
    "tpd_minimas(nmin, z, T, P, eos, stateW='L', stateZ='L')"
   ]
  },
  {
   "cell_type": "code",
   "execution_count": 6,
   "metadata": {},
   "outputs": [
    {
     "data": {
      "text/plain": [
       "((array([0.82414943, 0.17585057]), array([0.82414943, 0.17585057])),\n",
       " array([0.86629351, 0.86629351]))"
      ]
     },
     "execution_count": 6,
     "metadata": {},
     "output_type": "execute_result"
    }
   ],
   "source": [
    "tpd_minimas(nmin, z, T, P, eos, stateW='V', stateZ='L')"
   ]
  },
  {
   "cell_type": "markdown",
   "metadata": {},
   "source": [
    "---\n",
    "### lle_init\n",
    "\n",
    "Finally, the ``lle_init`` function can be used to find initial guesses for liquid-liquid equilibrium calculation.\n",
    "\n",
    "This function call ``tpd_minimas`` with ``nmin=2`` and liquid state for trial and global phase."
   ]
  },
  {
   "cell_type": "code",
   "execution_count": 7,
   "metadata": {},
   "outputs": [
    {
     "data": {
      "text/plain": [
       "(array([0.95593125, 0.04406875]), array([0.55570209, 0.44429791]))"
      ]
     },
     "execution_count": 7,
     "metadata": {},
     "output_type": "execute_result"
    }
   ],
   "source": [
    "T = 320 # K\n",
    "P = 1.01e5 # Pa\n",
    "z = np.array([0.8, 0.2])\n",
    "lle_init(z, T, P, eos)"
   ]
  },
  {
   "cell_type": "markdown",
   "metadata": {},
   "source": [
    "---\n",
    "For further information about each function check out the documentation running: ``function?``"
   ]
  }
 ],
 "metadata": {
  "kernelspec": {
   "display_name": "thermo",
   "language": "python",
   "name": "python3"
  },
  "language_info": {
   "codemirror_mode": {
    "name": "ipython",
    "version": 3
   },
   "file_extension": ".py",
   "mimetype": "text/x-python",
   "name": "python",
   "nbconvert_exporter": "python",
   "pygments_lexer": "ipython3",
   "version": "3.9.7"
  }
 },
 "nbformat": 4,
 "nbformat_minor": 4
}
