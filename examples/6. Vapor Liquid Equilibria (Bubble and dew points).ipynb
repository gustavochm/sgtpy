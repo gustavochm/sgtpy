{
 "cells": [
  {
   "cell_type": "markdown",
   "metadata": {},
   "source": [
    "# Vapor liquid Equilibria: Bubble and dew Points\n",
    "\n",
    "The isothermal-isobaric two-phase flash is the base for the calculation Vapor-Liquid Equilibria. This calculation is based on the solution of the Rachford-Rice mass balance. \n",
    "\n",
    "$$ FO = \\sum_{i=1}^c \\left( x_i^\\beta - x_i^\\alpha \\right) = \\sum_{i=1}^c \\frac{z_i (K_i-1)}{1+\\psi (K_i-1)} $$\n",
    "\n",
    "\n",
    "Where,  $K_i = x_i^\\beta/x_i^\\alpha =\\hat{\\phi}_i^\\alpha /\\hat{\\phi}_i^\\beta  $ represents the equilibrium constant  and $\\psi$ the fraction of the phase $\\beta$. For bubble and dew points calculations the phase fraction $\\psi$ is known beforehand and set to 0 for bubble points (differential size bubble) and to 1 for dew point (differential size liquid drop).\n",
    "\n",
    "The Rachford-Rice mass balance reduces to the following equations:\n",
    "\n",
    "### Bubble\n",
    "\n",
    "$$ FO = \\sum_{i=1}^c x_i (K_i-1) = \\sum_{i=1}^c y_i -1 = 0 $$\n",
    "\n",
    "\n",
    "###  Dew \n",
    "\n",
    "$$ FO = 1 - \\sum_{i=1}^c \\frac{y_i}{K_i} = 1 - \\sum_{i=1}^c x_i = 0 $$\n",
    "\n",
    "\n",
    "The solution of these calculations includes using accelerated successive substitution (ASS) to update the phase compositions in an inner loop and the quasi-Newton method is used to update pressure or temperature in an outer loop. If slow convergence is detected, the algorithm attempts to solve the following system of equations using equilibrium constants, $K$, as iteration variables. This is done using SciPy's optimization routines.\n",
    "\n",
    "$$ f_i = \\ln K_i + \\ln \\hat{\\phi}_i^v(\\underline{y}, T, P) -\\ln \\hat{\\phi}_i^l(\\underline{x}, T, P) \\quad i = 1,...,c $$\n",
    "$$ f_{c+1} = \\sum_{i=1}^c (y_i-x_i) $$\n",
    "\n",
    "\n",
    "**note:** these calculations does not check for the stability of the phases."
   ]
  },
  {
   "cell_type": "code",
   "execution_count": 1,
   "metadata": {},
   "outputs": [],
   "source": [
    "import numpy as np\n",
    "from sgtpy import component, mixture, saftvrmie\n",
    "from sgtpy.equilibrium import bubblePy, bubbleTy\n",
    "from sgtpy.equilibrium import dewPx, dewTx"
   ]
  },
  {
   "cell_type": "markdown",
   "metadata": {},
   "source": [
    "---\n",
    "### Bubble point calculation\n",
    "\n",
    "This calculation will be exemplified for the mixture of hexane and ethanol."
   ]
  },
  {
   "cell_type": "code",
   "execution_count": 2,
   "metadata": {},
   "outputs": [
    {
     "name": "stderr",
     "output_type": "stream",
     "text": [
      "/Users/gac21/Documents/sgtpy/sgtpy/vrmie_pure/ideal.py:25: RuntimeWarning: invalid value encountered in log\n",
      "  a = np.log(rho * broglie_vol**3) - 1\n"
     ]
    }
   ],
   "source": [
    "ethanol = component('ethanol2C', ms = 1.7728, sigma = 3.5592 , eps = 224.50,\n",
    "                    lambda_r = 11.319, lambda_a = 6., eAB = 3018.05, rcAB = 0.3547,\n",
    "                    rdAB = 0.4, sites = [1,0,1], cii= 5.3141080872882285e-20)\n",
    "\n",
    "hexane = component('hexane', ms = 1.96720036, sigma = 4.54762477, eps = 377.60127994, \n",
    "                   lambda_r = 18.41193194, cii = 3.581510586936205e-19)\n",
    "\n",
    "mix = mixture(hexane, ethanol)\n",
    "# or\n",
    "mix = hexane + ethanol\n",
    "\n",
    "# fitted to experimental data\n",
    "kij = 0.011818492037463553\n",
    "Kij = np.array([[0, kij], [kij, 0]])\n",
    "mix.kij_saft(Kij)\n",
    "\n",
    "# or by setting the kij interactions by pairs i=0 (hexane), j=1 (ethanol)\n",
    "mix.set_kijsaft(i=0, j=1, kij0=kij)\n",
    "\n",
    "eos = saftvrmie(mix)"
   ]
  },
  {
   "cell_type": "markdown",
   "metadata": {},
   "source": [
    "#### Bubble point algorithm x, P -> y, T"
   ]
  },
  {
   "cell_type": "code",
   "execution_count": 3,
   "metadata": {},
   "outputs": [
    {
     "data": {
      "text/plain": [
       "(array([0.58026271, 0.41973729]), 333.4526662285506)"
      ]
     },
     "execution_count": 3,
     "metadata": {},
     "output_type": "execute_result"
    }
   ],
   "source": [
    "# bubble point conditions\n",
    "P = 1.01325e5  # Pa\n",
    "x = np.array([0.2, 0.8])\n",
    "# initial guess for temperature and vapor composition\n",
    "T0 = 320.\n",
    "y0 = np.array([0.8, 0.2])\n",
    "# vapor composition and equilibrium temperature\n",
    "bubbleTy(y0, T0, x, P, eos)"
   ]
  },
  {
   "cell_type": "markdown",
   "metadata": {},
   "source": [
    "#### Bubble point algorithm x, T -> y, P"
   ]
  },
  {
   "cell_type": "code",
   "execution_count": 4,
   "metadata": {},
   "outputs": [
    {
     "data": {
      "text/plain": [
       "(array([0.52007489, 0.47992511]), 178462.05087828694)"
      ]
     },
     "execution_count": 4,
     "metadata": {},
     "output_type": "execute_result"
    }
   ],
   "source": [
    "# bubble point conditions\n",
    "T = 350.  # K\n",
    "x = np.array([0.2, 0.8])\n",
    "# initial guess for tempertature and vapor composition\n",
    "P0 = 1e5 # Pa\n",
    "y0 = np.array([0.8, 0.2])\n",
    "# vapor composition and equilibrium pressure\n",
    "bubblePy(y0, P0, x, T, eos)"
   ]
  },
  {
   "cell_type": "markdown",
   "metadata": {},
   "source": [
    "---\n",
    "### Dew point calculation\n",
    "\n",
    "This calculation will be exemplified for the mixture of ethanol and cpme."
   ]
  },
  {
   "cell_type": "code",
   "execution_count": 5,
   "metadata": {},
   "outputs": [],
   "source": [
    "ethanol = component('ethanol2C', ms = 1.7728, sigma = 3.5592 , eps = 224.50,\n",
    "                    lambda_r = 11.319, lambda_a = 6., eAB = 3018.05, rcAB = 0.3547,\n",
    "                    rdAB = 0.4, sites = [1,0,1], cii= 5.3141080872882285e-20)\n",
    "\n",
    "cpme = component('cpme', ms =  2.32521144, sigma = 4.13606074, eps = 343.91193798, lambda_r = 14.15484877, \n",
    "                 lambda_a = 6.0, npol = 1.91990385,mupol = 1.27, sites =[0,0,1], cii = 3.5213681817448466e-19)\n",
    "\n",
    "mix = mixture(ethanol, cpme)\n",
    "#or \n",
    "mix = ethanol + cpme\n",
    "\n",
    "kij = 0.01015194\n",
    "Kij = np.array([[0, kij], [kij, 0]])\n",
    "mix.kij_saft(Kij)\n",
    "\n",
    "# or by setting the kij interactions by pairs i=0 (ethanol), j=1 (cpme)\n",
    "mix.set_kijsaft(i=0, j=1, kij0=kij)\n",
    "\n",
    "eos = saftvrmie(mix)\n",
    "\n",
    "# manually induced association set up\n",
    "rc = 2.23153033 # Angstrom\n",
    "eos.eABij[0,1] = ethanol.eAB / 2\n",
    "eos.eABij[1,0] = ethanol.eAB / 2\n",
    "eos.rcij[0,1] = rc * 1e-10\n",
    "eos.rcij[1,0] = rc * 1e-10\n",
    "\n",
    "# or by using the eos._set_induced_asso method selfasso=0 (ethanol), inducedasso=1 (cpme)\n",
    "rc = 2.23153033 # Amstrong\n",
    "eos.set_induced_asso(selfasso=0, inducedasso=1, rcij=rc)\n"
   ]
  },
  {
   "cell_type": "markdown",
   "metadata": {},
   "source": [
    "#### Dew point algorithm y, P -> x, T"
   ]
  },
  {
   "cell_type": "code",
   "execution_count": 6,
   "metadata": {},
   "outputs": [
    {
     "data": {
      "text/plain": [
       "(array([0.10611088, 0.89388912]), 364.35963824677856)"
      ]
     },
     "execution_count": 6,
     "metadata": {},
     "output_type": "execute_result"
    }
   ],
   "source": [
    "# dew point conditions\n",
    "P = 1.01325e5  # Pa\n",
    "y = np.array([0.4, 0.6])\n",
    "# initial guess for temperature and liquid composition\n",
    "T0 = 350.\n",
    "x0 = np.array([0.2, 0.8])\n",
    "# liquid composition and equilibrium temperature\n",
    "dewTx(x0, T0, y, P, eos)"
   ]
  },
  {
   "cell_type": "markdown",
   "metadata": {},
   "source": [
    "#### Dew point algorithm y, T -> x, P"
   ]
  },
  {
   "cell_type": "code",
   "execution_count": 7,
   "metadata": {},
   "outputs": [
    {
     "data": {
      "text/plain": [
       "(array([0.10431591, 0.89568409]), 62927.005990081736)"
      ]
     },
     "execution_count": 7,
     "metadata": {},
     "output_type": "execute_result"
    }
   ],
   "source": [
    "# dew point conditions\n",
    "T = 350. # K\n",
    "y = np.array([0.4, 0.6])\n",
    "# initial guess for temperature and liquid composition\n",
    "P0 = 1e5 # Pa\n",
    "x0 = np.array([0.2, 0.8])\n",
    "# liquid composition and equilibrium pressure\n",
    "dewPx(x0, P0, y, T, eos)\n"
   ]
  },
  {
   "cell_type": "markdown",
   "metadata": {},
   "source": [
    "Optionally, for any of these VLE computation functions you can supply initial guesses for the phase volumes (``v0``) or the non-bonded association sites solution (``Xass0``) for any of these functions. These initial guesses can be obtained from previous computations and the ``full_output=True`` option."
   ]
  },
  {
   "cell_type": "code",
   "execution_count": 8,
   "metadata": {},
   "outputs": [
    {
     "data": {
      "text/plain": [
       "      T: 350.0\n",
       "      P: 62927.005990081736\n",
       "  error: 2.922107000813412e-13\n",
       "   iter: 4\n",
       "      X: array([0.10431591, 0.89568409])\n",
       "     v1: 0.00011750327689991785\n",
       "  Xassl: array([0.10966821, 0.76435795, 0.92768912])\n",
       " state1: 'Liquid'\n",
       "      Y: array([0.4, 0.6])\n",
       "     v2: 0.045319291666918365\n",
       "  Xassv: array([0.97993889, 0.99147469, 0.99792689])\n",
       " state2: 'Vapor'\n",
       " method: 'quasi-newton + ASS'"
      ]
     },
     "execution_count": 8,
     "metadata": {},
     "output_type": "execute_result"
    }
   ],
   "source": [
    "sol_dew = dewPx(x0, P0, y, T, eos, full_output=True)\n",
    "sol_dew"
   ]
  },
  {
   "cell_type": "code",
   "execution_count": 9,
   "metadata": {},
   "outputs": [
    {
     "data": {
      "text/plain": [
       "      T: 350.0\n",
       "      P: 62927.00599008199\n",
       "  error: 1.7408297026122455e-13\n",
       "   iter: 4\n",
       "      X: array([0.10431591, 0.89568409])\n",
       "     v1: 0.00011750327689895447\n",
       "  Xassl: array([0.10966821, 0.76435795, 0.92768912])\n",
       " state1: 'Liquid'\n",
       "      Y: array([0.4, 0.6])\n",
       "     v2: 0.045319291666895925\n",
       "  Xassv: array([0.97993889, 0.99147469, 0.99792689])\n",
       " state2: 'Vapor'\n",
       " method: 'quasi-newton + ASS'"
      ]
     },
     "execution_count": 9,
     "metadata": {},
     "output_type": "execute_result"
    }
   ],
   "source": [
    "# VLE supplying initial guess for volumes and non-bonded association sites fractions\n",
    "v0 = [sol_dew.v1, sol_dew.v2]\n",
    "Xass0 = [sol_dew.Xassl, sol_dew.Xassv]\n",
    "dewPx(x0, P0, y, T, eos, v0=v0, Xass0=Xass0, full_output=True)"
   ]
  },
  {
   "cell_type": "markdown",
   "metadata": {},
   "source": [
    "---\n",
    "For further information about each function check out the documentation running: ``function?``"
   ]
  }
 ],
 "metadata": {
  "kernelspec": {
   "display_name": "thermo",
   "language": "python",
   "name": "python3"
  },
  "language_info": {
   "codemirror_mode": {
    "name": "ipython",
    "version": 3
   },
   "file_extension": ".py",
   "mimetype": "text/x-python",
   "name": "python",
   "nbconvert_exporter": "python",
   "pygments_lexer": "ipython3",
   "version": "3.9.7"
  }
 },
 "nbformat": 4,
 "nbformat_minor": 4
}
