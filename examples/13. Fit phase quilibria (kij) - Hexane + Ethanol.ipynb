{
 "cells": [
  {
   "cell_type": "markdown",
   "metadata": {},
   "source": [
    "# Fit $k_{ij}$ interactions parameter of Hexane and Ethanol\n",
    "\n",
    "\n",
    "---\n",
    "Let's call $\\underline{\\xi}$ the optimization parameters of a mixture. In order to optimize them, you need to provide experimental phase equilibria data. This can include VLE, LLE and VLLE data. The objective function used for each equilibria type are shown below:\n",
    "\n",
    "\n",
    "### Vapor-Liquid Equilibria Data\n",
    "\n",
    "\n",
    "$$ OF_{VLE}(\\underline{\\xi}) = w_y \\sum_{j=1}^{Np} \\left[ \\sum_{i=1}^c (y_{i,j}^{cal} - y_{i,j}^{exp})^2 \\right] +  w_P \\sum_{j=1}^{Np} \\left[ \\frac{P_{j}^{cal} - P_{j}^{exp}}{P_{j}^{exp}} \\right]^2$$\n",
    "\n",
    "Where, $Np$ is the number of experimental data points, $y_i$ is the vapor molar fraction of the component $i$ and $P$ is the bubble pressure. The superscripts $cal$ and $exp$ refers to the computed and experimental values, respectively. Finally, $w_y$ is the weight for the vapor composition error and $w_P$ is the weight for the bubble pressure error.\n",
    "\n",
    "\n",
    "### Liquid-Liquid Equilibria Data\n",
    "$$ OF_{LLE}(\\underline{\\xi}) = w_x \\sum_{j=1}^{Np} \\sum_{i=1}^c  \\left[x_{i,j} - x_{i,j}^{exp}\\right]^2 +  w_w \\sum_{j=1}^{Np} \\sum_{i=1}^c \\left[ w_{i,j} - w_{i,j}^{exp} \\right]^2 $$\n",
    "\n",
    "Where, $Np$ is the number of experimental data points, $x_i$ and $w_i$ are the molar fraction of the component $i$ on the liquids phases. The superscripts $cal$ and $exp$ refers to the computed and experimental values, respectively. Finally, $w_x$ and $w_w$ are the weights for the liquid 1 ($x$) and liquid 2 ($w$) composition error.\n",
    "\n",
    "\n",
    "### Vapor-Liquid-Liquid Equilibria Data\n",
    "$$ OF_{VLLE}(\\underline{\\xi}) = w_x \\sum_{j=1}^{Np}  \\sum_{i=1}^c  \\left[x_{i,j}^{cal} - x_{i,j}^{exp}\\right]^2 + w_w \\sum_{j=1}^{Np}  \\sum_{i=1}^c  \\left[w_{i,j}^{cal} - w_{i,j}^{exp}\\right]^2 +  w_y \\sum_{j=1}^{Np}  \\sum_{i=1}^c  \\left[y_{i,j}^{cal} - y_{i,j}^{exp}\\right]^2 + w_P \\sum_{j=1}^{Np}  \\left[ \\frac{P_{j}^{cal}}{P_{j}^{exp}} - 1\\right]^2 $$\n",
    "\n",
    "Where, $Np$ is the number of experimental data points, $y_i$, $x_i$ and $w_i$ are the molar fraction of the component $i$ on the vapor and liquids phases, respectively. The superscripts $cal$ and $exp$ refers to the computed and experimental values, respectively. Finally, $w_x$ and $w_w$ are the weights for the liquid 1 ($x$) and liquid 2 ($w$) composition error, $w_y$ is the weight for vapor composition error and $w_P$ is weight for three phase equilibria pressure error.\n",
    "\n",
    "If there is data for more than one equilibria type, the errors can be added accordinly. So the objective funcion becomes:\n",
    "\n",
    "$$ OF(\\underline{\\xi}) =OF_{ELV}(\\underline{\\xi}) + OF_{ELL}(\\underline{\\xi}) + OF_{ELLV}(\\underline{\\xi})$$\n",
    "\n",
    "\n",
    "---\n",
    "This notebook has te purpose of showing how to optimize the $k_{ij}$ for a mixture in SGTPy. This parameters corrects the cross-interaction energy used for Mie potential interactions:\n",
    "\n",
    "$$ \\epsilon_{ij} = (1-k_{ij}) \\frac{\\sqrt{\\sigma_i^3 \\sigma_j^3}}{\\sigma_{ij}^3} \\sqrt{\\epsilon_i \\epsilon_j}$$ \n",
    "\n",
    "\n",
    "First, it's needed to import the necessary modules:"
   ]
  },
  {
   "cell_type": "code",
   "execution_count": 1,
   "metadata": {},
   "outputs": [],
   "source": [
    "import numpy as np\n",
    "\n",
    "from sgtpy import component, mixture, saftvrmie\n",
    "from sgtpy.fit import fit_kij"
   ]
  },
  {
   "cell_type": "markdown",
   "metadata": {},
   "source": [
    "Now that the functions are available it is necessary to create the mixture."
   ]
  },
  {
   "cell_type": "code",
   "execution_count": 2,
   "metadata": {},
   "outputs": [],
   "source": [
    "ethanol = component('ethanol2C', ms = 1.7728, sigma = 3.5592 , eps = 224.50,\n",
    "                    lambda_r = 11.319, lambda_a = 6., eAB = 3018.05, rcAB = 0.3547,\n",
    "                    rdAB = 0.4, sites = [1,0,1], cii= 5.3141080872882285e-20)\n",
    "\n",
    "hexane = component('hexane', ms = 1.96720036, sigma = 4.54762477, eps = 377.60127994, \n",
    "                   lambda_r = 18.41193194, cii = 3.581510586936205e-19)\n",
    "\n",
    "mix = mixture(hexane, ethanol)"
   ]
  },
  {
   "cell_type": "markdown",
   "metadata": {},
   "source": [
    "Now the experimental equilibria data is read and a tuple is created. It includes the experimental liquid composition, vapor composition, equilibrium temperature and pressure. This is done with ```datavle = (Xexp, Yexp, Texp, Pexp)```\n"
   ]
  },
  {
   "cell_type": "code",
   "execution_count": 3,
   "metadata": {},
   "outputs": [],
   "source": [
    "# Experimental data obtained from Sinor, Weber, J. Chem. Eng. Data, vol. 5, no. 3, pp. 243–247, 1960.\n",
    "\n",
    "# Experimental temperature saturation in K\n",
    "Texp = np.array([351.45, 349.15, 346.35, 340.55, 339.05, 334.95, 332.55, 331.85,\n",
    "       331.5 , 331.25, 331.15, 331.4 , 331.6 , 332.3 , 333.35, 336.65,\n",
    "       339.85, 341.85])\n",
    "\n",
    "# Experimental pressure in Pa\n",
    "Pexp = np.array([101330., 101330., 101330., 101330., 101330., 101330., 101330.,\n",
    "       101330., 101330., 101330., 101330., 101330., 101330., 101330.,\n",
    "       101330., 101330., 101330., 101330.])\n",
    "\n",
    "# Experimental liquid composition\n",
    "Xexp = np.array([[0.   , 0.01 , 0.02 , 0.06 , 0.08 , 0.152, 0.245, 0.333, 0.452,\n",
    "        0.588, 0.67 , 0.725, 0.765, 0.898, 0.955, 0.99 , 0.994, 1.   ],\n",
    "       [1.   , 0.99 , 0.98 , 0.94 , 0.92 , 0.848, 0.755, 0.667, 0.548,\n",
    "        0.412, 0.33 , 0.275, 0.235, 0.102, 0.045, 0.01 , 0.006, 0.   ]])\n",
    "\n",
    "# Experimental vapor composition\n",
    "Yexp = np.array([[0.   , 0.095, 0.193, 0.365, 0.42 , 0.532, 0.605, 0.63 , 0.64 ,\n",
    "        0.65 , 0.66 , 0.67 , 0.675, 0.71 , 0.745, 0.84 , 0.935, 1.   ],\n",
    "       [1.   , 0.905, 0.807, 0.635, 0.58 , 0.468, 0.395, 0.37 , 0.36 ,\n",
    "        0.35 , 0.34 , 0.33 , 0.325, 0.29 , 0.255, 0.16 , 0.065, 0.   ]])\n",
    "\n",
    "datavle = (Xexp, Yexp, Texp, Pexp)"
   ]
  },
  {
   "cell_type": "markdown",
   "metadata": {},
   "source": [
    "The function ```fit_kij``` optimize the $k_{ij}$. The function requires bounds for the parameter, as well as the mixture object and the equilibria data. Optionally, the ```minimize_options``` option allows modifying the minimizer default parameters."
   ]
  },
  {
   "cell_type": "code",
   "execution_count": 4,
   "metadata": {},
   "outputs": [
    {
     "name": "stderr",
     "output_type": "stream",
     "text": [
      "/Users/gac21/Documents/sgtpy/sgtpy/vrmie_pure/ideal.py:25: RuntimeWarning: invalid value encountered in log\n",
      "  a = np.log(rho * broglie_vol**3) - 1\n"
     ]
    },
    {
     "data": {
      "text/plain": [
       "     fun: 0.0004784643525457749\n",
       "    nfev: 21\n",
       "     nit: 17\n",
       " success: True\n",
       "       x: 0.011818387868028623"
      ]
     },
     "execution_count": 4,
     "metadata": {},
     "output_type": "execute_result"
    }
   ],
   "source": [
    "# bounds fors kij\n",
    "kij_bounds = (-0.01, 0.01)\n",
    "fit_kij(kij_bounds, mix, datavle = datavle)"
   ]
  },
  {
   "cell_type": "markdown",
   "metadata": {},
   "source": [
    "If the mixture exhibits other equilibria types you can supply this experimental data to the ``datalle`` or ``datavlle`` parameters.\n",
    "\n",
    "- ``datalle``: (Xexp, Wexp, Texp, Pexp)\n",
    "- ``datavlle``: (Xexp, Wexp, Yexp, Texp, Pexp)\n",
    "\n",
    "You can specify the weights for each objetive function through the following parameters:\n",
    "\n",
    "- ``weights_vle``: list or array_like, weights for the VLE objective function.\n",
    "        - weights_vle[0] = weight for Y composition error, default to 1.\n",
    "        - weights_vle[1] = weight for bubble pressure error, default to 1.\n",
    "- ``weights_lle``: list or array_like, weights for the LLE objective function.\n",
    "        - weights_lle[0] = weight for X (liquid 1) composition error, default to 1.\n",
    "        - weights_lle[1] = weight for W (liquid 2) composition error, default to 1.\n",
    "- ``weights_vlle``: list or array_like, weights for the VLLE objective function.\n",
    "        - weights_vlle[0] = weight for X (liquid 1) composition error, default to 1.\n",
    "        - weights_vlle[1] = weight for W (liquid 2) composition error, default to 1.\n",
    "        - weights_vlle[2] = weight for Y (vapor) composition error, default to 1.\n",
    "        - weights_vlle[3] = weight for equilibrium pressure error, default to 1.\n",
    "\n",
    "Additionally, you can set options to the SciPy's ``minimize_scalar`` function using the ``minimize_options`` parameter.\n",
    "\n",
    "For more information just run:\n",
    "```fit_kij?```"
   ]
  },
  {
   "cell_type": "code",
   "execution_count": null,
   "metadata": {},
   "outputs": [],
   "source": []
  }
 ],
 "metadata": {
  "kernelspec": {
   "display_name": "thermo",
   "language": "python",
   "name": "python3"
  },
  "language_info": {
   "codemirror_mode": {
    "name": "ipython",
    "version": 3
   },
   "file_extension": ".py",
   "mimetype": "text/x-python",
   "name": "python",
   "nbconvert_exporter": "python",
   "pygments_lexer": "ipython3",
   "version": "3.9.7"
  }
 },
 "nbformat": 4,
 "nbformat_minor": 4
}
