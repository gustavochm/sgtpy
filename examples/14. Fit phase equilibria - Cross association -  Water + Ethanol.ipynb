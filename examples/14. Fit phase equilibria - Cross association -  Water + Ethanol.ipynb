{
 "cells": [
  {
   "cell_type": "markdown",
   "metadata": {},
   "source": [
    "# Fit $k_{ij}$  and $l_{ij}$ interactions parameters of Ethanol and Water\n",
    "\n",
    "---\n",
    "Let's call $\\underline{\\xi}$ the optimization parameters of a mixture. In order to optimize them, you need to provide experimental phase equilibria data. This can include VLE, LLE and VLLE data. The objective function used for each equilibria type are shown below:\n",
    "\n",
    "\n",
    "### Vapor-Liquid Equilibria Data\n",
    "\n",
    "\n",
    "$$ OF_{VLE}(\\underline{\\xi}) = w_y \\sum_{j=1}^{Np} \\left[ \\sum_{i=1}^c (y_{i,j}^{cal} - y_{i,j}^{exp})^2 \\right] +  w_P \\sum_{j=1}^{Np} \\left[ \\frac{P_{j}^{cal} - P_{j}^{exp}}{P_{j}^{exp}} \\right]^2$$\n",
    "\n",
    "Where, $Np$ is the number of experimental data points, $y_i$ is the vapor molar fraction of the component $i$ and $P$ is the bubble pressure. The superscripts $cal$ and $exp$ refers to the computed and experimental values, respectively. Finally, $w_y$ is the weight for the vapor composition error and $w_P$ is the weight for the bubble pressure error.\n",
    "\n",
    "\n",
    "### Liquid-Liquid Equilibria Data\n",
    "$$ OF_{LLE}(\\underline{\\xi}) = w_x \\sum_{j=1}^{Np} \\sum_{i=1}^c  \\left[x_{i,j} - x_{i,j}^{exp}\\right]^2 +  w_w \\sum_{j=1}^{Np} \\sum_{i=1}^c \\left[ w_{i,j} - w_{i,j}^{exp} \\right]^2 $$\n",
    "\n",
    "Where, $Np$ is the number of experimental data points, $x_i$ and $w_i$ are the molar fraction of the component $i$ on the liquids phases. The superscripts $cal$ and $exp$ refers to the computed and experimental values, respectively. Finally, $w_x$ and $w_w$ are the weights for the liquid 1 ($x$) and liquid 2 ($w$) composition error.\n",
    "\n",
    "\n",
    "### Vapor-Liquid-Liquid Equilibria Data\n",
    "$$ OF_{VLLE}(\\underline{\\xi}) = w_x \\sum_{j=1}^{Np}  \\sum_{i=1}^c  \\left[x_{i,j}^{cal} - x_{i,j}^{exp}\\right]^2 + w_w \\sum_{j=1}^{Np}  \\sum_{i=1}^c  \\left[w_{i,j}^{cal} - w_{i,j}^{exp}\\right]^2 +  w_y \\sum_{j=1}^{Np}  \\sum_{i=1}^c  \\left[y_{i,j}^{cal} - y_{i,j}^{exp}\\right]^2 + w_P \\sum_{j=1}^{Np}  \\left[ \\frac{P_{j}^{cal}}{P_{j}^{exp}} - 1\\right]^2 $$\n",
    "\n",
    "Where, $Np$ is the number of experimental data points, $y_i$, $x_i$ and $w_i$ are the molar fraction of the component $i$ on the vapor and liquids phases, respectively. The superscripts $cal$ and $exp$ refers to the computed and experimental values, respectively. Finally, $w_x$ and $w_w$ are the weights for the liquid 1 ($x$) and liquid 2 ($w$) composition error, $w_y$ is the weight for vapor composition error and $w_P$ is weight for three phase equilibria pressure error.\n",
    "\n",
    "If there is data for more than one equilibria type, the errors can be added accordinly. So the objective funcion becomes:\n",
    "\n",
    "$$ OF(\\underline{\\xi}) =OF_{ELV}(\\underline{\\xi}) + OF_{ELL}(\\underline{\\xi}) + OF_{ELLV}(\\underline{\\xi})$$\n",
    "\n",
    "---\n",
    "This notebook has the purpose of showing how to optimize the $k_{ij}$ and $l_{ij}$ for a mixture in SGTPy. These parameters corrects the cross-interaction energy used for Mie potential interactions and the cross-interaction association energy:\n",
    "\n",
    "$$\\epsilon_{ij} = (1-k_{ij}) \\frac{\\sqrt{\\sigma_i^3 \\sigma_j^3}}{\\sigma_{ij}^3} \\sqrt{\\epsilon_i \\epsilon_j} ;\\qquad \\epsilon_{ij}^{AB} = (1 - l_{ij})\\sqrt{\\epsilon_{ii}^{AB} \\epsilon_{jj}^{AB}}$$ \n",
    "\n",
    "\n",
    "\n",
    "\n",
    "First, it's needed to import the necessary modules"
   ]
  },
  {
   "cell_type": "code",
   "execution_count": 1,
   "metadata": {},
   "outputs": [],
   "source": [
    "import numpy as np\n",
    "\n",
    "from sgtpy import component, mixture, saftvrmie\n",
    "from sgtpy.equilibrium import bubblePy\n",
    "from sgtpy.fit import fit_asso"
   ]
  },
  {
   "cell_type": "markdown",
   "metadata": {},
   "source": [
    "Now that the functions are available it is necessary to create the mixture."
   ]
  },
  {
   "cell_type": "code",
   "execution_count": 2,
   "metadata": {},
   "outputs": [],
   "source": [
    "water = component('water', ms = 1.7311, sigma = 2.4539 , eps = 110.85,\n",
    "                    lambda_r = 8.308, lambda_a = 6.,  eAB = 1991.07, rcAB = 0.5624,\n",
    "                    rdAB = 0.4, sites = [0,2,2], cii = 1.5371939421515455e-20)\n",
    "\n",
    "ethanol = component('ethanol2C', ms = 1.7728, sigma = 3.5592 , eps = 224.50,\n",
    "                    lambda_r = 11.319, lambda_a = 6., eAB = 3018.05, rcAB = 0.3547,\n",
    "                    rdAB = 0.4, sites = [1,0,1], cii= 5.3141080872882285e-20)\n",
    "\n",
    "mix = mixture(ethanol, water)"
   ]
  },
  {
   "cell_type": "markdown",
   "metadata": {},
   "source": [
    "Now the experimental equilibria data is read and a tuple is created. It includes the experimental liquid composition, vapor composition, equilibrium temperature and pressure. This is done with ```datavle = (Xexp, Yexp, Texp, Pexp)```"
   ]
  },
  {
   "cell_type": "code",
   "execution_count": 3,
   "metadata": {},
   "outputs": [],
   "source": [
    "# Experimental data obtained from So-Jin Park a,∗, Kyu-Jin Han a, J. Gmehling b\n",
    "\n",
    "# Experimental temperature saturation in K\n",
    "Texp = np.array([372.45, 370.05, 369.15, 369.15, 368.75, 367.95, 366.95, 366.65,\n",
    "       366.05, 363.65, 363.65, 362.55, 361.55, 361.75, 360.35, 358.55,\n",
    "       357.65, 357.15, 356.55, 356.15, 355.45, 355.15, 354.55, 354.65,\n",
    "       354.35, 354.05, 353.65, 353.35, 353.15, 352.65, 351.95, 351.65,\n",
    "       351.55, 351.45])\n",
    "\n",
    "# Experimental pressure in Pa\n",
    "Pexp = np.array([101300., 101300., 101300., 101300., 101300., 101300., 101300.,\n",
    "       101300., 101300., 101300., 101300., 101300., 101300., 101300.,\n",
    "       101300., 101300., 101300., 101300., 101300., 101300., 101300.,\n",
    "       101300., 101300., 101300., 101300., 101300., 101300., 101300.,\n",
    "       101300., 101300., 101300., 101300., 101300., 101300.])\n",
    "\n",
    "# Experimental liquid composition\n",
    "Xexp = np.array([[0.0028, 0.0118, 0.0137, 0.0144, 0.0176, 0.0222, 0.0246, 0.0302,\n",
    "        0.0331, 0.0519, 0.053 , 0.0625, 0.0673, 0.0715, 0.0871, 0.126 ,\n",
    "        0.143 , 0.172 , 0.206 , 0.21  , 0.255 , 0.284 , 0.321 , 0.324 ,\n",
    "        0.345 , 0.405 , 0.43  , 0.449 , 0.506 , 0.545 , 0.663 , 0.735 ,\n",
    "        0.804 , 0.917 ],\n",
    "       [0.9972, 0.9882, 0.9863, 0.9856, 0.9824, 0.9778, 0.9754, 0.9698,\n",
    "        0.9669, 0.9481, 0.947 , 0.9375, 0.9327, 0.9285, 0.9129, 0.874 ,\n",
    "        0.857 , 0.828 , 0.794 , 0.79  , 0.745 , 0.716 , 0.679 , 0.676 ,\n",
    "        0.655 , 0.595 , 0.57  , 0.551 , 0.494 , 0.455 , 0.337 , 0.265 ,\n",
    "        0.196 , 0.083 ]])\n",
    "\n",
    "# Experimental vapor composition\n",
    "Yexp = np.array([[0.032, 0.113, 0.157, 0.135, 0.156, 0.186, 0.212, 0.231, 0.248,\n",
    "        0.318, 0.314, 0.339, 0.37 , 0.362, 0.406, 0.468, 0.487, 0.505,\n",
    "        0.53 , 0.527, 0.552, 0.567, 0.586, 0.586, 0.591, 0.614, 0.626,\n",
    "        0.633, 0.661, 0.673, 0.733, 0.776, 0.815, 0.906],\n",
    "       [0.968, 0.887, 0.843, 0.865, 0.844, 0.814, 0.788, 0.769, 0.752,\n",
    "        0.682, 0.686, 0.661, 0.63 , 0.638, 0.594, 0.532, 0.513, 0.495,\n",
    "        0.47 , 0.473, 0.448, 0.433, 0.414, 0.414, 0.409, 0.386, 0.374,\n",
    "        0.367, 0.339, 0.327, 0.267, 0.224, 0.185, 0.094]])\n",
    "\n",
    "datavle = (Xexp, Yexp, Texp, Pexp)"
   ]
  },
  {
   "cell_type": "markdown",
   "metadata": {},
   "source": [
    "The function ```fit_asso``` optimize the $k_{ij}$ and $l_{ij}$ The function requires initial guesses for the parameters, as well as the mixture object and the equilibria data. Optionally, the ```minimize_options``` option allows modifying the minimizer default parameters."
   ]
  },
  {
   "cell_type": "code",
   "execution_count": null,
   "metadata": {},
   "outputs": [
    {
     "name": "stderr",
     "output_type": "stream",
     "text": [
      "/Users/gac21/Documents/sgtpy/sgtpy/vrmie_pure/ideal.py:25: RuntimeWarning: invalid value encountered in log\n",
      "  a = np.log(rho * broglie_vol**3) - 1\n"
     ]
    }
   ],
   "source": [
    "#initial guess for kij and lij\n",
    "x0 = np.array([0, 0])\n",
    "min_options = {'method':'Nelder-Mead'}\n",
    "fit_asso(x0, mix, datavle = datavle, minimize_options=min_options)"
   ]
  },
  {
   "cell_type": "markdown",
   "metadata": {},
   "source": [
    "If the mixture exhibits other equilibria types you can supply this experimental data to the ``datalle`` or ``datavlle`` parameters.\n",
    "\n",
    "- ``datalle``: (Xexp, Wexp, Texp, Pexp)\n",
    "- ``datavlle``: (Xexp, Wexp, Yexp, Texp, Pexp)\n",
    "\n",
    "You can specify the weights for each objetive function through the following parameters:\n",
    "\n",
    "- ``weights_vle``: list or array_like, weights for the VLE objective function.\n",
    "        - weights_vle[0] = weight for Y composition error, default to 1.\n",
    "        - weights_vle[1] = weight for bubble pressure error, default to 1.\n",
    "- ``weights_lle``: list or array_like, weights for the LLE objective function.\n",
    "        - weights_lle[0] = weight for X (liquid 1) composition error, default to 1.\n",
    "        - weights_lle[1] = weight for W (liquid 2) composition error, default to 1.\n",
    "- ``weights_vlle``: list or array_like, weights for the VLLE objective function.\n",
    "        - weights_vlle[0] = weight for X (liquid 1) composition error, default to 1.\n",
    "        - weights_vlle[1] = weight for W (liquid 2) composition error, default to 1.\n",
    "        - weights_vlle[2] = weight for Y (vapor) composition error, default to 1.\n",
    "        - weights_vlle[3] = weight for equilibrium pressure error, default to 1.\n",
    "\n",
    "Additionally, you can set options to the SciPy's ``minimize`` function using the ``minimize_options`` parameter.\n",
    "\n",
    "For more information just run:\n",
    "```fit_asso?```"
   ]
  },
  {
   "cell_type": "code",
   "execution_count": null,
   "metadata": {},
   "outputs": [],
   "source": []
  }
 ],
 "metadata": {
  "kernelspec": {
   "display_name": "thermo",
   "language": "python",
   "name": "python3"
  },
  "language_info": {
   "codemirror_mode": {
    "name": "ipython",
    "version": 3
   },
   "file_extension": ".py",
   "mimetype": "text/x-python",
   "name": "python",
   "nbconvert_exporter": "python",
   "pygments_lexer": "ipython3",
   "version": "3.9.7"
  }
 },
 "nbformat": 4,
 "nbformat_minor": 4
}
