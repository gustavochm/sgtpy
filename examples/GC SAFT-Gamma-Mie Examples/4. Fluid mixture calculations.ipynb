{
 "cells": [
  {
   "cell_type": "markdown",
   "metadata": {},
   "source": [
    "# Fluid mixture calculations with SAFT-$\\gamma$-Mie\n",
    "\n",
    "In this notebook, the available calculations with ```saftgammamie``` EoS for fluid mixtures are illustrated.\n",
    "\n",
    "First, all the needed modules are imported.\n",
    "\n",
    "- numpy: numerical interface and work with arrays\n",
    "- sgtpy: package with SAFT-$\\gamma$-Mie EoS."
   ]
  },
  {
   "cell_type": "code",
   "execution_count": 1,
   "metadata": {},
   "outputs": [],
   "source": [
    "import numpy as np\n",
    "from sgtpy import component, mixture, saftgammamie"
   ]
  },
  {
   "cell_type": "markdown",
   "metadata": {},
   "source": [
    "Now, pure components are configured and created with the ```component``` function. Then, a mixture is created with them using the ```mixture``` function or by adding (`+`) pure components. The interaction parameters are set up with the ```mixture.saftgammamie``` method. Finally, the ```eos``` object is created with the ```saftgammamie``` function.\n",
    "\n",
    "The ```eos``` object includes all the necessary methods to compute phase equilibria and interfacial properties using SAFT-$\\gamma$-Mie EoS.\n",
    "\n",
    "For this notebook, all calculations are exemplified for a mixture of ethanol and water."
   ]
  },
  {
   "cell_type": "code",
   "execution_count": 2,
   "metadata": {},
   "outputs": [],
   "source": [
    "# setting up pure components\n",
    "ethanol = component(GC={'CH3':1, 'CH2OH':1})\n",
    "water = component(GC={'H2O':1})\n",
    "\n",
    "# creating mixture with mixture class function\n",
    "mix = mixture(ethanol, water)\n",
    "\n",
    "# creating mixture by adding pure components\n",
    "mix = ethanol + water\n",
    "\n",
    "# reading database\n",
    "mix.saftgammamie()\n",
    "eos = saftgammamie(mix)"
   ]
  },
  {
   "cell_type": "markdown",
   "metadata": {},
   "source": [
    "You can compute bulk phase density (mol/m$^3$) at given composition (x), temperature (K), and pressure (Pa) using the ```eos.density``` method. If no initial guess is provided, the root volume is computed using Topliss's method.\n",
    "\n",
    "You can set ```'L'``` for the liquid phase and ```'V'``` for the vapor phase."
   ]
  },
  {
   "cell_type": "code",
   "execution_count": 3,
   "metadata": {},
   "outputs": [
    {
     "data": {
      "text/plain": [
       "38009.95519266561"
      ]
     },
     "execution_count": 3,
     "metadata": {},
     "output_type": "execute_result"
    }
   ],
   "source": [
    "# density computation with Topliss's method\n",
    "x = np.array([0.2, 0.8])\n",
    "T = 350.  # K\n",
    "P = 1e5  # Pa\n",
    "\n",
    "# density in mol/m3\n",
    "rhol = eos.density(x, T, P, 'L')\n",
    "rhol"
   ]
  },
  {
   "cell_type": "markdown",
   "metadata": {},
   "source": [
    "If a good initial guess is available for the density root, you can supply it, and then Newton's method is used to compute the root. This is **faster** than using Topliss's method."
   ]
  },
  {
   "cell_type": "code",
   "execution_count": 4,
   "metadata": {},
   "outputs": [
    {
     "data": {
      "text/plain": [
       "38009.95519266112"
      ]
     },
     "execution_count": 4,
     "metadata": {},
     "output_type": "execute_result"
    }
   ],
   "source": [
    "# density computation with Newton's method\n",
    "x = np.array([0.2, 0.8])\n",
    "T = 350.  # K\n",
    "P = 1e5  # Pa\n",
    "# density in mol/m3\n",
    "eos.density(x, T, P, 'L', rho0=0.95*rhol)"
   ]
  },
  {
   "cell_type": "markdown",
   "metadata": {},
   "source": [
    "You can verify that the root was computed correctly with the ```eos.pressure``` method. This method computes the pressure (Pa) at given composition (x), density (mol/m$^3$) and temperature (K)."
   ]
  },
  {
   "cell_type": "code",
   "execution_count": 5,
   "metadata": {},
   "outputs": [
    {
     "data": {
      "text/plain": [
       "99999.99998777454"
      ]
     },
     "execution_count": 5,
     "metadata": {},
     "output_type": "execute_result"
    }
   ],
   "source": [
    "# computed pressure in Pa\n",
    "eos.pressure(x, rhol, T)"
   ]
  },
  {
   "cell_type": "markdown",
   "metadata": {},
   "source": [
    "If the mixtures associates, you can compute the non-bonded sites fractions using the `eos.association_solver` method."
   ]
  },
  {
   "cell_type": "code",
   "execution_count": 6,
   "metadata": {},
   "outputs": [
    {
     "data": {
      "text/plain": [
       "array([0.36650211, 0.14940489, 0.08740906, 0.2208706 ])"
      ]
     },
     "execution_count": 6,
     "metadata": {},
     "output_type": "execute_result"
    }
   ],
   "source": [
    "# Computing non-bonded association sites fraction\n",
    "Xass = eos.association_solver(x, rhol, T)\n",
    "Xass "
   ]
  },
  {
   "cell_type": "markdown",
   "metadata": {},
   "source": [
    "Additionally, you can verify the association site mass balance using the `eos.association_check` method. If the non-bonded association sites are correctly computed, this function should be zero."
   ]
  },
  {
   "cell_type": "code",
   "execution_count": 7,
   "metadata": {},
   "outputs": [
    {
     "data": {
      "text/plain": [
       "array([0.00000000e+00, 2.77555756e-17, 0.00000000e+00, 5.55111512e-17])"
      ]
     },
     "execution_count": 7,
     "metadata": {},
     "output_type": "execute_result"
    }
   ],
   "source": [
    "# checking the objective function for computed non-boned association sites fraction\n",
    "eos.association_check(x, rhol, T, Xass)"
   ]
  },
  {
   "cell_type": "markdown",
   "metadata": {},
   "source": [
    "You can compute the chemical potential using the ```eos.muad``` method. This method requires the density vector and temperature as input."
   ]
  },
  {
   "cell_type": "code",
   "execution_count": 8,
   "metadata": {},
   "outputs": [
    {
     "data": {
      "text/plain": [
       "array([-0.68847568, -0.79364019])"
      ]
     },
     "execution_count": 8,
     "metadata": {},
     "output_type": "execute_result"
    }
   ],
   "source": [
    "# computing chemical potential (dimensionless = mu/RT)\n",
    "rhoi = x * rhol \n",
    "eos.muad(rhoi, T)"
   ]
  },
  {
   "cell_type": "markdown",
   "metadata": {},
   "source": [
    "Similarly, you can compute the Helmholtz free energy density with the ```eos.a0ad```. This method also uses the density vector and temperature as inputs."
   ]
  },
  {
   "cell_type": "code",
   "execution_count": 9,
   "metadata": {},
   "outputs": [
    {
     "data": {
      "text/plain": [
       "-29401.131901709283"
      ]
     },
     "execution_count": 9,
     "metadata": {},
     "output_type": "execute_result"
    }
   ],
   "source": [
    "# computing chemical potential (results is a0/RT = mol/m^3)\n",
    "rhoi = x * rhol\n",
    "eos.a0ad(rhoi, T)"
   ]
  },
  {
   "cell_type": "markdown",
   "metadata": {},
   "source": [
    "For phase equilibria and stability calculations, you can compute the effective fugacity coefficient natural logarithm using the ```eos.logfugef``` method.\n",
    "\n",
    "This method requires the composition (x), temperature (K), pressure (Pa), and the aggregation state of the fluid (```'L'``` or ```'V'```). Optionally, if available, you can supply an initial guess to solve the volume root.\n",
    "\n",
    "This function returns the effective fugacity coefficient natural logarithm and the computed volume root."
   ]
  },
  {
   "cell_type": "code",
   "execution_count": 10,
   "metadata": {},
   "outputs": [
    {
     "data": {
      "text/plain": [
       "(array([ 0.65182068, -0.83963818]), 2.6308897101592854e-05)"
      ]
     },
     "execution_count": 10,
     "metadata": {},
     "output_type": "execute_result"
    }
   ],
   "source": [
    "# computing the effective fugacity coefficients and volume root (m^3/mol)\n",
    "eos.logfugef(x, T, P, 'L', v0 = 1/rhol)"
   ]
  },
  {
   "cell_type": "markdown",
   "metadata": {},
   "source": [
    "When needed you can compute the fugacity coefficient of the mixture at the given composition (x), temperature (K), pressure (Pa), and aggregation state using the ```eos.logfugmix``` method.\n",
    "\n",
    "If available, you also can supply an initial guess to solve the volume root.\n",
    "\n",
    "This function returns the fugacity coefficient natural logarithm of the mixture and the found volume root."
   ]
  },
  {
   "cell_type": "code",
   "execution_count": 11,
   "metadata": {},
   "outputs": [
    {
     "data": {
      "text/plain": [
       "(-0.5413464106357493, 2.6308897101592854e-05)"
      ]
     },
     "execution_count": 11,
     "metadata": {},
     "output_type": "execute_result"
    }
   ],
   "source": [
    "eos.logfugmix(x, T, P, 'L', v0 = 1/rhol)"
   ]
  },
  {
   "cell_type": "markdown",
   "metadata": {},
   "source": [
    "You also can compute thermal derived properties, such as, residual Entropy (```eos.EntropyR```), residual Enthalpy (```eos.EnthalyR```), residual isochoric and isobaric heat capacities (```eos.CvR``` and ```eos.CpR```).\n",
    "\n",
    "Furthermore, you can compute the speed of sound using the ```eos.speed_sound``` method. You will be required to supply the ideal gas contribution for the heat capacities at the given temperature (These can be obtained from DIPPR 801 database)."
   ]
  },
  {
   "cell_type": "code",
   "execution_count": 12,
   "metadata": {},
   "outputs": [
    {
     "data": {
      "text/plain": [
       "-112.52976432125453"
      ]
     },
     "execution_count": 12,
     "metadata": {},
     "output_type": "execute_result"
    }
   ],
   "source": [
    "# residual entropy in J / mol K\n",
    "eos.EntropyR(x, T, P, 'L', v0=1/rhol)"
   ]
  },
  {
   "cell_type": "code",
   "execution_count": 13,
   "metadata": {},
   "outputs": [
    {
     "data": {
      "text/plain": [
       "-40960.76918175604"
      ]
     },
     "execution_count": 13,
     "metadata": {},
     "output_type": "execute_result"
    }
   ],
   "source": [
    "# resigual enthalpy in J / mol\n",
    "eos.EnthalpyR(x, T, P, 'L', v0=1/rhol)"
   ]
  },
  {
   "cell_type": "code",
   "execution_count": 14,
   "metadata": {},
   "outputs": [
    {
     "data": {
      "text/plain": [
       "38.19197389068879"
      ]
     },
     "execution_count": 14,
     "metadata": {},
     "output_type": "execute_result"
    }
   ],
   "source": [
    "# residual isochoric heat capacity in J / mol K\n",
    "eos.CvR(x, rhol, T)"
   ]
  },
  {
   "cell_type": "code",
   "execution_count": 15,
   "metadata": {},
   "outputs": [
    {
     "data": {
      "text/plain": [
       "47.8116913756324"
      ]
     },
     "execution_count": 15,
     "metadata": {},
     "output_type": "execute_result"
    }
   ],
   "source": [
    "# residual isobaric heat capacity in J / mol K\n",
    "eos.CpR(x, T, P, 'L', v0=1/rhol)"
   ]
  },
  {
   "cell_type": "code",
   "execution_count": 16,
   "metadata": {},
   "outputs": [
    {
     "data": {
      "text/plain": [
       "1842.6858610761158"
      ]
     },
     "execution_count": 16,
     "metadata": {},
     "output_type": "execute_result"
    }
   ],
   "source": [
    "# speed of sound in m/s (value can be improved if correlated ideal gas Cv and Cp are used)\n",
    "eos.speed_sound(x, T, P, 'L', v0=1/rhol)"
   ]
  },
  {
   "cell_type": "markdown",
   "metadata": {},
   "source": [
    "For further information about a method just run: ```eos.method?```"
   ]
  },
  {
   "cell_type": "code",
   "execution_count": null,
   "metadata": {},
   "outputs": [],
   "source": []
  }
 ],
 "metadata": {
  "kernelspec": {
   "display_name": "thermo",
   "language": "python",
   "name": "python3"
  },
  "language_info": {
   "codemirror_mode": {
    "name": "ipython",
    "version": 3
   },
   "file_extension": ".py",
   "mimetype": "text/x-python",
   "name": "python",
   "nbconvert_exporter": "python",
   "pygments_lexer": "ipython3",
   "version": "3.9.7"
  }
 },
 "nbformat": 4,
 "nbformat_minor": 4
}
