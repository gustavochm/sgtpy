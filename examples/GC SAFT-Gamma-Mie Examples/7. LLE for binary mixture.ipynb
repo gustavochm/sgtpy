{
 "cells": [
  {
   "cell_type": "markdown",
   "metadata": {},
   "source": [
    "# LLE calculation for fluid mixtures with SAFT-$\\gamma$-Mie\n",
    "\n",
    "In this notebook, the liquid-liquid equilibria calculations for fluid mixtures with ```saftgammamie``` EoS are illustrated.\n",
    "\n",
    "First, all the needed modules are imported.\n",
    "\n",
    "- numpy: numerical interface and work with arrays\n",
    "- matplotlib: to plot results\n",
    "- sgtpy: package with SAFT-$\\gamma$-Mie EoS and phase equilibria functions."
   ]
  },
  {
   "cell_type": "code",
   "execution_count": 1,
   "metadata": {},
   "outputs": [],
   "source": [
    "import numpy as np\n",
    "import matplotlib.pyplot as plt\n",
    "from sgtpy import component, mixture, saftgammamie"
   ]
  },
  {
   "cell_type": "markdown",
   "metadata": {},
   "source": [
    "Now, pure components are configured and created with the ```component``` function. Then, a mixture is created with them using the ```mixture``` function or by adding (`+`) pure components. The interaction parameters are set up with the ```mixture.saftgammamie``` method. Finally, the ```eos``` object is created with the ```saftgammamie``` function.\n",
    "\n",
    "The ```eos``` object includes all the necessary methods to compute phase equilibria and interfacial properties using SAFT-$\\gamma$-Mie EoS.\n",
    "\n",
    "\n",
    "For this notebook, all calculations are exemplified for a mixture of 2-butanol and water."
   ]
  },
  {
   "cell_type": "code",
   "execution_count": 2,
   "metadata": {},
   "outputs": [],
   "source": [
    "butanol2 = component(GC={'CH3':2, 'CH2':1, 'CHOH':1})\n",
    "water = component(GC={'H2O':1})\n",
    "\n",
    "# creating mixture with mixture class function\n",
    "mix = mixture(butanol2, water)\n",
    "# or creating mixture by adding pure components\n",
    "mix = butanol2 + water\n",
    "\n",
    "mix.saftgammamie()\n",
    "eos = saftgammamie(mix)"
   ]
  },
  {
   "cell_type": "markdown",
   "metadata": {},
   "source": [
    "## LLE calculation\n",
    "\n",
    "This type of equilibria calculation is carried out at given global composition (z), temperature (K), and pressure (Pa). This calculation can be performed with ```flash``` or ```lle``` function.\n",
    "\n",
    "The flash calculation is carried out with the ```flash``` function and it requires initial guesses for the phase composition ```x0```, ```w0``` and their aggregation state (```LL``` for liquid/liquid equilibria).\n",
    "\n",
    "The ```lle``` requires initial guesses for the phase composition ```x0``` and ```w0```.\n",
    "\n",
    "The ```full_output``` option allows obtaining all the information related to the LLE calculation. This includes the volume of the phases and the solution for the fraction of the nonbonded sites of each phase."
   ]
  },
  {
   "cell_type": "code",
   "execution_count": 3,
   "metadata": {},
   "outputs": [],
   "source": [
    "# phase equilibria conditions\n",
    "T = 350.  # K\n",
    "P = 1.01325e5  # Pa\n",
    "z = np.array([0.2, 0.8])"
   ]
  },
  {
   "cell_type": "markdown",
   "metadata": {},
   "source": [
    "Initial guesses can be obtained from tpd minimization (```tpd_min``` or ```lle_init```). If any tpd < 0, it means that the global phase is unstable at that it will split into two or more phases. "
   ]
  },
  {
   "cell_type": "code",
   "execution_count": 4,
   "metadata": {},
   "outputs": [
    {
     "data": {
      "text/plain": [
       "(array([0.03974644, 0.96025356]), -0.013396877701859378)"
      ]
     },
     "execution_count": 4,
     "metadata": {},
     "output_type": "execute_result"
    }
   ],
   "source": [
    "from sgtpy.equilibrium import tpd_min\n",
    "\n",
    "# initial guess for the composition of the trial phase\n",
    "w0 = np.array([0.1, 0.9])\n",
    "x0, tpx0 = tpd_min(w0, z, T, P, eos, stateW = 'L', stateZ = 'L')\n",
    "x0, tpx0"
   ]
  },
  {
   "cell_type": "code",
   "execution_count": 5,
   "metadata": {},
   "outputs": [
    {
     "data": {
      "text/plain": [
       "(array([0.4560843, 0.5439157]), -0.011966596068839985)"
      ]
     },
     "execution_count": 5,
     "metadata": {},
     "output_type": "execute_result"
    }
   ],
   "source": [
    "# initial guess for the composition of the trial phase\n",
    "w0 = np.array([0.5, 0.5])\n",
    "w0, tpw0 = tpd_min(w0, z, T, P, eos, stateW = 'L', stateZ = 'L')\n",
    "w0, tpw0"
   ]
  },
  {
   "cell_type": "markdown",
   "metadata": {},
   "source": [
    "Once good initial guesses are available, the phase equilibria is computed with the ```flash``` function as follows."
   ]
  },
  {
   "cell_type": "code",
   "execution_count": 6,
   "metadata": {},
   "outputs": [
    {
     "data": {
      "text/plain": [
       "      T: 350.0\n",
       "      P: 101325.0\n",
       "   beta: 0.3814952222620302\n",
       "  error: 9.408778800352845e-09\n",
       "   iter: 9\n",
       "      X: array([0.04010833, 0.95989167])\n",
       "     v1: 2.1312272507286114e-05\n",
       "  Xass1: array([0.08491351, 0.33458356, 0.11697806, 0.12566356])\n",
       " state1: 'L'\n",
       "      Y: array([0.45922675, 0.54077325])\n",
       "     v2: 5.246896102137976e-05\n",
       "  Xass2: array([0.14389972, 0.52138828, 0.1796577 , 0.22258739])\n",
       " state2: 'L'\n",
       " method: 'ASS'"
      ]
     },
     "execution_count": 6,
     "metadata": {},
     "output_type": "execute_result"
    }
   ],
   "source": [
    "from sgtpy.equilibrium import flash\n",
    "# initial guesses for aqueous and organic phase composition obtained from tpd minimization\n",
    "flash(x0, w0, 'LL', z, T, P, eos, full_output=True)"
   ]
  },
  {
   "cell_type": "markdown",
   "metadata": {},
   "source": [
    "Similarly, the liquid-liquid equilibria can be computed with the ``lle`` function. This function uses a multiflash algorithm that solves stability and equilibria simultaneously. \n",
    "If the ```tetha``` variable is zero, it means that both phases are stable. On the other hand, if it is a positive number it means that the phases are unstable."
   ]
  },
  {
   "cell_type": "code",
   "execution_count": 7,
   "metadata": {},
   "outputs": [
    {
     "data": {
      "text/plain": [
       "           T: 350.0\n",
       "           P: 101325.0\n",
       " error_outer: 9.409069677571374e-09\n",
       " error_inner: 5.454101111417734e-09\n",
       "        iter: 8\n",
       "        beta: array([0.61846376, 0.38153624])\n",
       "       tetha: array([0.])\n",
       "           X: array([[0.04010692, 0.95989308],\n",
       "       [0.45918397, 0.54081603]])\n",
       "           v: [2.1312272529901016e-05, 5.246896116473695e-05]\n",
       "        Xass: [array([0.08491351, 0.33458356, 0.11697806, 0.12566356]), array([0.14389972, 0.52138828, 0.1796577 , 0.22258739])]\n",
       "      states: ['L', 'L']\n",
       "      method: 'ASS'"
      ]
     },
     "execution_count": 7,
     "metadata": {},
     "output_type": "execute_result"
    }
   ],
   "source": [
    "from sgtpy.equilibrium import lle\n",
    "\n",
    "T = 350.  # K\n",
    "P = 1.01325e5  # Pa\n",
    "z = np.array([0.2, 0.8])\n",
    "# initial guesses for aqueous and organic phase composition obtained from tpd minimization\n",
    "lle(x0, w0, z, T, P, eos, full_output=True)"
   ]
  },
  {
   "cell_type": "markdown",
   "metadata": {},
   "source": [
    "## Whole phase diagram calculation\n",
    "\n",
    "In the following codeblock, the whole phase diagram is computed at constant pressure.\n",
    "It is advised to store the computed volume roots and nonbonded sites fraction, as these can be used in the following iterations to speed up calculations."
   ]
  },
  {
   "cell_type": "code",
   "execution_count": 8,
   "metadata": {},
   "outputs": [],
   "source": [
    "# temperature interval to compute LLE\n",
    "n = 30\n",
    "Temp = np.linspace(350, 290, n)\n",
    "\n",
    "X = np.zeros([2, n])\n",
    "W = np.zeros([2, n])\n",
    "vx = np.zeros(n)\n",
    "vw = np.zeros(n)\n",
    "\n",
    "# solving the first point\n",
    "i = 0 \n",
    "sol = lle(x0, w0, z, Temp[i], P, eos, full_output=True)\n",
    "X[:, i], W[:, i] = sol.X\n",
    "vx[i], vw[i] = sol.v\n",
    "\n",
    "# compute LLE using already computed compositions and volumes as initial guesses\n",
    "for i in range(1, n):\n",
    "    Z = (X[:, i-1] + W[:, i-1])/2\n",
    "    sol = lle(X[:, i-1], W[:, i-1], Z, Temp[i], P, eos, v0=[vx[i-1], vw[i-1]], full_output=True)\n",
    "    X[:, i], W[:, i] = sol.X\n",
    "    vx[i], vw[i] = sol.v"
   ]
  },
  {
   "cell_type": "code",
   "execution_count": 9,
   "metadata": {},
   "outputs": [
    {
     "data": {
      "image/png": "[encoded data removed]",
      "text/plain": [
       "<Figure size 360x360 with 1 Axes>"
      ]
     },
     "metadata": {
      "needs_background": "light"
     },
     "output_type": "display_data"
    }
   ],
   "source": [
    "fig = plt.figure(figsize=(5, 5))\n",
    "ax = fig.add_subplot(111)\n",
    "\n",
    "ax.plot(X[0], Temp, color = 'k')\n",
    "ax.plot(W[0], Temp, color = 'k')\n",
    "ax.set_xlim([0, 1])\n",
    "ax.set_ylim([280, 350])\n",
    "ax.set_xlabel('$x_1, w_1$')\n",
    "ax.set_ylabel('T / K')\n",
    "ax.tick_params(direction='in')\n",
    "# fig.savefig('lle-binary.pdf')"
   ]
  },
  {
   "cell_type": "markdown",
   "metadata": {},
   "source": [
    "For further information of any of these functions just run: ```function?```"
   ]
  },
  {
   "cell_type": "code",
   "execution_count": null,
   "metadata": {},
   "outputs": [],
   "source": []
  }
 ],
 "metadata": {
  "kernelspec": {
   "display_name": "thermo",
   "language": "python",
   "name": "python3"
  },
  "language_info": {
   "codemirror_mode": {
    "name": "ipython",
    "version": 3
   },
   "file_extension": ".py",
   "mimetype": "text/x-python",
   "name": "python",
   "nbconvert_exporter": "python",
   "pygments_lexer": "ipython3",
   "version": "3.9.7"
  }
 },
 "nbformat": 4,
 "nbformat_minor": 4
}
