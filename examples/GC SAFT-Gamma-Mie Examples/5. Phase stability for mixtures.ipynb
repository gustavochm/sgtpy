{
 "cells": [
  {
   "cell_type": "markdown",
   "metadata": {},
   "source": [
    "# Phase stability for fluid mixtures with SAFT-$\\gamma$-Mie\n",
    "\n",
    "In this notebook, phase stability calculations for fluid mixtures with ```saftgammamie``` EoS are illustrated.\n",
    "\n",
    "First, all the needed modules are imported.\n",
    "\n",
    "- numpy: numerical interface and work with arrays\n",
    "- sgtpy: package with SAFT-$\\gamma$-Mie EoS and tpd functions."
   ]
  },
  {
   "cell_type": "code",
   "execution_count": 1,
   "metadata": {},
   "outputs": [],
   "source": [
    "import numpy as np\n",
    "from sgtpy import component, mixture, saftgammamie"
   ]
  },
  {
   "cell_type": "markdown",
   "metadata": {},
   "source": [
    "Now, pure components are configured and created with the ```component``` function. Then, a mixture is created with them using the ```mixture``` function or by adding (`+`) pure components. The interaction parameters are set up with the ```mixture.saftgammamie``` method. Finally, the ```eos``` object is created with the ```saftgammamie``` function.\n",
    "\n",
    "The ```eos``` object includes all the necessary methods to compute phase equilibria and interfacial properties using SAFT-$\\gamma$-Mie EoS.\n",
    "\n",
    "For this notebook stability calculations are exemplified for a mixture of ethanol and water and for a mixture of 2-butanol and water."
   ]
  },
  {
   "cell_type": "code",
   "execution_count": 2,
   "metadata": {},
   "outputs": [],
   "source": [
    "# creating pure components\n",
    "ethanol = component(GC={'CH3':1, 'CH2OH':1})\n",
    "butanol2 = component(GC={'CH3':2, 'CH2':1, 'CHOH':1})\n",
    "water = component(GC={'H2O':1})\n",
    "\n",
    "# setting up mixture of ethanol and water\n",
    "mix1 = mixture(ethanol, water)\n",
    "# or by adding the pure components\n",
    "mix1 = ethanol + water\n",
    "\n",
    "mix1.saftgammamie()\n",
    "eos1 = saftgammamie(mix1)\n",
    "\n",
    "# setting up  mixture of 2-butanol and water\n",
    "mix2 = mixture(butanol2, water)\n",
    "# or by adding the pure components\n",
    "mix2 = butanol2 + water\n",
    "\n",
    "mix2.saftgammamie()\n",
    "eos2 = saftgammamie(mix2)"
   ]
  },
  {
   "cell_type": "markdown",
   "metadata": {},
   "source": [
    "## Tangent plane distance function\n",
    "\n",
    "This function measures the relative stability of a phase against another. To study the stability with this criteria one must found a minimum of the tpd function and then check the sign of the distance. There are three scenarios:\n",
    "- tpd > 0: the phase is stable\n",
    "- tpd = 0: the phase is in equilibrium with the trial phase.\n",
    "- tpd < 0: the phase is not stable. The addition of the trial phase to the system would decrease the Gibbs energy of the system.\n",
    "\n",
    "To perform one single minimization you should use the ```tpd_min``` function. This function requires an initial guess for the trial phase composition (w0), the global composition (z), temperature (K), pressure (Pa) and aggregation state of the trial phase (stateW) and mixture (stateZ) and it returns the composition of the minimum and its tpd value."
   ]
  },
  {
   "cell_type": "code",
   "execution_count": 3,
   "metadata": {},
   "outputs": [
    {
     "data": {
      "text/plain": [
       "(array([0.58031872, 0.41968128]), -0.15065022315730303)"
      ]
     },
     "execution_count": 3,
     "metadata": {},
     "output_type": "execute_result"
    }
   ],
   "source": [
    "from sgtpy.equilibrium import tpd_min\n",
    "\n",
    "# tpd function for mixture of ethanol and water\n",
    "T = 350.  # K\n",
    "P = 7e4   # Pa\n",
    "z = np.array([0.3, 0.7])\n",
    "\n",
    "# initial guess for the composition of the trial phase\n",
    "w0 = np.array([0.5, 0.5])\n",
    "tpd_min(w0, z, T, P, eos1, stateW = 'V', stateZ = 'L')"
   ]
  },
  {
   "cell_type": "markdown",
   "metadata": {},
   "source": [
    "It can be noted that at the given global composition, temperature and pressure, the liquid mixture will split to create vapor phase. The composition obtained with the minimization can be used as an initial guess for a flash calculation.\n",
    "\n",
    "Similarly, you could check the stability of a vapor mixture under the same conditions."
   ]
  },
  {
   "cell_type": "code",
   "execution_count": 4,
   "metadata": {},
   "outputs": [
    {
     "data": {
      "text/plain": [
       "(array([0.05447079, 0.94552921]), -0.23646264561190322)"
      ]
     },
     "execution_count": 4,
     "metadata": {},
     "output_type": "execute_result"
    }
   ],
   "source": [
    "# tpd function for mixture of ethanol and water\n",
    "T = 350.  # K\n",
    "P = 7e4   # Pa\n",
    "z = np.array([0.3, 0.7])\n",
    "\n",
    "# initial guess for the composition of the trial phase\n",
    "w0 = np.array([0.1, 0.9])\n",
    "tpd_min(w0, z, T, P, eos1, stateW = 'L', stateZ = 'V')"
   ]
  },
  {
   "cell_type": "markdown",
   "metadata": {},
   "source": [
    "Again, it is noted that the vapor phase would split to form a liquid phase. The composition of the found minimum can be used as an initial guess for a flash calculation.\n",
    "\n",
    "The same strategy could be used for a mixture of 2-butanol and water."
   ]
  },
  {
   "cell_type": "code",
   "execution_count": 5,
   "metadata": {},
   "outputs": [
    {
     "data": {
      "text/plain": [
       "(array([0.38103264, 0.61896736]), 0.3265256251156792)"
      ]
     },
     "execution_count": 5,
     "metadata": {},
     "output_type": "execute_result"
    }
   ],
   "source": [
    "T = 350.  # K\n",
    "P = 1e5   # Pa\n",
    "z = np.array([0.2, 0.8])\n",
    "\n",
    "# initial guess for the composition of the trial phase\n",
    "w0 = np.array([0.01, 0.99])\n",
    "tpd_min(w0, z, T, P, eos2, stateW = 'V', stateZ = 'L')"
   ]
  },
  {
   "cell_type": "markdown",
   "metadata": {},
   "source": [
    "As tpd > 0, It can be seen that for this mixture at these conditions no vapor phase will be formed.\n",
    "\n",
    "However, the stability of the mixture could be studied against another liquid phase."
   ]
  },
  {
   "cell_type": "code",
   "execution_count": 6,
   "metadata": {},
   "outputs": [
    {
     "data": {
      "text/plain": [
       "(array([0.03974618, 0.96025382]), -0.013397063751035665)"
      ]
     },
     "execution_count": 6,
     "metadata": {},
     "output_type": "execute_result"
    }
   ],
   "source": [
    "# initial guess for the composition of the trial phase\n",
    "w0 = np.array([0.1, 0.9])\n",
    "tpd_min(w0, z, T, P, eos2, stateW = 'L', stateZ = 'L')"
   ]
  },
  {
   "cell_type": "code",
   "execution_count": 7,
   "metadata": {},
   "outputs": [
    {
     "data": {
      "text/plain": [
       "(array([0.45608682, 0.54391318]), -0.011966954246219075)"
      ]
     },
     "execution_count": 7,
     "metadata": {},
     "output_type": "execute_result"
    }
   ],
   "source": [
    "# initial guess for the composition of the trial phase\n",
    "w0 = np.array([0.5, 0.5])\n",
    "tpd_min(w0, z, T, P, eos2, stateW = 'L', stateZ = 'L')"
   ]
  },
  {
   "cell_type": "markdown",
   "metadata": {},
   "source": [
    "For the mixture of 2-butanol and water, two liquid phase minima have been found with negative tpd. This implies that the mixture will split into two liquids (LLE).\n",
    "\n",
    "The compositions of the found minima can be used to compute the phase equilibria.\n",
    "\n",
    "You can also try to find all the minima of a mixture with one single function. In this case, the function ```tpd_minimas``` will try to find ```nmin``` minima. This function returns the composition of the minima and an array with their tpd values."
   ]
  },
  {
   "cell_type": "code",
   "execution_count": 8,
   "metadata": {},
   "outputs": [
    {
     "data": {
      "text/plain": [
       "((array([0.03974559, 0.96025441]),\n",
       "  array([0.45609456, 0.54390544]),\n",
       "  array([0.95158339, 0.04841661])),\n",
       " array([-0.01339706, -0.01196695,  0.28719629]))"
      ]
     },
     "execution_count": 8,
     "metadata": {},
     "output_type": "execute_result"
    }
   ],
   "source": [
    "from sgtpy.equilibrium import tpd_minimas\n",
    "\n",
    "nmin = 3\n",
    "tpd_minimas(nmin, z, T, P, eos2, 'L', 'L')"
   ]
  },
  {
   "cell_type": "markdown",
   "metadata": {},
   "source": [
    "Similarly, the function ```lle_init``` can be used to generate initial guesses for LLE calculation."
   ]
  },
  {
   "cell_type": "code",
   "execution_count": 9,
   "metadata": {},
   "outputs": [
    {
     "data": {
      "text/plain": [
       "(array([0.03974559, 0.96025441]), array([0.95158339, 0.04841661]))"
      ]
     },
     "execution_count": 9,
     "metadata": {},
     "output_type": "execute_result"
    }
   ],
   "source": [
    "from sgtpy.equilibrium import lle_init\n",
    "\n",
    "lle_init(z, T, P, eos2)"
   ]
  },
  {
   "cell_type": "markdown",
   "metadata": {},
   "source": [
    "For further information of any of these functions just run: ```function?```"
   ]
  },
  {
   "cell_type": "code",
   "execution_count": null,
   "metadata": {},
   "outputs": [],
   "source": []
  }
 ],
 "metadata": {
  "kernelspec": {
   "display_name": "thermo",
   "language": "python",
   "name": "python3"
  },
  "language_info": {
   "codemirror_mode": {
    "name": "ipython",
    "version": 3
   },
   "file_extension": ".py",
   "mimetype": "text/x-python",
   "name": "python",
   "nbconvert_exporter": "python",
   "pygments_lexer": "ipython3",
   "version": "3.9.7"
  }
 },
 "nbformat": 4,
 "nbformat_minor": 4
}
