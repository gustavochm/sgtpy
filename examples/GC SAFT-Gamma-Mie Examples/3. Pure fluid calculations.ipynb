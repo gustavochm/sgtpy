{
 "cells": [
  {
   "cell_type": "markdown",
   "metadata": {},
   "source": [
    "# Pure fluid calculations with SAFT-$\\gamma$-Mie\n",
    "\n",
    "In this notebook, the available calculations with ```saftgammamie``` EoS for pure fluid are illustrated.\n",
    "\n",
    "First, all the needed modules are imported.\n",
    "\n",
    "- numpy: numerical interface and work with arrays\n",
    "- pandas: to read a file with experimental information\n",
    "- matplotlib: to plot results\n",
    "- sgtpy: package with SAFT-$\\gamma$-Mie EoS."
   ]
  },
  {
   "cell_type": "code",
   "execution_count": 1,
   "metadata": {},
   "outputs": [],
   "source": [
    "import pandas as pd\n",
    "import numpy as np\n",
    "import matplotlib.pyplot as plt\n",
    "from sgtpy import component, saftgammamie"
   ]
  },
  {
   "cell_type": "markdown",
   "metadata": {},
   "source": [
    "Now, a pure component is configured and created with the ```component``` function. Then, the interaction parameters are set up with the ```component.saftgammamie``` method. Finally, the ```eos``` object is created with the ```saftgammamie``` function.\n",
    "\n",
    "The ```eos``` object includes all the necessary methods to compute phase equilibria and interfacial properties using SAFT-$\\gamma$-Mie EoS.\n",
    "\n",
    "For this notebook, all calculations are exemplified for pure water."
   ]
  },
  {
   "cell_type": "code",
   "execution_count": 2,
   "metadata": {},
   "outputs": [],
   "source": [
    "water = component(GC={'H2O':1})\n",
    "water.saftgammamie()\n",
    "eos = saftgammamie(water)"
   ]
  },
  {
   "cell_type": "markdown",
   "metadata": {},
   "source": [
    "When you run ``saftgammamie(component)``, SGTPy will attempt to compute the critical point of the fluid. If the procedure is successful you can check the computed values with the ``eos.Tc``, ``eos.Pc`` and ``eos.rhoc`` attributes. The bool ``eos.critical`` indicates if the computation was successful. "
   ]
  },
  {
   "cell_type": "code",
   "execution_count": 3,
   "metadata": {},
   "outputs": [
    {
     "name": "stdout",
     "output_type": "stream",
     "text": [
      "Critical point calculation success:  True\n",
      "Critical temperature: 674.0027394030619 K\n",
      "Critical pressure: 29432042.024402607 Pa\n",
      "Critical density: 19696.81009757237 mol/m^3\n"
     ]
    }
   ],
   "source": [
    "print('Critical point calculation success: ', eos.critical)\n",
    "if eos.critical:\n",
    "    print('Critical temperature:', eos.Tc, 'K')\n",
    "    print('Critical pressure:', eos.Pc, 'Pa')\n",
    "    print('Critical density:', eos.rhoc, 'mol/m^3')"
   ]
  },
  {
   "cell_type": "markdown",
   "metadata": {},
   "source": [
    "If the critical point calculation is not successful, you can try computing the critical point of the fluid using the ``eos.get_critical`` method. The method returns the critical temperature [K], critical pressure [Pa], and critical density [mol/m^3]. You can supply better initial values to start the non-linear solver.\n",
    "\n",
    "If you set the parameter ``overwrite=True``, the results from this method will overwrite the previous computed critical point at initialization."
   ]
  },
  {
   "cell_type": "code",
   "execution_count": 4,
   "metadata": {},
   "outputs": [
    {
     "data": {
      "text/plain": [
       "(674.0027393866214, 29432042.019224674, 19696.797187685526)"
      ]
     },
     "execution_count": 4,
     "metadata": {},
     "output_type": "execute_result"
    }
   ],
   "source": [
    "# get_critical providing initial guesses\n",
    "Tc0 = 670.  # K\n",
    "rhoc0 = 19500.  # mol/m3\n",
    "\n",
    "eos.get_critical(Tc0, rhoc0, full_output=False, overwrite=True)"
   ]
  },
  {
   "cell_type": "markdown",
   "metadata": {},
   "source": [
    "You can compute pure bulk phase density (mol/m$^3$) at a given temperature (K) and pressure (Pa) using the ```eos.density``` method. If no initial guess is provided, the root volume is computed using Topliss's method.\n",
    "\n",
    "You can compute roots for liquid (```'L'```) and vapor (```'V'```) phases."
   ]
  },
  {
   "cell_type": "code",
   "execution_count": 5,
   "metadata": {},
   "outputs": [
    {
     "data": {
      "text/plain": [
       "52766.667958930215"
      ]
     },
     "execution_count": 5,
     "metadata": {},
     "output_type": "execute_result"
    }
   ],
   "source": [
    "# density for liquid phase\n",
    "T = 373.  # K\n",
    "P = 1e5  # Pa\n",
    "rhol = eos.density(T, P, 'L')\n",
    "rhol  # mol / m3"
   ]
  },
  {
   "cell_type": "markdown",
   "metadata": {},
   "source": [
    "If a good guess is available for the density root, you can supply it, and then Newton's method is used to compute the root. This is **faster** than using Topliss's method."
   ]
  },
  {
   "cell_type": "code",
   "execution_count": 6,
   "metadata": {},
   "outputs": [
    {
     "data": {
      "text/plain": [
       "52766.66795892942"
      ]
     },
     "execution_count": 6,
     "metadata": {},
     "output_type": "execute_result"
    }
   ],
   "source": [
    "# solving density root unsing Newton's method.\n",
    "T = 373.  # K\n",
    "P = 1e5  # Pa\n",
    "rhol = eos.density(T, P, 'L', rho0=0.95*rhol)\n",
    "rhol  # mol / m3"
   ]
  },
  {
   "cell_type": "markdown",
   "metadata": {},
   "source": [
    "You can verify that the root is computed correctly with the ```eos.pressure``` method. This method computes the pressure (Pa) at a given density (mol/m$^3$) and temperature (K)."
   ]
  },
  {
   "cell_type": "code",
   "execution_count": 7,
   "metadata": {},
   "outputs": [
    {
     "data": {
      "text/plain": [
       "100000.00002614676"
      ]
     },
     "execution_count": 7,
     "metadata": {},
     "output_type": "execute_result"
    }
   ],
   "source": [
    "# computed pressure in Pa\n",
    "eos.pressure(rhol, T)"
   ]
  },
  {
   "cell_type": "markdown",
   "metadata": {},
   "source": [
    "If the fluid associates, you can compute the non-bonded sites fractions using the `eos.association_solver` method."
   ]
  },
  {
   "cell_type": "code",
   "execution_count": 8,
   "metadata": {},
   "outputs": [
    {
     "data": {
      "text/plain": [
       "array([0.13453951, 0.13453951])"
      ]
     },
     "execution_count": 8,
     "metadata": {},
     "output_type": "execute_result"
    }
   ],
   "source": [
    "# Computing non-bonded association sites fraction\n",
    "Xass = eos.association_solver(rhol, T)\n",
    "Xass "
   ]
  },
  {
   "cell_type": "markdown",
   "metadata": {},
   "source": [
    "Additionally, you can verify the association site mass balance using the `eos.association_check` method. If the non-bonded association sites are correctly computed this function should be zero."
   ]
  },
  {
   "cell_type": "code",
   "execution_count": 9,
   "metadata": {},
   "outputs": [
    {
     "data": {
      "text/plain": [
       "array([-2.77555756e-17, -2.77555756e-17])"
      ]
     },
     "execution_count": 9,
     "metadata": {},
     "output_type": "execute_result"
    }
   ],
   "source": [
    "# checking the objective function for computed non-boned association sites fraction\n",
    "eos.association_check(rhol, T, Xass)"
   ]
  },
  {
   "cell_type": "markdown",
   "metadata": {},
   "source": [
    "You can compute saturation points at given pressure or temperature using the ```eos.tsat``` or ```eos.psat``` methods, respectively.\n",
    "\n",
    "In each case you need to provide an initial guess for the unknown variable (temperature or pressure) and the method will return the computed variable and the liquid and vapor volume root at the given conditions."
   ]
  },
  {
   "cell_type": "code",
   "execution_count": 10,
   "metadata": {},
   "outputs": [
    {
     "data": {
      "text/plain": [
       "(99083.56784635692, 1.8951364253199586e-05, 0.030225138288279094)"
      ]
     },
     "execution_count": 10,
     "metadata": {},
     "output_type": "execute_result"
    }
   ],
   "source": [
    "# solving saturation pressure at given temperature\n",
    "T = 373.  # K\n",
    "P0 = 1e5  # Pa\n",
    "Psat, vlsat, vvsat = eos.psat(T, P0=P0)\n",
    "# Saturation Pressure (Pa), saturated liquid volume (m3/mol), saturated vapor volume (m3/mol).\n",
    "Psat, vlsat, vvsat"
   ]
  },
  {
   "cell_type": "code",
   "execution_count": 11,
   "metadata": {},
   "outputs": [
    {
     "data": {
      "text/plain": [
       "(373.25803912391456, 1.895524662857513e-05, 0.029963767561002577)"
      ]
     },
     "execution_count": 11,
     "metadata": {},
     "output_type": "execute_result"
    }
   ],
   "source": [
    "# solving saturation temperature at given temperature\n",
    "P = 1e5  # Pa\n",
    "T0= 373.  # K\n",
    "Tsat, vlsat, vvsat = eos.tsat(P, T0=T0)\n",
    "# Saturation temperature (K), saturated liquid volume (m3/mol), saturated vapor volume (m3/mol).\n",
    "Tsat, vlsat, vvsat"
   ]
  },
  {
   "cell_type": "markdown",
   "metadata": {},
   "source": [
    "Alternatively, if you don't supply an initial guess for the pressure and the critical point of the fluid was correctly computed at initialization, the pressure will be automatically initiated using the [zero-pressure o Pmin/Pmax algorithm](https://www.sciencedirect.com/science/article/pii/S0098135497000161). "
   ]
  },
  {
   "cell_type": "code",
   "execution_count": 12,
   "metadata": {},
   "outputs": [
    {
     "data": {
      "text/plain": [
       "(99083.5678463556, 1.8951364253199074e-05, 0.03022513825658349)"
      ]
     },
     "execution_count": 12,
     "metadata": {},
     "output_type": "execute_result"
    }
   ],
   "source": [
    "# computing VLE without initial guess\n",
    "# equilibrium pressure (Pa), liquid volume (m3/mol), vapor volume (m3/mol)\n",
    "eos.psat(T)"
   ]
  },
  {
   "cell_type": "markdown",
   "metadata": {},
   "source": [
    "You also can compute thermal derived properties, such as residual Entropy (```eos.EntropyR```), residual Enthalpy (```eos.EnthalyR```), residual isochoric and isobaric heat capacities (```eos.CvR``` and ```eos.CpR```).\n",
    "\n",
    "Furthermore, you can compute the speed of sound using the ```eos.speed_sound``` method. You will be required to supply the ideal gas contribution for the heat capacities at the given temperature (These can be obtained from DIPPR 801 database)."
   ]
  },
  {
   "cell_type": "code",
   "execution_count": 13,
   "metadata": {},
   "outputs": [
    {
     "data": {
      "text/plain": [
       "106.75812667737202"
      ]
     },
     "execution_count": 13,
     "metadata": {},
     "output_type": "execute_result"
    }
   ],
   "source": [
    "# computing residual enthalpy for computed saturated phases\n",
    "Sl = eos.EntropyR(Tsat, P, 'L', v0=vlsat)\n",
    "Sv = eos.EntropyR(Tsat, P, 'V', v0=vvsat)\n",
    "# Vaporization entropy in J / mol K\n",
    "Svap = Sv - Sl\n",
    "Svap"
   ]
  },
  {
   "cell_type": "code",
   "execution_count": 14,
   "metadata": {},
   "outputs": [
    {
     "data": {
      "text/plain": [
       "39848.3290241384"
      ]
     },
     "execution_count": 14,
     "metadata": {},
     "output_type": "execute_result"
    }
   ],
   "source": [
    "# computing residual enthalpy for computed saturated phases\n",
    "Hl = eos.EnthalpyR(Tsat, P, 'L', v0=vlsat)\n",
    "Hv = eos.EnthalpyR(Tsat, P, 'V', v0=vvsat)\n",
    "# Vaporization enthalpy in J / mol\n",
    "Hvap = Hv - Hl\n",
    "Hvap"
   ]
  },
  {
   "cell_type": "code",
   "execution_count": 15,
   "metadata": {},
   "outputs": [
    {
     "data": {
      "text/plain": [
       "(34.01787508179638, 37.58556614468883)"
      ]
     },
     "execution_count": 15,
     "metadata": {},
     "output_type": "execute_result"
    }
   ],
   "source": [
    "# computing residual heat capacities of saturated liquid phase\n",
    "rholsat = 1/vlsat\n",
    "Cvrl = eos.CvR(rholsat, Tsat)\n",
    "Cprl = eos.CpR(Tsat, P, 'L', v0=vlsat)\n",
    "# residual isochoric and isobaric heat capacities in J / mol K\n",
    "Cvrl, Cprl"
   ]
  },
  {
   "cell_type": "code",
   "execution_count": 16,
   "metadata": {},
   "outputs": [
    {
     "data": {
      "text/plain": [
       "(1829.5322069764134, 464.53102202052105)"
      ]
     },
     "execution_count": 16,
     "metadata": {},
     "output_type": "execute_result"
    }
   ],
   "source": [
    "# Ideal gas heat capacities from DIPPR 801\n",
    "R = 8.314\n",
    "\n",
    "k1 = 33363\n",
    "k2 = 26790\n",
    "k3 = 2610.5\n",
    "k4 = 8896\n",
    "k5 = 1169\n",
    "\n",
    "CpId = k1 + k2 * ((k3/Tsat) /np.sinh(k3/Tsat))**2\n",
    "CpId += k4 * ((k5/Tsat) /np.cosh(k5/Tsat))**2\n",
    "CpId /= 1000.  # J/mol K\n",
    "\n",
    "CvId = CpId - R  # J/ mol K\n",
    "\n",
    "# speed of sound from computed saturated phases in m/s\n",
    "ul = eos.speed_sound(Tsat, P, 'L', v0=vlsat, CvId=CvId, CpId=CpId)\n",
    "uv = eos.speed_sound(Tsat, P, 'V', v0=vvsat, CvId=CvId, CpId=CpId)\n",
    "ul, uv"
   ]
  },
  {
   "cell_type": "markdown",
   "metadata": {},
   "source": [
    "## Performance of the EoS against experimental data\n",
    "\n",
    "The results of the EoS can be compared against experimental data obtained from NIST.\n",
    "\n",
    "Similarly, as in SGTPy, you can also fit influence parameters for Square Gradient Theory. In order to do that you have to use the ```fit_cii``` function. Then, you can compute the interfacial tension using the ```sgt_pure``` function."
   ]
  },
  {
   "cell_type": "code",
   "execution_count": 17,
   "metadata": {},
   "outputs": [
    {
     "name": "stderr",
     "output_type": "stream",
     "text": [
      "/Users/gac21/Documents/sgtpy/sgtpy/sgt/sgtpure.py:65: RuntimeWarning: invalid value encountered in sqrt\n",
      "  tenint = np.nan_to_num(np.sqrt(2*dOm))\n"
     ]
    }
   ],
   "source": [
    "from sgtpy.sgt import sgt_pure\n",
    "from sgtpy.fit import fit_cii\n",
    "\n",
    "# comparing results from the EoS against data from NIST.\n",
    "Tsat = np.array([300., 310., 320., 330., 340., 350., 360., 370., 380., 390., 400.])  # K\n",
    "Psat = np.array([3536.8, 6231.1, 10546., 17213., 27188., 41682., 62194., 90535., 128850., 179640., 245770.]) # Pa\n",
    "rhol = np.array([55315., 55139., 54919., 54662., 54371., 54049., 53698., 53321., 52918., 52490., 52038.])  # mol/m3\n",
    "rhov = np.array([1.4204, 2.4237, 3.9778, 6.3042, 9.6808, 14.448, 21.014, 29.859, 41.537, 56.683, 76.014])  # mol/m3\n",
    "speed_liq = np.array([1501.4, 1523.2, 1538.7, 1548.7, 1553.9, 1554.8, 1552., 1545.8, 1536.5, 1524.3, 1509.5]) # m/s\n",
    "speed_vap = np.array([427.89, 434.63, 441.18, 447.54, 453.68, 459.58, 465.22, 470.57, 475.61, 480.32, 484.67])  # m/s\n",
    "Hvap = np.array([43908.1, 43480. , 43048. , 42612.4, 42170.1, 41721.8, 41265.2, 40798.9, 40320.5, 39829.6, 39322.7])  # J/mol\n",
    "iftexp = np.array([71.686, 70.106, 68.47 , 66.781, 65.04 , 63.248, 61.406, 59.517, 57.581, 55.601, 53.578]) # mN/m\n",
    "\n",
    "# Ideal gas heat capacities from DIPPR 801\n",
    "R = 8.314  # J / mol K\n",
    "\n",
    "k1 = 33363\n",
    "k2 = 26790\n",
    "k3 = 2610.5\n",
    "k4 = 8896\n",
    "k5 = 1169\n",
    "CpId = k1 + k2 * ((k3/Tsat) /np.sinh(k3/Tsat))**2\n",
    "CpId += k4 * ((k5/Tsat) /np.cosh(k5/Tsat))**2\n",
    "CpId /= 1000.  # J/mol K\n",
    "\n",
    "CvId = CpId - R  # J/ mol K\n",
    "\n",
    "\n",
    "# computing sautration properties: pressure, volumes, enthalpies and speed of sound.\n",
    "P = np.zeros_like(Psat) \n",
    "vl = np.zeros_like(rhol)\n",
    "vv = np.zeros_like(rhov)\n",
    "\n",
    "ul = np.zeros_like(speed_liq)\n",
    "uv = np.zeros_like(speed_vap)\n",
    "\n",
    "Hls = np.zeros_like(Hvap)\n",
    "Hvs = np.zeros_like(Hvap)\n",
    "\n",
    "n= len(Psat)\n",
    "i = 0 \n",
    "P[i], vl[i], vv[i] = eos.psat(Tsat[i], Psat[i])\n",
    "ul[i] = eos.speed_sound(Tsat[i], P[i], 'L', v0=vl[i], CvId=CvId[i], CpId=CpId[i])\n",
    "uv[i] = eos.speed_sound(Tsat[i], P[i], 'V', v0=vv[i], CvId=CvId[i], CpId=CpId[i])\n",
    "Hls[i] = eos.EnthalpyR(Tsat[i], P[i], 'L', v0=vl[i])\n",
    "Hvs[i] = eos.EnthalpyR(Tsat[i], P[i], 'V', v0=vv[i])\n",
    "\n",
    "# following iterations can use already computed volume roots\n",
    "for i in range(1, n):\n",
    "    P[i], vl[i], vv[i] = eos.psat(Tsat[i], Psat[i], v0 = [vl[i-1], vv[i-1]])\n",
    "    ul[i] = eos.speed_sound(Tsat[i], P[i], 'L', v0=vl[i], CvId=CvId[i], CpId=CpId[i])\n",
    "    uv[i] = eos.speed_sound(Tsat[i], P[i], 'V', v0=vv[i], CvId=CvId[i], CpId=CpId[i])\n",
    "    Hls[i] = eos.EnthalpyR(Tsat[i], P[i], 'L', v0=vl[i])\n",
    "    Hvs[i] = eos.EnthalpyR(Tsat[i], P[i], 'V', v0=vv[i])\n",
    "\n",
    "rhosaftl = 1/vl\n",
    "rhosaftv = 1/vv\n",
    "\n",
    "dHv = Hvs - Hls\n",
    "\n",
    "# fitting influence parameters using experimental IFT and computed saturation info\n",
    "cii = fit_cii(iftexp, Tsat, P, rhosaftl, rhosaftv, eos)\n",
    "eos.cii = cii\n",
    "\n",
    "ift = np.zeros_like(iftexp)\n",
    "for i in range(n):\n",
    "    ift[i] = sgt_pure(rhosaftv[i], rhosaftl[i], Tsat[i], Psat[i], eos)"
   ]
  },
  {
   "cell_type": "markdown",
   "metadata": {},
   "source": [
    "The results are plotted below."
   ]
  },
  {
   "cell_type": "code",
   "execution_count": 18,
   "metadata": {},
   "outputs": [
    {
     "data": {
      "image/png": "[encoded data removed]",
      "text/plain": [
       "<Figure size 576x576 with 4 Axes>"
      ]
     },
     "metadata": {
      "needs_background": "light"
     },
     "output_type": "display_data"
    }
   ],
   "source": [
    "fig = plt.figure(figsize = (8, 8))\n",
    "fig.subplots_adjust(wspace=0.3, hspace=0.3)\n",
    "\n",
    "ax = fig.add_subplot(221)\n",
    "ax.plot(Tsat, P/1e6, color='k')\n",
    "ax.plot(Tsat, Psat/1e6, 's', color='k')\n",
    "ax.set_xlabel('T / K')\n",
    "ax.set_ylabel('P / MPa')\n",
    "\n",
    "ax2 = fig.add_subplot(222)\n",
    "ax2.plot(rhosaftl, Tsat, color='k')\n",
    "ax2.plot(rhosaftv, Tsat, color='k')\n",
    "ax2.plot(rhol, Tsat, 's', color='k')\n",
    "ax2.plot(rhov, Tsat, 's', color='k')\n",
    "ax2.set_ylabel('T / K')\n",
    "ax2.set_xlabel(r'$\\rho$ / mol m$^{-3}$')\n",
    "\n",
    "ax3 = fig.add_subplot(223)\n",
    "ax3.plot(Tsat, dHv/1000, color='k')\n",
    "ax3.plot(Tsat, Hvap/1000, 's', color='k')\n",
    "ax3.set_xlabel('T / K')\n",
    "ax3.set_ylabel(r'$\\Delta$ H / J mol$^{-1}$')\n",
    "\n",
    "ax4 = fig.add_subplot(224)\n",
    "ax4.plot(ul, Tsat, color='k')\n",
    "ax4.plot(uv, Tsat, color='k')\n",
    "\n",
    "ax4.plot(speed_liq, Tsat, 's', color='k')\n",
    "ax4.plot(speed_vap, Tsat, 's', color='k')\n",
    "\n",
    "ax4.set_ylabel('T / K')\n",
    "ax4.set_xlabel(r'u / m s$^{-1}$')\n",
    "\n",
    "ax.tick_params(direction='in')\n",
    "ax2.tick_params(direction='in')\n",
    "ax3.tick_params(direction='in')\n",
    "ax4.tick_params(direction='in')\n",
    "# fig.savefig('properties_pure.pdf')"
   ]
  },
  {
   "cell_type": "code",
   "execution_count": 19,
   "metadata": {},
   "outputs": [
    {
     "data": {
      "image/png": "[encoded data removed]",
      "text/plain": [
       "<Figure size 360x360 with 1 Axes>"
      ]
     },
     "metadata": {
      "needs_background": "light"
     },
     "output_type": "display_data"
    }
   ],
   "source": [
    "fig = plt.figure(figsize = (5, 5))\n",
    "\n",
    "ax2 = fig.add_subplot(111)\n",
    "ax2.plot(Tsat, iftexp, 's', color='k')\n",
    "ax2.plot(Tsat, ift, color='k')\n",
    "ax2.set_xlabel('T / K')\n",
    "ax2.set_ylabel(r'$\\gamma$ / mN m$^{-1}$')\n",
    "\n",
    "ax.tick_params(direction='in')\n",
    "ax2.tick_params(direction='in')\n",
    "# fig.savefig('sgt_pure.pdf')"
   ]
  },
  {
   "cell_type": "markdown",
   "metadata": {},
   "source": [
    "For further information about a method just run: ```eos.method?```"
   ]
  }
 ],
 "metadata": {
  "kernelspec": {
   "display_name": "thermo",
   "language": "python",
   "name": "python3"
  },
  "language_info": {
   "codemirror_mode": {
    "name": "ipython",
    "version": 3
   },
   "file_extension": ".py",
   "mimetype": "text/x-python",
   "name": "python",
   "nbconvert_exporter": "python",
   "pygments_lexer": "ipython3",
   "version": "3.9.7"
  }
 },
 "nbformat": 4,
 "nbformat_minor": 4
}
