{
 "cells": [
  {
   "cell_type": "markdown",
   "metadata": {},
   "source": [
    "# VLE calculation for fluid mixtures with SAFT-$\\gamma$-Mie\n",
    "\n",
    "In this notebook, VLE calculations for fluid mixtures with ```saftgammamie``` EoS are illustrated.\n",
    "\n",
    "First, all the needed modules are imported.\n",
    "\n",
    "- numpy: numerical interface and work with arrays\n",
    "- matplotlib: to plot results\n",
    "- sgtpy: package with SAFT-$\\gamma$-Mie EoS and phase equilibria functions."
   ]
  },
  {
   "cell_type": "code",
   "execution_count": 1,
   "metadata": {},
   "outputs": [],
   "source": [
    "import numpy as np\n",
    "import matplotlib.pyplot as plt\n",
    "from sgtpy import component, mixture, saftgammamie"
   ]
  },
  {
   "cell_type": "markdown",
   "metadata": {},
   "source": [
    "Now, pure components are configured and created with the ```component``` function. Then, a mixture is created with them using the ```mixture``` function or by adding (`+`) pure components. The interaction parameters are set up with the ```mixture.saftgammamie``` method. Finally, the ```eos``` object is created with the ```saftgammamie``` function.\n",
    "\n",
    "The ```eos``` object includes all the necessary methods to compute phase equilibria and interfacial properties using SAFT-$\\gamma$-Mie EoS.\n",
    "\n",
    "For this notebook, all calculations are exemplified for a mixture of ethanol and water."
   ]
  },
  {
   "cell_type": "code",
   "execution_count": 2,
   "metadata": {},
   "outputs": [],
   "source": [
    "ethanol = component(GC={'CH3':1, 'CH2OH':1})\n",
    "water = component(GC={'H2O':1})\n",
    "\n",
    "# creating mixture with mixture class function\n",
    "mix = mixture(ethanol, water)\n",
    "# or creating mixture by adding pure components\n",
    "mix = ethanol + water\n",
    "\n",
    "mix.saftgammamie()\n",
    "eos = saftgammamie(mix)"
   ]
  },
  {
   "cell_type": "markdown",
   "metadata": {},
   "source": [
    "## Flash calculation\n",
    "\n",
    "This type of equilibria calculation is carried out at given global composition (z), temperature (K), and pressure (Pa) and can be used for vapor/liquid and liquid/liquid equilibria. \n",
    "\n",
    "The flash calculation is carried out with the ```flash``` function and it requires initial guesses for the phase composition ```x0```, ```y0``` and their aggregation state (```LV``` for liquid/vapor equilibria).\n",
    "\n",
    "The ```full_output``` option allows obtaining all the information related to the flash calculation. This includes the volume of the phases and the solution for the fraction of the nonbonded sites of each phase.\n",
    "\n",
    "**new in v0.0.19:** \n",
    "- The `flash` now includes the `not_in_x_list` and `not_in_y_list` attributes, where the user can provide the indices of a component not present in a phase.\n",
    "- The user can choose to minimize the Gibbs free energy using a Gibbs approach (T,P) or a Helmholtz approach (T,V). The minimization scheme is set the `minimization_approach` option to either `gibbs` or `helmholtz`."
   ]
  },
  {
   "cell_type": "code",
   "execution_count": 3,
   "metadata": {},
   "outputs": [
    {
     "data": {
      "text/plain": [
       "      T: 350.0\n",
       "      P: 70000.0\n",
       "   beta: 0.48191566748695747\n",
       "  error: 5.410489421411435e-09\n",
       "   iter: 10\n",
       "      X: array([0.1420527, 0.8579473])\n",
       "     v1: 2.4024973226065058e-05\n",
       "  Xass1: array([0.41915237, 0.13170452, 0.09188515, 0.18757305])\n",
       " state1: 'L'\n",
       "      Y: array([0.46980153, 0.53019847])\n",
       "     v2: 0.04033242163427562\n",
       "  Xass2: array([0.99116277, 0.98274724, 0.97872689, 0.99009905])\n",
       " state2: 'V'\n",
       " method: 'ASS'"
      ]
     },
     "execution_count": 3,
     "metadata": {},
     "output_type": "execute_result"
    }
   ],
   "source": [
    "from sgtpy.equilibrium import flash\n",
    "\n",
    "# flash conditions\n",
    "T = 350.  # K\n",
    "P = 7e4  # Pa\n",
    "z = np.array([0.3, 0.7])\n",
    "# initial guesses for liquid and vapor phase composition \n",
    "x0 = np.array([0.1, 0.9])\n",
    "y0 = np.array([0.5, 0.5])\n",
    "flash(x0, y0, 'LV', z, T, P, eos, full_output=True)"
   ]
  },
  {
   "cell_type": "markdown",
   "metadata": {},
   "source": [
    "In the previous calculation, both volume and nonbonded association sites were automatically initialized. When a good initial guess for any of these is available, these can be supplied to the ```flash``` function.\n",
    "\n",
    "This will result in a **faster** calculation.\n",
    "\n",
    "- Initial guesses for volumes are passed to the function to the ```v0``` option. \n",
    "- Initial guesses for nonbonded sites fraction are passed to the function to the ```Xass0```option."
   ]
  },
  {
   "cell_type": "code",
   "execution_count": 4,
   "metadata": {},
   "outputs": [
    {
     "data": {
      "text/plain": [
       "      T: 350.0\n",
       "      P: 70000.0\n",
       "   beta: 0.4819156674869751\n",
       "  error: 5.410489380384011e-09\n",
       "   iter: 10\n",
       "      X: array([0.1420527, 0.8579473])\n",
       "     v1: 2.402497322606474e-05\n",
       "  Xass1: array([0.41915237, 0.13170452, 0.09188515, 0.18757305])\n",
       " state1: 'L'\n",
       "      Y: array([0.46980153, 0.53019847])\n",
       "     v2: 0.04033242163427569\n",
       "  Xass2: array([0.99116277, 0.98274724, 0.97872689, 0.99009905])\n",
       " state2: 'V'\n",
       " method: 'ASS'"
      ]
     },
     "execution_count": 4,
     "metadata": {},
     "output_type": "execute_result"
    }
   ],
   "source": [
    "# flash conditions\n",
    "T = 350.  # K\n",
    "P = 7e4  # Pa\n",
    "z = np.array([0.3, 0.7])\n",
    "# initial guesses for liquid and vapor phase composition \n",
    "x0 = np.array([0.1, 0.9])\n",
    "y0 = np.array([0.5, 0.5])\n",
    "# initial guesses for volume of the phases in m3/mol\n",
    "vl0 = 2.4023739277071e-05\n",
    "vv0 = 0.04033242163966655\n",
    "# initial guesses for the nonbonded association fraction\n",
    "Xassl0 = np.array([0.41918497, 0.13169507, 0.091888  , 0.18755536])\n",
    "Xassv0 = np.array([0.99116277, 0.98274724, 0.97872689, 0.99009905])\n",
    "\n",
    "flash(x0, y0, 'LV', z, T, P, eos, v0=[vl0, vv0], Xass0=[Xassl0, Xassv0], full_output=True)"
   ]
  },
  {
   "cell_type": "markdown",
   "metadata": {
    "slideshow": {
     "slide_type": "subslide"
    }
   },
   "source": [
    "## Bubble point calculation\n",
    "\n",
    "This type of equilibria calculation is carried out at given composition (x) of a liquid phase and fixed temperature (K) or pressure (Pa).\n",
    "\n",
    "The function ```bubblePy``` is used to compute equilibrium pressure and vapor phase composition and it requires initial guesses of these variables. On the other hand, the function ```bubbleTy``` is used to compute equilibrium temperature and vapor phase composition, this function requires initial guesses of those variables.\n",
    "\n",
    "For both functions, the ```full_output``` option allows obtaining all the information related to the bubble point calculation. This includes the volume of the phases and the solution for the fraction of the nonbonded sites of each phase.\n",
    "\n",
    "Similarly as for flash calculation, initial guesses for the volume roots and nonbonded association sites can be supplied to the function using the ```v0``` and ```Xass0``` options.\n",
    "\n",
    "**new in v0.0.19:** \n",
    "- The `bubblePy` and `bubbleTy` now include the `not_in_y_list` attribute, where the user can provide the indices of a component not present in the vapor phase."
   ]
  },
  {
   "cell_type": "code",
   "execution_count": 5,
   "metadata": {},
   "outputs": [
    {
     "data": {
      "text/plain": [
       "      T: 350.0\n",
       "      P: 84684.08786842201\n",
       "  error: 5.344262810069722e-10\n",
       "   iter: 4\n",
       "      X: array([0.4, 0.6])\n",
       "     v1: 3.4490569961723566e-05\n",
       "  Xassl: array([0.25196453, 0.21802053, 0.07876354, 0.35073803])\n",
       " state1: 'Liquid'\n",
       "      Y: array([0.62168852, 0.37831148])\n",
       "     v2: 0.03319895233504519\n",
       "  Xassv: array([0.9864273 , 0.98215819, 0.9730384 , 0.9912061 ])\n",
       " state2: 'Vapor'\n",
       " method: 'quasi-newton + ASS'"
      ]
     },
     "execution_count": 5,
     "metadata": {},
     "output_type": "execute_result"
    }
   ],
   "source": [
    "# bubble point x, T -> y, P\n",
    "from sgtpy.equilibrium import bubblePy\n",
    "\n",
    "# bubble point conditions\n",
    "T = 350.  # K\n",
    "x = np.array([0.4, 0.6])\n",
    "\n",
    "# initial guesses for pressure and vapor phase composition \n",
    "P0 = 8e4  # Pa\n",
    "y0 = np.array([0.7, 0.3])\n",
    "\n",
    "bubblePy(y0, P0, x, T, eos, full_output=True)"
   ]
  },
  {
   "cell_type": "code",
   "execution_count": 6,
   "metadata": {},
   "outputs": [
    {
     "data": {
      "text/plain": [
       "      T: 348.591143468008\n",
       "      P: 80000.0\n",
       "  error: 6.816417231686822e-09\n",
       "   iter: 3\n",
       "      X: array([0.4, 0.6])\n",
       "     v1: 3.443905151267241e-05\n",
       "  Xassl: array([0.24880592, 0.21636302, 0.07730816, 0.34933479])\n",
       " state1: 'Liquid'\n",
       "      Y: array([0.62234296, 0.37765704])\n",
       "     v2: 0.03503884015665837\n",
       "  Xassv: array([0.98678429, 0.98265567, 0.97378494, 0.99147763])\n",
       " state2: 'Vapor'\n",
       " method: 'quasi-newton + ASS'"
      ]
     },
     "execution_count": 6,
     "metadata": {},
     "output_type": "execute_result"
    }
   ],
   "source": [
    "# bubble point x, P -> y, T\n",
    "from sgtpy.equilibrium import bubbleTy\n",
    "\n",
    "P = 8e4  # Pa\n",
    "x = np.array([0.4, 0.6])\n",
    "\n",
    "# initial guesses for temperature and vapor phase composition \n",
    "T0 = 350.  # K\n",
    "y0 = np.array([0.7, 0.3])\n",
    "\n",
    "bubbleTy(y0, T0, x, P, eos, full_output=True)"
   ]
  },
  {
   "cell_type": "markdown",
   "metadata": {},
   "source": [
    "## Dew point calculation\n",
    "\n",
    "This type of equilibria calculation is carried out at given composition (y) of a vapor phase and fixed temperature (K) or pressure (Pa).\n",
    "\n",
    "The function ```dewPx``` is used to compute equilibrium pressure and liquid phase composition and it requires initial guesses of these variables. On the other hand, the function ```dewTx``` is used to compute equilibrium temperature and liquid phase composition, this function requires initial guesses of those variables.\n",
    "\n",
    "For both functions, the ```full_output``` option allows obtaining all the information related to the dew point calculation. This includes the volume of the phases and the solution for the fraction of the nonbonded sites of each phase.\n",
    "\n",
    "Similarly, as for flash calculation, initial guesses for the volume roots and nonbonded association sites can be supplied to the function using the ```v0``` and ```Xass0``` options.\n",
    "\n",
    "**new in v0.0.19:** \n",
    "- The `dewTx` and `dewPx` now include the `not_in_x_list` attribute, where the user can provide the indices of a component not present in the liquid phase."
   ]
  },
  {
   "cell_type": "code",
   "execution_count": 7,
   "metadata": {},
   "outputs": [
    {
     "data": {
      "text/plain": [
       "      T: 350.0\n",
       "      P: 89838.4607895774\n",
       "  error: 8.032977172334199e-09\n",
       "   iter: 3\n",
       "      X: array([0.58874252, 0.41125748])\n",
       "     v1: 4.256377172191046e-05\n",
       "  Xassl: array([0.18903435, 0.29803731, 0.07461793, 0.49904865])\n",
       " state1: 'Liquid'\n",
       "      Y: array([0.7, 0.3])\n",
       "     v2: 0.031261997495979583\n",
       "  Xassv: array([0.98403124, 0.98272147, 0.97072448, 0.99241082])\n",
       " state2: 'Vapor'\n",
       " method: 'quasi-newton + ASS'"
      ]
     },
     "execution_count": 7,
     "metadata": {},
     "output_type": "execute_result"
    }
   ],
   "source": [
    "# dew point y, T -> x, P\n",
    "from sgtpy.equilibrium import dewPx\n",
    "\n",
    "T = 350.  # K\n",
    "y = np.array([0.7, 0.3])\n",
    "\n",
    "# initial guesses for pressure and liquid phase composition \n",
    "P0 = 8e4  # Pa\n",
    "x0 = np.array([0.4, 0.6])\n",
    "\n",
    "dewPx(x0, P0, y, T, eos, full_output=True)"
   ]
  },
  {
   "cell_type": "code",
   "execution_count": 8,
   "metadata": {},
   "outputs": [
    {
     "data": {
      "text/plain": [
       "      T: 347.1532609685852\n",
       "      P: 80000.0\n",
       "  error: 9.903189379656887e-14\n",
       "   iter: 4\n",
       "      X: array([0.58672283, 0.41327717])\n",
       "     v1: 4.2336901753294854e-05\n",
       "  Xassl: array([0.18347498, 0.29351373, 0.07167943, 0.49506281])\n",
       " state1: 'Liquid'\n",
       "      Y: array([0.7, 0.3])\n",
       "     v2: 0.03489866499595266\n",
       "  Xassv: array([0.98490102, 0.98366633, 0.97236853, 0.99286495])\n",
       " state2: 'Vapor'\n",
       " method: 'quasi-newton + ASS'"
      ]
     },
     "execution_count": 8,
     "metadata": {},
     "output_type": "execute_result"
    }
   ],
   "source": [
    "# dew point y, P -> x, T\n",
    "from sgtpy.equilibrium import dewTx\n",
    "\n",
    "P = 8e4  # Pa\n",
    "y = np.array([0.7, 0.3])\n",
    "\n",
    "# initial guesses for temperature and liquid phase composition \n",
    "T0 = 350.  # K\n",
    "x0 = np.array([0.4, 0.6])\n",
    "\n",
    "dewTx(x0, T0, y, P, eos, full_output=True)"
   ]
  },
  {
   "cell_type": "markdown",
   "metadata": {},
   "source": [
    "## Whole phase diagram calculation\n",
    "\n",
    "In the following codeblock, the whole phase diagram is computed at a constant temperature.\n",
    "It is advised to store the computed volume roots and nonbonded sites fraction, as these can be used in the following iterations to speed up calculations."
   ]
  },
  {
   "cell_type": "code",
   "execution_count": 9,
   "metadata": {},
   "outputs": [
    {
     "data": {
      "text/plain": [
       "      T: 350\n",
       "      P: 41041.3732219129\n",
       "  error: 6.3905547520448636e-12\n",
       "   iter: 4\n",
       "      X: array([0., 1.])\n",
       "     v1: 1.8623432572732897e-05\n",
       "  Xassl: array([0.63765482, 0.09073653, 0.11294831, 0.11294831])\n",
       " state1: 'Liquid'\n",
       "      Y: array([0., 1.])\n",
       "     v2: 0.06936831715704428\n",
       "  Xassv: array([0.99915561, 0.98531567, 0.9894095 , 0.9894095 ])\n",
       " state2: 'Vapor'\n",
       " method: 'quasi-newton + ASS'"
      ]
     },
     "execution_count": 9,
     "metadata": {},
     "output_type": "execute_result"
    }
   ],
   "source": [
    "T = 350 # K\n",
    "n = 50  # number of points in the diagram\n",
    "x1 = np.linspace(0, 1, n)\n",
    "X = np.array([x1, 1-x1])\n",
    "\n",
    "# creating arrays to store the results\n",
    "P = np.zeros(n)\n",
    "Y = np.zeros_like(X)\n",
    "vx = np.zeros(n)\n",
    "vy = np.zeros(n)\n",
    "\n",
    "# computing first point - pure fluid 2\n",
    "i = 0 \n",
    "P0 = 4e4\n",
    "sol = bubblePy(X[:, i], P0, X[:, i], T, eos, full_output=True)\n",
    "Y[:,i], P[i] = sol.Y, sol.P\n",
    "vx[i], vy[i] = sol.v1, sol.v2\n",
    "Xassl, Xassv = sol.Xassl, sol.Xassv\n",
    "sol"
   ]
  },
  {
   "cell_type": "code",
   "execution_count": 10,
   "metadata": {},
   "outputs": [],
   "source": [
    "# computing the rest of the diagram using the already computed values as initial guesses\n",
    "for i in range(1, n):\n",
    "    sol = bubblePy(Y[:,i-1], P[i-1], X[:, i], T, eos, v0=[vx[i-1], vy[i-1]], Xass0=[Xassl, Xassv],\n",
    "                   full_output=True)\n",
    "    Y[:,i], P[i] = sol.Y, sol.P\n",
    "    vx[i], vy[i] = sol.v1, sol.v2\n",
    "    Xassl, Xassv = sol.Xassl, sol.Xassv"
   ]
  },
  {
   "cell_type": "code",
   "execution_count": 11,
   "metadata": {},
   "outputs": [
    {
     "data": {
      "image/png": "[encoded data removed]",
      "text/plain": [
       "<Figure size 360x360 with 1 Axes>"
      ]
     },
     "metadata": {
      "needs_background": "light"
     },
     "output_type": "display_data"
    }
   ],
   "source": [
    "fig = plt.figure(figsize=(5,5))\n",
    "ax = fig.add_subplot(111)\n",
    "ax.plot(X[0], P/1e3, color='b')\n",
    "ax.plot(Y[0], P/1e3, color='r')\n",
    "ax.set_xlabel('$x_1, y_1$')\n",
    "ax.set_ylabel('P / kPa')\n",
    "ax.set_xlim([0, 1])\n",
    "ax.set_ylim([30, 100])\n",
    "ax.tick_params(direction='in')\n",
    "# fig.savefig('vle-binary.pdf')"
   ]
  },
  {
   "cell_type": "markdown",
   "metadata": {},
   "source": [
    "For further information of any of these functions just run: ```function?```"
   ]
  }
 ],
 "metadata": {
  "kernelspec": {
   "display_name": "thermo",
   "language": "python",
   "name": "python3"
  },
  "language_info": {
   "codemirror_mode": {
    "name": "ipython",
    "version": 3
   },
   "file_extension": ".py",
   "mimetype": "text/x-python",
   "name": "python",
   "nbconvert_exporter": "python",
   "pygments_lexer": "ipython3",
   "version": "3.9.7"
  }
 },
 "nbformat": 4,
 "nbformat_minor": 4
}
