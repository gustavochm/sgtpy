{
 "cells": [
  {
   "cell_type": "markdown",
   "metadata": {},
   "source": [
    "# Two-Phase Flash Calculation (VLE and LLE)\n",
    "\n",
    "The isothermal-isobaric two-phase flash is carried out by a combination of accelerated successive substitution (ASS) to update phase compositions and Halley's method to solve the Rachford-Rice mass balance. \n",
    "\n",
    "$$ FO = \\sum_{i=1}^c \\left( x_i^\\beta - x_i^\\alpha \\right) = \\sum_{i=1}^c \\frac{z_i (K_i-1)}{1+\\psi (K_i-1)} $$\n",
    "\n",
    "Where,  $K_i = x_i^\\beta/x_i^\\alpha =\\hat{\\phi}_i^\\alpha /\\hat{\\phi}_i^\\beta  $ represents the equilibrium constant  and $\\psi$ the fraction of the phase $\\beta$. The described method can be slow at high pressures, for that reason, the number of cycles of ASS is limited to ``nacc`` cycles and if no solution is reached the algorithm changes to a second-order procedure based on Gibbs free energy minimization:\n",
    "\n",
    "$$ min \\, {G(\\underline{F}^\\alpha, \\underline{F}^\\beta)} = \\sum_{i=1}^c (F_i^\\alpha \\ln \\hat{f}_i^\\alpha + F_i^\\beta \\ln \\hat{f}_i^\\beta) $$\n",
    "\n",
    "Here, $F$ refers to the number of moles and $\\hat{f}$ to the effective fugacity, the superscript refers to the phase index and the subscript to the specie index. The optimization is performed using SciPy minimization routines.\n",
    "\n",
    "SGTPy ``flash`` routine solves phase compositions for two-phase flash at constant pressure and temperature (PT-flash).  The ```flash``` function requires initial guesses for the phase compositions, the states of the phases, i.e ```LV``` fo liquid-vapor flash or ```LL``` for liquid-liquid flash, the global phase composition (``z``),  the temperature (``T``) and pressure (``P``) of the system.\n",
    "\n",
    "In this notebook, Vapor-Liquid and Liquid-Liquid flash calculation will be exemplified. To start, the required functions are imported."
   ]
  },
  {
   "cell_type": "code",
   "execution_count": 1,
   "metadata": {},
   "outputs": [],
   "source": [
    "import numpy as np\n",
    "from sgtpy import component, mixture, saftvrmie\n",
    "from sgtpy.equilibrium import flash"
   ]
  },
  {
   "cell_type": "markdown",
   "metadata": {},
   "source": [
    "---\n",
    "### Vapor Liquid Equilibrium Flash\n",
    "\n",
    "This calculation will be exemplified for the mixture of ethanol and water."
   ]
  },
  {
   "cell_type": "code",
   "execution_count": 2,
   "metadata": {},
   "outputs": [
    {
     "name": "stderr",
     "output_type": "stream",
     "text": [
      "/Users/gac21/Documents/sgtpy/sgtpy/vrmie_pure/ideal.py:25: RuntimeWarning: invalid value encountered in log\n",
      "  a = np.log(rho * broglie_vol**3) - 1\n"
     ]
    },
    {
     "data": {
      "text/plain": [
       "(array([0.26355655, 0.73644345]),\n",
       " array([0.55807908, 0.44192092]),\n",
       " 0.4632699994827298)"
      ]
     },
     "execution_count": 2,
     "metadata": {},
     "output_type": "execute_result"
    }
   ],
   "source": [
    "water = component('water', ms = 1.7311, sigma = 2.4539 , eps = 110.85,\n",
    "                    lambda_r = 8.308, lambda_a = 6.,  eAB = 1991.07, rcAB = 0.5624,\n",
    "                    rdAB = 0.4, sites = [0,2,2], cii = 1.5371939421515455e-20)\n",
    "\n",
    "ethanol = component('ethanol2C', ms = 1.7728, sigma = 3.5592 , eps = 224.50,\n",
    "                    lambda_r = 11.319, lambda_a = 6., eAB = 3018.05, rcAB = 0.3547,\n",
    "                    rdAB = 0.4, sites = [1,0,1], cii= 5.3141080872882285e-20)\n",
    "\n",
    "mix = mixture(ethanol, water)\n",
    "# or \n",
    "mix = ethanol + water\n",
    "\n",
    "kij, lij = np.array([-0.0069751 , -0.01521566])\n",
    "\n",
    "Kij = np.array([[0, kij], [kij, 0]])\n",
    "Lij = np.array([[0., lij], [lij, 0]])\n",
    "# setting interactions corrections\n",
    "mix.kij_saft(Kij)\n",
    "mix.lij_saft(Lij)\n",
    "\n",
    "# or setting interaction between component i=0 (ethanol) and j=1 (water)\n",
    "mix.set_kijsaft(i=0, j=1, kij0=kij)\n",
    "mix.set_lijsaft(i=0, j=1, lij0=lij)\n",
    "\n",
    "# creating eos model\n",
    "eos_vle = saftvrmie(mix)\n",
    "# flash conditions\n",
    "T = 355. # K\n",
    "P = 1e5 # Pa\n",
    "z = np.array([0.4, 0.6]) # global composition\n",
    "# initial guesses\n",
    "x0 = np.array([0.2, 0.8]) \n",
    "y0 = np.array([0.6, 0.4])\n",
    "\n",
    "#liquid phase composition, vapor phase composition and vapor phase fraction.\n",
    "flash(x0, y0, 'LV', z, T, P, eos_vle)"
   ]
  },
  {
   "cell_type": "markdown",
   "metadata": {},
   "source": [
    "Optionally, you can supply initial guesses for the phase volumes (``v0``) or the non-bonded association sites solution (``Xass0``). These initial guesses can be obtained from previous computations and the ``full_output=True`` option."
   ]
  },
  {
   "cell_type": "code",
   "execution_count": 3,
   "metadata": {},
   "outputs": [
    {
     "data": {
      "text/plain": [
       "      T: 355.0\n",
       "      P: 100000.0\n",
       "   beta: 0.4632699994827298\n",
       "  error: 6.866843745800164e-09\n",
       "   iter: 14\n",
       "      X: array([0.26355655, 0.73644345])\n",
       "     v1: 2.9414097114277835e-05\n",
       "  Xass1: array([0.03669632, 0.10345249, 0.10315897, 0.19817013])\n",
       " state1: 'L'\n",
       "      Y: array([0.55807908, 0.44192092])\n",
       "     v2: 0.028136298011136592\n",
       "  Xass2: array([0.9410755 , 0.96994287, 0.97517731, 0.98397015])\n",
       " state2: 'V'\n",
       " method: 'ASS'"
      ]
     },
     "execution_count": 3,
     "metadata": {},
     "output_type": "execute_result"
    }
   ],
   "source": [
    "# flash conditions\n",
    "T = 355. # K\n",
    "P = 1e5 # Pa\n",
    "z = np.array([0.4, 0.6]) # global composition\n",
    "# initial guesses\n",
    "x0 = np.array([0.2, 0.8]) \n",
    "y0 = np.array([0.6, 0.4])\n",
    "sol_vle = flash(x0, y0, 'LV', z, T, P, eos_vle, full_output=True)\n",
    "sol_vle"
   ]
  },
  {
   "cell_type": "code",
   "execution_count": 4,
   "metadata": {},
   "outputs": [
    {
     "data": {
      "text/plain": [
       "      T: 355.0\n",
       "      P: 100000.0\n",
       "   beta: 0.4632699994820702\n",
       "  error: 6.866843637809277e-09\n",
       "   iter: 14\n",
       "      X: array([0.26355655, 0.73644345])\n",
       "     v1: 2.9414097114300237e-05\n",
       "  Xass1: array([0.03669632, 0.10345249, 0.10315897, 0.19817013])\n",
       " state1: 'L'\n",
       "      Y: array([0.55807908, 0.44192092])\n",
       "     v2: 0.028136298011136637\n",
       "  Xass2: array([0.9410755 , 0.96994287, 0.97517731, 0.98397015])\n",
       " state2: 'V'\n",
       " method: 'ASS'"
      ]
     },
     "execution_count": 4,
     "metadata": {},
     "output_type": "execute_result"
    }
   ],
   "source": [
    "# flash conditions\n",
    "T = 355. # K\n",
    "P = 1e5 # Pa\n",
    "z = np.array([0.4, 0.6]) # global composition\n",
    "# initial guesses\n",
    "x0 = np.array([0.2, 0.8]) \n",
    "y0 = np.array([0.6, 0.4])\n",
    "v0 = [sol_vle.v1, sol_vle.v2]\n",
    "Xass0 = [sol_vle.Xass1, sol_vle.Xass2]\n",
    "# Flash supplying initial guess for volumes and non-bonded association sites fractions\n",
    "flash(x0, y0, 'LV', z, T, P, eos_vle, v0=v0, Xass0=Xass0, full_output=True)"
   ]
  },
  {
   "cell_type": "markdown",
   "metadata": {},
   "source": [
    "---\n",
    "### Liquid Liquid Equilibrium Flash\n",
    "\n",
    "This calculation will be exemplified for the mixture of water and butanol."
   ]
  },
  {
   "cell_type": "code",
   "execution_count": 5,
   "metadata": {},
   "outputs": [
    {
     "data": {
      "text/plain": [
       "      T: 298.15\n",
       "      P: 101325.0\n",
       "   beta: 0.3756942710150989\n",
       "  error: 2.3172355378048865e-09\n",
       "   iter: 20\n",
       "      X: array([0.96022176, 0.03977824])\n",
       "     v1: 2.0314212300536335e-05\n",
       "  Xass1: array([0.05681887, 0.07391654, 0.01687656, 0.03815008])\n",
       " state1: 'L'\n",
       "      Y: array([0.5337533, 0.4662467])\n",
       "     v2: 5.1360765064396604e-05\n",
       "  Xass2: array([0.06370414, 0.1981249 , 0.02977361, 0.11681789])\n",
       " state2: 'L'\n",
       " method: 'Gibbs_minimization'"
      ]
     },
     "execution_count": 5,
     "metadata": {},
     "output_type": "execute_result"
    }
   ],
   "source": [
    "# creating pure components\n",
    "water = component('water', ms = 1.7311, sigma = 2.4539 , eps = 110.85,\n",
    "                    lambda_r = 8.308, lambda_a = 6., eAB = 1991.07, rcAB = 0.5624,\n",
    "                    rdAB = 0.4, sites = [0,2,2], cii = 1.5371939421515458e-20)\n",
    "\n",
    "butanol = component('butanol2C', ms = 1.9651, sigma = 4.1077 , eps = 277.892,\n",
    "                    lambda_r = 10.6689, lambda_a = 6., eAB = 3300.0, rcAB = 0.2615,\n",
    "                    rdAB = 0.4, sites = [1,0,1], npol = 1.45, mupol = 1.6609,\n",
    "                    cii  = 1.5018715324070352e-19)\n",
    "mix = mixture(water, butanol)\n",
    "# or\n",
    "mix = water + butanol\n",
    "\n",
    "# optimized from experimental LLE\n",
    "kij, lij = np.array([-0.00736075, -0.00737153])\n",
    "Kij = np.array([[0, kij], [kij, 0]])\n",
    "Lij = np.array([[0., lij], [lij, 0]])\n",
    "\n",
    "# or setting interaction between component i=0 (water) and j=1 (butanol)\n",
    "mix.set_kijsaft(i=0, j=1, kij0=kij)\n",
    "mix.set_lijsaft(i=0, j=1, lij0=lij)\n",
    "\n",
    "# setting interactions corrections\n",
    "mix.kij_saft(Kij)\n",
    "mix.lij_saft(Lij)\n",
    "# creating eos model\n",
    "eos = saftvrmie(mix)\n",
    "\n",
    "T = 298.15 # K\n",
    "P = 1.01325e5 # Pa\n",
    "\n",
    "# global composition\n",
    "z = np.array([0.8,0.2])\n",
    "# initial guesses for the liquid phase composition\n",
    "x0 = np.array([0.9, 0.1])\n",
    "w0 = np.array([0.6, 0.4])\n",
    "\n",
    "#liquid 1 phase composition, liquid phase 2 composition and liquid 2 phase fraction.\n",
    "flash(x0, w0, 'LL', z, T, P, eos, full_output=True)"
   ]
  },
  {
   "cell_type": "markdown",
   "metadata": {},
   "source": [
    "---\n",
    "For further information about the flash function check out the documentation running: ``flash?``"
   ]
  },
  {
   "cell_type": "code",
   "execution_count": null,
   "metadata": {},
   "outputs": [],
   "source": []
  }
 ],
 "metadata": {
  "kernelspec": {
   "display_name": "thermo",
   "language": "python",
   "name": "python3"
  },
  "language_info": {
   "codemirror_mode": {
    "name": "ipython",
    "version": 3
   },
   "file_extension": ".py",
   "mimetype": "text/x-python",
   "name": "python",
   "nbconvert_exporter": "python",
   "pygments_lexer": "ipython3",
   "version": "3.9.7"
  }
 },
 "nbformat": 4,
 "nbformat_minor": 4
}
