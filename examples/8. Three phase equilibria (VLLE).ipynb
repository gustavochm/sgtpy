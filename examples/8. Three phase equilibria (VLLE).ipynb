{
 "cells": [
  {
   "cell_type": "markdown",
   "metadata": {},
   "source": [
    "# Vapor Liquid Liquid Equilibrium (VLLE)\n",
    "\n",
    "This notebook exemplifies the three phase equilibria calculation. The VLLE calculation is separated into two cases:\n",
    "\n",
    "- Binary mixtures: due to degrees of freedom restrictions the VLLE is computed at given temperature or pressure. This is solved using the  ``vlleb`` function.\n",
    "\n",
    "- Mixtures with three or more components: the VLLE is computed at given global composition, temperature and pressure. This is solved using the ``vlle`` function.\n",
    "\n",
    "\n",
    "To start, the required functions are imported."
   ]
  },
  {
   "cell_type": "code",
   "execution_count": 1,
   "metadata": {},
   "outputs": [],
   "source": [
    "import numpy as np\n",
    "from sgtpy import component, mixture, saftvrmie\n",
    "from sgtpy.equilibrium import vlle, vlleb"
   ]
  },
  {
   "cell_type": "markdown",
   "metadata": {},
   "source": [
    "---\n",
    "## Binary (two-component) mixture VLLE\n",
    "\n",
    "The VLLE computation for binary mixtures is solution is based on the following objective function:\n",
    "\n",
    "\n",
    "$$ K_{ik} x_{ir} - x_{ik} = 0  \\qquad i = 1,...,c \\quad k = 2,3 $$\n",
    "$$ \\sum_{i=1}^c x_{ik} = 1 \\qquad k = 1, 2, 3$$\n",
    "\n",
    "Where, $x_{ik}$ is the molar fraction of the component $i$ on the phase $k$ and $ K_{ik} = x_{ik}/x_{ir} = \\hat{\\phi}_{ir}/\\hat{\\phi}_{ik} $ is the constant equilibrium respect to a reference phase $r$. \n",
    "\n",
    "\n",
    "**note:** this calculation does not check for the stability of the phases.\n",
    "\n",
    "\n",
    "In the following code block, the VLLE calculation for the binary mixture of water and butanol is exemplified.   For binary mixtures, the VLLE is computed at either given pressure (``P``) or temperature (``T``). The function ``vlleb`` requires either of those and initial guesses unknown variables (phase compositions and unknown specification).\n",
    "\n",
    "First, the mixture and its interaction parameters are set up."
   ]
  },
  {
   "cell_type": "code",
   "execution_count": 2,
   "metadata": {},
   "outputs": [],
   "source": [
    "# creating pure components\n",
    "water = component('water', ms = 1.7311, sigma = 2.4539 , eps = 110.85,\n",
    "                    lambda_r = 8.308, lambda_a = 6., eAB = 1991.07, rcAB = 0.5624,\n",
    "                    rdAB = 0.4, sites = [0,2,2], cii = 1.5371939421515458e-20)\n",
    "\n",
    "butanol = component('butanol2C', ms = 1.9651, sigma = 4.1077 , eps = 277.892,\n",
    "                    lambda_r = 10.6689, lambda_a = 6., eAB = 3300.0, rcAB = 0.2615,\n",
    "                    rdAB = 0.4, sites = [1,0,1], npol = 1.45, mupol = 1.6609,\n",
    "                    cii  = 1.5018715324070352e-19)\n",
    "mix = mixture(water, butanol)\n",
    "# or\n",
    "mix = water + butanol\n",
    "\n",
    "# optimized from experimental LLE\n",
    "kij, lij = np.array([-0.00736075, -0.00737153])\n",
    "Kij = np.array([[0, kij], [kij, 0]])\n",
    "Lij = np.array([[0., lij], [lij, 0]])\n",
    "# setting interactions corrections\n",
    "mix.kij_saft(Kij)\n",
    "mix.lij_saft(Lij)\n",
    "\n",
    "# or setting interaction between component i=0 (water) and j=1 (butanol)\n",
    "mix.set_kijsaft(i=0, j=1, kij0=kij)\n",
    "mix.set_lijsaft(i=0, j=1, lij0=lij)\n",
    "\n",
    "# creating eos model\n",
    "eosb = saftvrmie(mix)"
   ]
  },
  {
   "cell_type": "markdown",
   "metadata": {},
   "source": [
    "The binary VLLE at constant pressure is computed as follows:"
   ]
  },
  {
   "cell_type": "code",
   "execution_count": 3,
   "metadata": {},
   "outputs": [
    {
     "data": {
      "text/plain": [
       "      T: 367.2045618687536\n",
       "      P: 101325.0\n",
       "  error: 7.346994994584397e-10\n",
       "   nfev: 17\n",
       "      X: array([0.94267072, 0.05732928])\n",
       "     vx: 2.2876713199786266e-05\n",
       "  Xassx: array([0.1189557 , 0.14314252, 0.05083917, 0.10609223])\n",
       " statex: 'Liquid'\n",
       "      W: array([0.61296236, 0.38703764])\n",
       "     vw: 4.894356900152204e-05\n",
       "  Xassw: array([0.14552605, 0.27708904, 0.08764041, 0.22462698])\n",
       " statew: 'Liquid'\n",
       "      Y: array([0.77529986, 0.22470014])\n",
       "     vy: 0.02927524172459546\n",
       "  Xassy: array([0.98580533, 0.98766678, 0.97137887, 0.98550529])\n",
       " statey: 'Vapor'"
      ]
     },
     "execution_count": 3,
     "metadata": {},
     "output_type": "execute_result"
    }
   ],
   "source": [
    "#computed \n",
    "P = 1.01325e5 # Pa\n",
    "# initial guesses\n",
    "x0 = np.array([0.96, 0.06])\n",
    "w0 = np.array([0.53, 0.47])\n",
    "y0 = np.array([0.8, 0.2])\n",
    "T0 = 350. # K\n",
    "vlleb(x0, w0, y0, T0, P, 'P', eosb, full_output=True)"
   ]
  },
  {
   "cell_type": "markdown",
   "metadata": {},
   "source": [
    "Similarly, the binary VLLE at constant temperature is computed below:"
   ]
  },
  {
   "cell_type": "code",
   "execution_count": 4,
   "metadata": {},
   "outputs": [
    {
     "data": {
      "text/plain": [
       "      T: 350.0\n",
       "      P: 50892.23092767393\n",
       "  error: 5.976945085847136e-12\n",
       "   nfev: 17\n",
       "      X: array([0.94825583, 0.05174417])\n",
       "     vx: 2.2088195154117732e-05\n",
       "  Xassx: array([0.10141378, 0.12353259, 0.03996736, 0.08493912])\n",
       " statex: 'Liquid'\n",
       "      W: array([0.58993921, 0.41006079])\n",
       "     vw: 4.976651311789866e-05\n",
       "  Xassw: array([0.12269929, 0.25903408, 0.07057308, 0.19750628])\n",
       " statew: 'Liquid'\n",
       "      Y: array([0.79056736, 0.20943264])\n",
       "     vy: 0.05606543054348595\n",
       "  Xassy: array([0.99018342, 0.99145345, 0.97859919, 0.98919639])\n",
       " statey: 'Vapor'"
      ]
     },
     "execution_count": 4,
     "metadata": {},
     "output_type": "execute_result"
    }
   ],
   "source": [
    "T = 350. # K\n",
    "# initial guesses\n",
    "x0 = np.array([0.96, 0.06])\n",
    "w0 = np.array([0.53, 0.47])\n",
    "y0 = np.array([0.8, 0.2])\n",
    "P0 = 4e4 # Pa\n",
    "sol_vlleb = vlleb(x0, w0, y0, P0, T, 'T', eosb, full_output=True)\n",
    "sol_vlleb"
   ]
  },
  {
   "cell_type": "markdown",
   "metadata": {},
   "source": [
    "You can also supply initial guesses for the phase volumes (``v0``) or non-bonded association site fractions (``Xass0``), which can come from a previous calculation using the ``full_output=True`` option."
   ]
  },
  {
   "cell_type": "code",
   "execution_count": 5,
   "metadata": {},
   "outputs": [
    {
     "data": {
      "text/plain": [
       "      T: 350.0\n",
       "      P: 50892.23092767446\n",
       "  error: 5.985002810288147e-12\n",
       "   nfev: 17\n",
       "      X: array([0.94825583, 0.05174417])\n",
       "     vx: 2.2088195154118596e-05\n",
       "  Xassx: array([0.10141378, 0.12353259, 0.03996736, 0.08493912])\n",
       " statex: 'Liquid'\n",
       "      W: array([0.58993921, 0.41006079])\n",
       "     vw: 4.97665131178965e-05\n",
       "  Xassw: array([0.12269929, 0.25903408, 0.07057308, 0.19750628])\n",
       " statew: 'Liquid'\n",
       "      Y: array([0.79056736, 0.20943264])\n",
       "     vy: 0.056065430543485624\n",
       "  Xassy: array([0.99018342, 0.99145345, 0.97859919, 0.98919639])\n",
       " statey: 'Vapor'"
      ]
     },
     "execution_count": 5,
     "metadata": {},
     "output_type": "execute_result"
    }
   ],
   "source": [
    "T = 350. # K\n",
    "# initial guesses\n",
    "x0 = np.array([0.96, 0.06])\n",
    "w0 = np.array([0.53, 0.47])\n",
    "y0 = np.array([0.8, 0.2])\n",
    "P0 = 4e4 # Pa\n",
    "v0 = [sol_vlleb.vx, sol_vlleb.vw, sol_vlleb.vy]\n",
    "Xass0 = [sol_vlleb.Xassx, sol_vlleb.Xassx, sol_vlleb.Xassx]\n",
    "# VLLE supplying initial guess for volumes and non-bonded association sites fractions\n",
    "vlleb(x0, w0, y0, P0, T, 'T', eosb, v0=v0, Xass0=Xass0, full_output=True)"
   ]
  },
  {
   "cell_type": "markdown",
   "metadata": {},
   "source": [
    "---\n",
    "## Multicomponent mixture VLLE\n",
    "\n",
    "Phase stability plays a key role during equilibrium computation when dealing with more than two liquid phases. For this purpose the following modified multiphase Rachford-Rice mass balance has been proposed [Gupta et al.](https://www.sciencedirect.com/science/article/pii/037838129180021M):\n",
    "\n",
    "\n",
    "$$ \\sum_{i=1}^c \\frac{z_i (K_{ik} \\exp{\\theta_k}-1)}{1+ \\sum\\limits^{\\pi}_{\\substack{j=1 \\\\ j \\neq r}}{\\psi_j (K_{ij}} \\exp{\\theta_j} -1)} = 0 \\qquad k = 1,..., \\pi,  k \\neq r $$\n",
    "\n",
    "Subject to:\n",
    "\n",
    "$$ \\psi_k \\theta_k = 0 $$\n",
    "\n",
    "In this system of equations, $z_i$ represents the global composition of the component $i$,  $ K_{ij} = x_{ij}/x_{ir} = \\hat{\\phi}_{ir}/\\hat{\\phi}_{ij} $ is the constant equilibrium of component $i$ in phase $j$ respect to the reference phase $r$, and $\\psi_j$ and $\\theta_j$ are the phase fraction and stability variable of the phase $j$.  \n",
    "\n",
    "The solution strategy is similar to the classic isothermal isobaric two-phase flash. First, a reference phase must be selected, this phase is considered stable during the procedure. In an inner loop, the system of equations is solved using multidimensional Newton's method for phase fractions and stability variables and then compositions are updated in an outer loop using accelerated successive substitution (ASS).  Once the algorithm has converged, the stability variable gives information about the phase. If it takes a value of zero the phase is stable and if it is positive the phase is not.  The proposed successive substitution method can be slow, if that is the case the algorithm attempts to minimize Gibbs Free energy of the system. This procedure also ensures stable solutions and is solved using SciPy's functions.\n",
    "\n",
    "$$ min \\, {G} = \\sum_{k=1}^\\pi \\sum_{i=1}^c F_{ik} \\ln \\hat{f}_{ik}  $$\n",
    "\n",
    "\n",
    "The next code block exemplifies the VLLE calculation for the mixture of water, ethanol and MTBE. This is done with the ``vlle`` function, which incorporates the algorithm described above. This functions requires the global composition (``z``), temperature (``T``) and pressure (``P``). Additionally, the ``vlle`` function requires initial guesses for the composition of the phases."
   ]
  },
  {
   "cell_type": "code",
   "execution_count": 6,
   "metadata": {},
   "outputs": [],
   "source": [
    "water = component('water', ms = 1.7311, sigma = 2.4539 , eps = 110.85,\n",
    "                    lambda_r = 8.308, lambda_a = 6.,  eAB = 1991.07, rcAB = 0.5624,\n",
    "                    rdAB = 0.4, sites = [0,2,2], cii = 1.5371939421515455e-20)\n",
    "\n",
    "butanol = component('butanol2C', ms = 1.9651, sigma = 4.1077 , eps = 277.892,\n",
    "                    lambda_r = 10.6689, lambda_a = 6., eAB = 3300.0, rcAB = 0.2615,\n",
    "                    rdAB = 0.4, sites = [1,0,1], npol = 1.45, mupol = 1.6609,\n",
    "                    cii  = 1.5018715324070352e-19)\n",
    "\n",
    "mtbe = component('mtbe', ms =2.17847383,  sigma=  4.19140014, eps =  306.52083841,\n",
    "                 lambda_r = 14.74135198, lambda_a = 6.0, npol = 2.95094686,  \n",
    "                 mupol = 1.3611, sites = [0,0,1], cii =3.5779968517655445e-19 )\n",
    "\n",
    "mix = mixture(water, butanol)\n",
    "mix.add_component(mtbe)\n",
    "# or\n",
    "mix = water + butanol + mtbe\n",
    "\n",
    "\n",
    "#butanol water\n",
    "k12, l12 = np.array([-0.00736075, -0.00737153])\n",
    "\n",
    "#mtbe butanol\n",
    "k23 = -0.0029995\n",
    "l23 = 0.\n",
    "rc23 =  1.90982649\n",
    "\n",
    "#mtbe water\n",
    "k13 = -0.07331438\n",
    "l13 = 0.\n",
    "rc13 = 2.84367922\n",
    "\n",
    "# setting up interaction corrections\n",
    "Kij = np.array([[0., k12, k13], [k12, 0., k23], [k13, k23, 0.]])\n",
    "Lij = np.array([[0., l12, l13], [l12, 0., l23], [l13, l23, 0.]])\n",
    "mix.kij_saft(Kij)\n",
    "mix.lij_saft(Lij)\n",
    "\n",
    "\n",
    "# or setting interactions by pairs (water = 0, butanol = 1, mtbe = 2)\n",
    "mix.set_kijsaft(i=0, j=1, kij0=k12)\n",
    "mix.set_kijsaft(i=0, j=2, kij0=k13)\n",
    "mix.set_kijsaft(i=1, j=2, kij0=k23)\n",
    "\n",
    "mix.set_lijsaft(i=0, j=1, lij0=l12)\n",
    "mix.set_lijsaft(i=0, j=2, lij0=l13)\n",
    "mix.set_lijsaft(i=1, j=2, lij0=l23)\n",
    "\n",
    "eos = saftvrmie(mix)\n",
    "\n",
    "# setting up induced association manually\n",
    "#mtbe water\n",
    "eos.eABij[0,2] = water.eAB / 2\n",
    "eos.eABij[2,0] = water.eAB / 2\n",
    "eos.rcij[0,2] = rc13 * 1e-10\n",
    "eos.rcij[2,0] = rc13 * 1e-10\n",
    "#mtbe butanol\n",
    "eos.eABij[2,1] = butanol.eAB / 2\n",
    "eos.eABij[1,2] = butanol.eAB / 2\n",
    "eos.rcij[2,1] = rc23 * 1e-10\n",
    "eos.rcij[1,2] = rc23 * 1e-10\n",
    "\n",
    "# or by using the eos._set_induced_asso method\n",
    "\n",
    "# selfasso=0 (water), inducedasso=2 (mtbe)\n",
    "eos.set_induced_asso(selfasso=0, inducedasso=2, rcij=rc13)\n",
    "# selfasso=1 (butanol), inducedasso=2 (mtbe)\n",
    "eos.set_induced_asso(selfasso=1, inducedasso=2, rcij=rc23)"
   ]
  },
  {
   "cell_type": "markdown",
   "metadata": {},
   "source": [
    "Once the ternary mixture has been set up, the VLLE computation is performed as follows:"
   ]
  },
  {
   "cell_type": "code",
   "execution_count": 7,
   "metadata": {},
   "outputs": [
    {
     "data": {
      "text/plain": [
       "           T: 345.0\n",
       "           P: 101325.0\n",
       " error_outer: 2.339805717091197e-11\n",
       " error_inner: 2.073542670883668e-10\n",
       "        iter: 21\n",
       "        beta: array([0.14191476, 0.70782655, 0.15025869])\n",
       "       tetha: array([0., 0., 0.])\n",
       "           X: array([[0.96430193, 0.0305612 , 0.00513686],\n",
       "       [0.44366261, 0.40404876, 0.15228863],\n",
       "       [0.32687062, 0.06433221, 0.60879717]])\n",
       "           v: [2.0897688177998453e-05, 6.50065054193597e-05, 0.027607765914231513]\n",
       "        Xass: [array([0.09661167, 0.11235917, 0.0360625 , 0.07512566, 0.11881848]), array([0.12710994, 0.33397064, 0.08224464, 0.26132655, 0.39334806]), array([0.98662764, 0.99250597, 0.97757231, 0.99022329, 0.9943016 ])]\n",
       "      states: ['L', 'L', 'V']\n",
       "      method: 'ASS'"
      ]
     },
     "execution_count": 7,
     "metadata": {},
     "output_type": "execute_result"
    }
   ],
   "source": [
    "T = 345. #K\n",
    "P = 1.01325e5 # Pa\n",
    "# global composition\n",
    "z = np.array([0.5, 0.3, 0.2])\n",
    "# initial guesses\n",
    "x0 = np.array([0.9, 0.05, 0.05])\n",
    "w0 = np.array([0.45, 0.45, 0.1])\n",
    "y0 = np.array([0.3, 0.1, 0.6])\n",
    "sol_vlle = vlle(x0, w0, y0, z, T, P, eos, full_output = True)\n",
    "sol_vlle"
   ]
  },
  {
   "cell_type": "markdown",
   "metadata": {},
   "source": [
    "As for the other phase equilibria functions included, you can supply initial guesses for the phase volumes (``v0``) or non-bonded association site fractions (``Xass0``), which can come from a previous calculation using the ``full_output=True`` option."
   ]
  },
  {
   "cell_type": "code",
   "execution_count": 8,
   "metadata": {},
   "outputs": [
    {
     "data": {
      "text/plain": [
       "           T: 345.0\n",
       "           P: 101325.0\n",
       " error_outer: 2.339807571047138e-11\n",
       " error_inner: 2.0735424484775519e-10\n",
       "        iter: 21\n",
       "        beta: array([0.14191476, 0.70782655, 0.15025869])\n",
       "       tetha: array([0., 0., 0.])\n",
       "           X: array([[0.96430193, 0.0305612 , 0.00513686],\n",
       "       [0.44366261, 0.40404876, 0.15228863],\n",
       "       [0.32687062, 0.06433221, 0.60879717]])\n",
       "           v: [2.0897688178000042e-05, 6.500650541922654e-05, 0.02760776591423144]\n",
       "        Xass: [array([0.09661167, 0.11235917, 0.0360625 , 0.07512566, 0.11881848]), array([0.12710994, 0.33397064, 0.08224464, 0.26132655, 0.39334806]), array([0.98662764, 0.99250597, 0.97757231, 0.99022329, 0.9943016 ])]\n",
       "      states: ['L', 'L', 'V']\n",
       "      method: 'ASS'"
      ]
     },
     "execution_count": 8,
     "metadata": {},
     "output_type": "execute_result"
    }
   ],
   "source": [
    "T = 345. #K\n",
    "P = 1.01325e5 # Pa\n",
    "# global composition\n",
    "z = np.array([0.5, 0.3, 0.2])\n",
    "# initial guesses\n",
    "x0 = np.array([0.9, 0.05, 0.05])\n",
    "w0 = np.array([0.45, 0.45, 0.1])\n",
    "y0 = np.array([0.3, 0.1, 0.6])\n",
    "v0 = sol_vlle.v\n",
    "Xass0 = sol_vlle.Xass\n",
    "# VLLE supplying initial guess for volumes and non-bonded association sites fractions\n",
    "vlle(x0, w0, y0, z, T, P, eos, v0=v0, Xass0=Xass0, full_output = True)"
   ]
  },
  {
   "cell_type": "markdown",
   "metadata": {},
   "source": [
    "---\n",
    "For further information about these functions check out the documentation running: ``vlleb?`` or ``vlle?``"
   ]
  }
 ],
 "metadata": {
  "kernelspec": {
   "display_name": "thermo",
   "language": "python",
   "name": "python3"
  },
  "language_info": {
   "codemirror_mode": {
    "name": "ipython",
    "version": 3
   },
   "file_extension": ".py",
   "mimetype": "text/x-python",
   "name": "python",
   "nbconvert_exporter": "python",
   "pygments_lexer": "ipython3",
   "version": "3.9.7"
  }
 },
 "nbformat": 4,
 "nbformat_minor": 4
}
