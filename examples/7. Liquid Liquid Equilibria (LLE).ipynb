{
 "cells": [
  {
   "cell_type": "markdown",
   "metadata": {},
   "source": [
    "# Liquid Liquid Equilibrium (LLE)\n",
    "\n",
    "Phase stability plays a key role during equilibrium computation when dealing with more than two liquid phases. For this purpose the following modified multiphase Rachford-Rice mass balance has been proposed by [Gupta et al.](https://www.sciencedirect.com/science/article/pii/037838129180021M):\n",
    "\n",
    "\n",
    "$$ \\sum_{i=1}^c \\frac{z_i (K_{ik} \\exp{\\theta_k}-1)}{1+ \\sum\\limits^{\\pi}_{\\substack{j=1 \\\\ j \\neq r}}{\\psi_j (K_{ij}} \\exp{\\theta_j} -1)} = 0 \\qquad k = 1,..., \\pi,  k \\neq r $$\n",
    "\n",
    "Subject to:\n",
    "\n",
    "$$ \\psi_k \\theta_k = 0 $$\n",
    "\n",
    "In this system of equations, $z_i$ represents the global composition of the component $i$,  $ K_{ij} = x_{ij}/x_{ir} = \\hat{\\phi}_{ir}/\\hat{\\phi}_{ij} $ is the constant equilibrium of component $i$ in phase $j$ respect to the reference phase $r$, and $\\psi_j$ and $\\theta_j$ are the phase fraction and stability variable of the phase $j$.  \n",
    "\n",
    "The solution strategy is similar to the classic isothermal isobaric two-phase flash. First, a reference phase must be selected, this phase is considered stable during the procedure. In an inner loop, the system of equations is solved using multidimensional Newton's method for phase fractions and stability variables and then compositions are updated in an outer loop using accelerated successive substitution (ASS).  Once the algorithm has converged, the stability variable gives information about the phase. If it takes a value of zero the phase is stable and if it is positive the phase is not.  The proposed successive substitution method can be slow, if that is the case the algorithm attempts to minimize Gibbs Free energy of the system. This procedure also ensures stable solutions and is solved using SciPy's functions.\n",
    "\n",
    "$$ min \\, {G} = \\sum_{k=1}^\\pi \\sum_{i=1}^c F_{ik} \\ln \\hat{f}_{ik}  $$\n",
    "\n",
    "This notebook shows the solution of liquid-liquid equilibrium using the ``lle`` function. This function incorporates the algorithm described above. To start, the required functions are imported."
   ]
  },
  {
   "cell_type": "code",
   "execution_count": 1,
   "metadata": {},
   "outputs": [],
   "source": [
    "import numpy as np\n",
    "from sgtpy import component, mixture, saftvrmie\n",
    "from sgtpy.equilibrium import lle, lle_init"
   ]
  },
  {
   "cell_type": "markdown",
   "metadata": {},
   "source": [
    "---\n",
    "### Binary example\n",
    "\n",
    "The LLE calculation for the mixture of water and butanol will be exemplified. First the mixture and its interaction parameters are set up. "
   ]
  },
  {
   "cell_type": "code",
   "execution_count": 2,
   "metadata": {},
   "outputs": [],
   "source": [
    "# creating pure components\n",
    "water = component('water', ms = 1.7311, sigma = 2.4539 , eps = 110.85,\n",
    "                    lambda_r = 8.308, lambda_a = 6., eAB = 1991.07, rcAB = 0.5624,\n",
    "                    rdAB = 0.4, sites = [0,2,2], cii = 1.5371939421515458e-20)\n",
    "\n",
    "butanol = component('butanol2C', ms = 1.9651, sigma = 4.1077 , eps = 277.892,\n",
    "                    lambda_r = 10.6689, lambda_a = 6., eAB = 3300.0, rcAB = 0.2615,\n",
    "                    rdAB = 0.4, sites = [1,0,1], npol = 1.45, mupol = 1.6609,\n",
    "                    cii  = 1.5018715324070352e-19)\n",
    "mix = mixture(water, butanol)\n",
    "# or\n",
    "mix = water + butanol\n",
    "\n",
    "# optimized from experimental LLE\n",
    "kij, lij = np.array([-0.00736075, -0.00737153])\n",
    "Kij = np.array([[0, kij], [kij, 0]])\n",
    "Lij = np.array([[0., lij], [lij, 0]])\n",
    "\n",
    "# setting interactions corrections\n",
    "mix.kij_saft(Kij)\n",
    "mix.lij_saft(Lij)\n",
    "# creating eos model\n",
    "eos_bin = saftvrmie(mix)"
   ]
  },
  {
   "cell_type": "markdown",
   "metadata": {},
   "source": [
    "Then the LLE is computed at given global composition (``z``), temperature (``T``) and pressure (``P``). The function ``lle``require initial guesses of the compositions of the phases. You can use the ``lle_init`` function to obtain initial guesses for the phase compositions."
   ]
  },
  {
   "cell_type": "code",
   "execution_count": 3,
   "metadata": {},
   "outputs": [
    {
     "data": {
      "text/plain": [
       "(array([0.96021656, 0.03978344]),\n",
       " array([0.53380265, 0.46619735]),\n",
       " 0.3757301434031413)"
      ]
     },
     "execution_count": 3,
     "metadata": {},
     "output_type": "execute_result"
    }
   ],
   "source": [
    "T = 298.15 # K\n",
    "P = 1.01325e5 # Pa\n",
    "\n",
    "# global composition\n",
    "z = np.array([0.8,0.2])\n",
    "# initial guesses for liquids compositions\n",
    "x0 = np.array([0.9, 0.1])\n",
    "w0 = np.array([0.6, 0.4])\n",
    "\n",
    "# LLE is performed as a flash that search stable phases\n",
    "lle(x0, w0, z, T, P, eos_bin, full_output=False)"
   ]
  },
  {
   "cell_type": "markdown",
   "metadata": {},
   "source": [
    "You can also supply initial guesses for the phase volumes (``v0``) or non-bonded association site fractions (``Xass0``), which can come from a previous calculation using the ``full_output=True`` option."
   ]
  },
  {
   "cell_type": "code",
   "execution_count": 4,
   "metadata": {},
   "outputs": [
    {
     "data": {
      "text/plain": [
       "           T: 298.15\n",
       "           P: 101325.0\n",
       " error_outer: 7.032605117005528e-09\n",
       " error_inner: 6.790912850114029e-09\n",
       "        iter: 16\n",
       "        beta: array([0.62426986, 0.37573014])\n",
       "       tetha: array([0.])\n",
       "           X: array([[0.96021656, 0.03978344],\n",
       "       [0.53380265, 0.46619735]])\n",
       "           v: [2.0314576415085177e-05, 5.1357047424730534e-05]\n",
       "        Xass: [array([0.05681864, 0.07391832, 0.01687673, 0.03815106]), array([0.06370272, 0.19811159, 0.02977199, 0.1168081 ])]\n",
       "      states: ['L', 'L']\n",
       "      method: 'ASS'"
      ]
     },
     "execution_count": 4,
     "metadata": {},
     "output_type": "execute_result"
    }
   ],
   "source": [
    "T = 298.15 # K\n",
    "P = 1.01325e5 # Pa\n",
    "\n",
    "# global composition\n",
    "z = np.array([0.8,0.2])\n",
    "# initial guesses for liquids compositions\n",
    "x0 = np.array([0.9, 0.1])\n",
    "w0 = np.array([0.6, 0.4])\n",
    "sol_lle = lle(x0, w0, z, T, P, eos_bin, full_output=True)\n",
    "sol_lle"
   ]
  },
  {
   "cell_type": "code",
   "execution_count": 5,
   "metadata": {},
   "outputs": [
    {
     "data": {
      "text/plain": [
       "           T: 298.15\n",
       "           P: 101325.0\n",
       " error_outer: 7.0326050246941444e-09\n",
       " error_inner: 6.790912794608896e-09\n",
       "        iter: 16\n",
       "        beta: array([0.62426986, 0.37573014])\n",
       "       tetha: array([0.])\n",
       "           X: array([[0.96021656, 0.03978344],\n",
       "       [0.53380265, 0.46619735]])\n",
       "           v: [2.0314576415082273e-05, 5.135704742474331e-05]\n",
       "        Xass: [array([0.05681864, 0.07391832, 0.01687673, 0.03815106]), array([0.06370272, 0.19811159, 0.02977199, 0.1168081 ])]\n",
       "      states: ['L', 'L']\n",
       "      method: 'ASS'"
      ]
     },
     "execution_count": 5,
     "metadata": {},
     "output_type": "execute_result"
    }
   ],
   "source": [
    "T = 298.15 # K\n",
    "P = 1.01325e5 # Pa\n",
    "\n",
    "# global composition\n",
    "z = np.array([0.8,0.2])\n",
    "# initial guesses for liquids compositions\n",
    "x0 = np.array([0.9, 0.1])\n",
    "w0 = np.array([0.6, 0.4])\n",
    "v0 = sol_lle.v\n",
    "Xass0 = sol_lle.Xass\n",
    "# LLE supplying initial guess for volumes and non-bonded association sites fractions\n",
    "lle(x0, w0, z, T, P, eos_bin, v0=v0, Xass0=Xass0, full_output=True)"
   ]
  },
  {
   "cell_type": "markdown",
   "metadata": {},
   "source": [
    "Initial guesses for the phase compositions can be obtained using the ``lle_init`` function. This is shown below."
   ]
  },
  {
   "cell_type": "code",
   "execution_count": 6,
   "metadata": {},
   "outputs": [
    {
     "data": {
      "text/plain": [
       "(array([0.53075499, 0.46924501]), array([0.9598314, 0.0401686]))"
      ]
     },
     "execution_count": 6,
     "metadata": {},
     "output_type": "execute_result"
    }
   ],
   "source": [
    "T = 298.15 # K\n",
    "P = 1.01325e5 # Pa\n",
    "# global composition\n",
    "z = np.array([0.8,0.2])\n",
    "\n",
    "lle_init(z, T, P, eos_bin)"
   ]
  },
  {
   "cell_type": "markdown",
   "metadata": {},
   "source": [
    "---\n",
    "### Ternary example\n",
    "\n",
    "The ``lle`` function is not restricted to binary mixtures. Its use for a ternary mixture is shown below:"
   ]
  },
  {
   "cell_type": "code",
   "execution_count": 7,
   "metadata": {},
   "outputs": [
    {
     "data": {
      "text/plain": [
       "           T: 340.0\n",
       "           P: 101325.0\n",
       " error_outer: 7.877847690753968e-09\n",
       " error_inner: 1.2577269657234521e-10\n",
       "        iter: 12\n",
       "        beta: array([0.21178723, 0.78821277])\n",
       "       tetha: array([0.])\n",
       "           X: array([[0.96977166, 0.02411117, 0.00611718],\n",
       "       [0.37377566, 0.37412939, 0.25209495]])\n",
       "           v: [2.0423180772183868e-05, 7.290296060601304e-05]\n",
       "        Xass: [array([0.09206316, 0.10554198, 0.03316298, 0.06878314, 0.1152663 ]), array([0.12441032, 0.37577807, 0.08464571, 0.29547323, 0.45318969])]\n",
       "      states: ['L', 'L']\n",
       "      method: 'ASS'"
      ]
     },
     "execution_count": 7,
     "metadata": {},
     "output_type": "execute_result"
    }
   ],
   "source": [
    "water = component('water', ms = 1.7311, sigma = 2.4539 , eps = 110.85,\n",
    "                    lambda_r = 8.308, lambda_a = 6.,  eAB = 1991.07, rcAB = 0.5624,\n",
    "                    rdAB = 0.4, sites = [0,2,2], cii = 1.5371939421515455e-20)\n",
    "\n",
    "butanol = component('butanol2C', ms = 1.9651, sigma = 4.1077 , eps = 277.892,\n",
    "                    lambda_r = 10.6689, lambda_a = 6., eAB = 3300.0, rcAB = 0.2615,\n",
    "                    rdAB = 0.4, sites = [1,0,1], npol = 1.45, mupol = 1.6609,\n",
    "                    cii  = 1.5018715324070352e-19)\n",
    "\n",
    "mtbe = component('mtbe', ms =2.17847383,  sigma=  4.19140014, eps =  306.52083841,\n",
    "                 lambda_r = 14.74135198, lambda_a = 6.0, npol = 2.95094686,  \n",
    "                 mupol = 1.3611, sites = [0,0,1], cii =3.5779968517655445e-19 )\n",
    "\n",
    "mix = mixture(water, butanol)\n",
    "mix.add_component(mtbe)\n",
    "# or\n",
    "mix = water + butanol + mtbe\n",
    "\n",
    "#butanol water\n",
    "k12, l12 = np.array([-0.00736075, -0.00737153])\n",
    "\n",
    "#mtbe butanol\n",
    "k23 = -0.0029995\n",
    "l23 = 0.\n",
    "rc23 =  1.90982649\n",
    "\n",
    "#mtbe water\n",
    "k13 = -0.07331438\n",
    "l13 = 0.\n",
    "rc13 = 2.84367922\n",
    "\n",
    "# setting up interaction corrections\n",
    "Kij = np.array([[0., k12, k13], [k12, 0., k23], [k13, k23, 0.]])\n",
    "Lij = np.array([[0., l12, l13], [l12, 0., l23], [l13, l23, 0.]])\n",
    "mix.kij_saft(Kij)\n",
    "mix.lij_saft(Lij)\n",
    "eos = saftvrmie(mix)\n",
    "\n",
    "# setting up induced association\n",
    "#mtbe water\n",
    "eos.eABij[0,2] = water.eAB / 2\n",
    "eos.eABij[2,0] = water.eAB / 2\n",
    "eos.rcij[0,2] = rc13 * 1e-10\n",
    "eos.rcij[2,0] = rc13 * 1e-10\n",
    "#mtbe butanol\n",
    "eos.eABij[2,1] = butanol.eAB / 2\n",
    "eos.eABij[1,2] = butanol.eAB / 2\n",
    "eos.rcij[2,1] = rc23 * 1e-10\n",
    "eos.rcij[1,2] = rc23 * 1e-10\n",
    "\n",
    "T = 340. #K\n",
    "P = 1.01325e5 # Pa\n",
    "# global composition\n",
    "z = np.array([0.5, 0.3, 0.2])\n",
    "# initial guesses\n",
    "x0 = np.array([0.9, 0.05, 0.05])\n",
    "w0 = np.array([0.45, 0.45, 0.1])\n",
    "lle(x0, w0, z, T, P, eos, full_output = True)"
   ]
  },
  {
   "cell_type": "markdown",
   "metadata": {},
   "source": [
    "---\n",
    "For further information about the lle function check out the documentation running: ``lle?``"
   ]
  }
 ],
 "metadata": {
  "kernelspec": {
   "display_name": "thermo",
   "language": "python",
   "name": "python3"
  },
  "language_info": {
   "codemirror_mode": {
    "name": "ipython",
    "version": 3
   },
   "file_extension": ".py",
   "mimetype": "text/x-python",
   "name": "python",
   "nbconvert_exporter": "python",
   "pygments_lexer": "ipython3",
   "version": "3.9.7"
  }
 },
 "nbformat": 4,
 "nbformat_minor": 4
}
