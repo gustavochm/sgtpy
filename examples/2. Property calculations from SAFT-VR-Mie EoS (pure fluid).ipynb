{
 "cells": [
  {
   "cell_type": "markdown",
   "metadata": {},
   "source": [
    "# Property calculation with SAFT-VR-Mie EoS\n",
    "\n",
    "First, it is necessary to import the ``component`` class and the SAFT-VR-Mie equation of state (``saftvrmie``)."
   ]
  },
  {
   "cell_type": "code",
   "execution_count": 1,
   "metadata": {},
   "outputs": [],
   "source": [
    "import numpy as np\n",
    "from sgtpy import component, saftvrmie"
   ]
  },
  {
   "cell_type": "markdown",
   "metadata": {},
   "source": [
    "First, a component is defined with the ``component`` class function, then the ``eos`` object is created with the component and the ``saftvrmie`` function. \n",
    "\n",
    "The ``eos`` object includes the methods to evaluate properties from the equation of state, such as densities, pressure, fugacity coefficients, chemical potential and some thermal derived properties (residual entropy, residual enthalpy, residual heat capacities and speed of sound).\n",
    "\n",
    "**warning:** thermal derived properties are computed with numerical derivatives using $O(h^4)$ approximation.\n",
    "\n",
    "In the case of coarse-grained non-associating fluids, the ``eos`` object allows computing the [influence parameter for SGT](https://aiche.onlinelibrary.wiley.com/doi/full/10.1002/aic.15190). This is done with the following correlation:\n",
    "\n",
    "$$ \\sqrt{\\frac{c_{ii}}{N_{av}^2 \\epsilon_{ii} \\sigma_{ii}^5}} = m_s \\left[0.12008 + 2.21979 \\alpha_i \\right]$$\n",
    "\n",
    "$$ \\alpha_i = \\left[ \\frac{\\lambda_r}{\\lambda_r - \\lambda_a} \\left( \\frac{\\lambda_r}{\\lambda_a}\\right)^{\\frac{\\lambda_a}{\\lambda_r - \\lambda_a}}\\right] \\left[\\frac{1}{\\lambda_a - 3} - \\frac{1}{\\lambda_r - 3} \\right]$$\n",
    "\n",
    "The ``eos.cii_correlation`` method is shown below for methane."
   ]
  },
  {
   "cell_type": "code",
   "execution_count": 2,
   "metadata": {},
   "outputs": [
    {
     "data": {
      "text/plain": [
       "array([1.92075094e-20])"
      ]
     },
     "execution_count": 2,
     "metadata": {},
     "output_type": "execute_result"
    }
   ],
   "source": [
    "methane = component('methane', ms = 1.0, sigma = 3.752 , eps = 170.75,\n",
    "                    lambda_r = 16.39, lambda_a = 6.)\n",
    "eos = saftvrmie(methane)\n",
    "eos.cii_correlation(overwrite=True)"
   ]
  },
  {
   "cell_type": "markdown",
   "metadata": {},
   "source": [
    "In the following examples, self-associating 4C water will be used alongside SAFT-VR-Mie EoS."
   ]
  },
  {
   "cell_type": "code",
   "execution_count": 3,
   "metadata": {},
   "outputs": [],
   "source": [
    "water = component('water', ms = 1.7311, sigma = 2.4539 , eps = 110.85,\n",
    "                    lambda_r = 8.308, lambda_a = 6., eAB = 1991.07, rcAB = 0.5624,\n",
    "                    rdAB = 0.4, sites = [0,2,2], Mw = 18.01528, cii = 1.5371939421515458e-20)\n",
    "eos = saftvrmie(water)"
   ]
  },
  {
   "cell_type": "markdown",
   "metadata": {},
   "source": [
    "When you run ``saftvrmie(component)``, SGTPy will attempt to compute the critical point of the fluid. If the procedure is successful you can check the computed values with the ``eos.Tc``, ``eos.Pc`` and ``eos.rhoc`` attributes. The bool ``eos.critical`` indicates if the computation was successful. "
   ]
  },
  {
   "cell_type": "code",
   "execution_count": 4,
   "metadata": {},
   "outputs": [
    {
     "name": "stdout",
     "output_type": "stream",
     "text": [
      "Critical point calculation success:  True\n",
      "Critical temperature: 694.7496645164509 K\n",
      "Critical pressure: 33146202.40897208 Pa\n",
      "Critical density: 17706.26360567451 mol/m^3\n"
     ]
    }
   ],
   "source": [
    "print('Critical point calculation success: ', eos.critical)\n",
    "if eos.critical:\n",
    "    print('Critical temperature:', eos.Tc, 'K')\n",
    "    print('Critical pressure:', eos.Pc, 'Pa')\n",
    "    print('Critical density:', eos.rhoc, 'mol/m^3')\n",
    "    \n"
   ]
  },
  {
   "cell_type": "markdown",
   "metadata": {},
   "source": [
    "If the critical point calculation is not successful, you can try to compute the critical point of the fluid using the ``eos.get_critical`` method. The method returns the critical temperature [K], critical pressure [Pa] and critical density [mol/m^3]. You can supply better initial values to start the non-linear solver.\n",
    "\n",
    "If you set the parameter ``overwrite=True``, the results from this method will overwrite the previous computed critical point at initialization."
   ]
  },
  {
   "cell_type": "code",
   "execution_count": 5,
   "metadata": {},
   "outputs": [
    {
     "data": {
      "text/plain": [
       "(694.7496645165976, 33146202.409016237, 17706.265339522575)"
      ]
     },
     "execution_count": 5,
     "metadata": {},
     "output_type": "execute_result"
    }
   ],
   "source": [
    "# get_critical providing initial guesses\n",
    "Tc0 = 690.  # K\n",
    "rhoc0 = 17500.  # mol/m3\n",
    "\n",
    "eos.get_critical(Tc0, rhoc0, overwrite=True)"
   ]
  },
  {
   "cell_type": "markdown",
   "metadata": {},
   "source": [
    "The density of the fluid is computed with the ``eos.density`` method. It requires the temperature (K), pressure (Pa) and the aggregation state (``'L'`` for liquid phase or ``'V'`` for vapor phase).\n",
    "\n",
    "When no initial guess has been provided. Topliss's method is used to initialize the density calculation."
   ]
  },
  {
   "cell_type": "code",
   "execution_count": 6,
   "metadata": {},
   "outputs": [
    {
     "data": {
      "text/plain": [
       "(56938.97048119237, 44.96277234775467)"
      ]
     },
     "execution_count": 6,
     "metadata": {},
     "output_type": "execute_result"
    }
   ],
   "source": [
    "T = 300.  # K\n",
    "P = 1e5  # Pa\n",
    "# computed density in mol/m3\n",
    "eos.density(T, P, 'L'), eos.density(T, P, 'V')"
   ]
  },
  {
   "cell_type": "markdown",
   "metadata": {},
   "source": [
    "Optionally, you can provide an initial guess to start computing the density. This is done with the ``rho0`` parameter.\n",
    "\n",
    "In this case, Newton's method is used to solve the density."
   ]
  },
  {
   "cell_type": "code",
   "execution_count": 7,
   "metadata": {},
   "outputs": [
    {
     "data": {
      "text/plain": [
       "56938.97048119243"
      ]
     },
     "execution_count": 7,
     "metadata": {},
     "output_type": "execute_result"
    }
   ],
   "source": [
    "T = 300.  # K\n",
    "P = 1e5  # Pa\n",
    "# computed density in mol/m3\n",
    "rho0 = 0.95*56938.97048119255 # mol/m3\n",
    "eos.density(T, P, 'L', rho0=rho0)"
   ]
  },
  {
   "cell_type": "markdown",
   "metadata": {},
   "source": [
    "Similarly, the pressure of the fluid can be computed at given molar density (mol/m3) and temperature (K) using the ``eos.pressure`` method. "
   ]
  },
  {
   "cell_type": "code",
   "execution_count": 8,
   "metadata": {},
   "outputs": [
    {
     "data": {
      "text/plain": [
       "(99999.99999658794, 100000.00000259202)"
      ]
     },
     "execution_count": 8,
     "metadata": {},
     "output_type": "execute_result"
    }
   ],
   "source": [
    "T = 300.  # K\n",
    "rhov = 44.962772347754836  # mol/m3\n",
    "rhol = 56938.970481192526  # mol/m3\n",
    "#computed pressure in Pa\n",
    "eos.pressure(rhov, T), eos.pressure(rhol, T)"
   ]
  },
  {
   "cell_type": "markdown",
   "metadata": {},
   "source": [
    "For pure fluids, the ``eos.psat`` method allows computing the saturation pressure at given temperature. This method returns the equilibrium pressure and molar volumes of the liquid and vapor phases. Similarly, the ``eos.tsat`` method allows computing the saturation temperature at given pressure.\n",
    "\n",
    "The phase equilibria can be verified through fugacity coefficients using the ``eos.logfug`` method or by using chemical potentials with the ``eos.muad`` method. The chemical potentials require that dimensionless density and temperature."
   ]
  },
  {
   "cell_type": "code",
   "execution_count": 9,
   "metadata": {},
   "outputs": [
    {
     "data": {
      "text/plain": [
       "(3640.841209122666, 1.756342718267362e-05, 0.6824190076059875)"
      ]
     },
     "execution_count": 9,
     "metadata": {},
     "output_type": "execute_result"
    }
   ],
   "source": [
    "T = 300.  # K\n",
    "P0 = 1e3  # Pa\n",
    "# equilibrium pressure (Pa), liquid volume (m3/mol), vapor volume (m3/mol)\n",
    "eos.psat(T, P0=P0)"
   ]
  },
  {
   "cell_type": "code",
   "execution_count": 10,
   "metadata": {},
   "outputs": [
    {
     "data": {
      "text/plain": [
       "(279.2064179224693, 1.7318625791835306e-05, 2.3171333573153374)"
      ]
     },
     "execution_count": 10,
     "metadata": {},
     "output_type": "execute_result"
    }
   ],
   "source": [
    "P = 1e3  # Pa\n",
    "T0 = 300.  # K\n",
    "# equilibrium temperature (K), liquid volume (m3/mol), vapor volume (m3/mol)\n",
    "eos.tsat(P, T0=T0)"
   ]
  },
  {
   "cell_type": "markdown",
   "metadata": {},
   "source": [
    "Alternatively, if you don't supply an initial guess for the pressure and the critical point of the fluid was correctly computed at initialization, the pressure will be automatically initiated using the [zero-pressure o Pmin/Pmax algorithm](https://www.sciencedirect.com/science/article/pii/S0098135497000161). "
   ]
  },
  {
   "cell_type": "code",
   "execution_count": 11,
   "metadata": {},
   "outputs": [
    {
     "data": {
      "text/plain": [
       "(3640.84120912265, 1.7563427182673632e-05, 0.682419007616849)"
      ]
     },
     "execution_count": 11,
     "metadata": {},
     "output_type": "execute_result"
    }
   ],
   "source": [
    "# computing VLE without initial guess\n",
    "# equilibrium pressure (Pa), liquid volume (m3/mol), vapor volume (m3/mol)\n",
    "eos.psat(T)"
   ]
  },
  {
   "cell_type": "markdown",
   "metadata": {},
   "source": [
    "You can check that the phase equilibria was computed correctly, verifying either the chemical potential or fugacity coefficients of the phases."
   ]
  },
  {
   "cell_type": "code",
   "execution_count": 12,
   "metadata": {},
   "outputs": [
    {
     "data": {
      "text/plain": [
       "True"
      ]
     },
     "execution_count": 12,
     "metadata": {},
     "output_type": "execute_result"
    }
   ],
   "source": [
    "Psat = 3640.841209122654  # Pa\n",
    "vl = 1.756342718267362e-05  # m3/mol\n",
    "vv = 0.6824190076059896  # m3/mol\n",
    "\n",
    "# checking chemical potentials\n",
    "np.allclose(eos.muad(1/vl, T) , eos.muad(1/vv, T))"
   ]
  },
  {
   "cell_type": "code",
   "execution_count": 13,
   "metadata": {},
   "outputs": [
    {
     "data": {
      "text/plain": [
       "True"
      ]
     },
     "execution_count": 13,
     "metadata": {},
     "output_type": "execute_result"
    }
   ],
   "source": [
    "# checking fugacity coefficients\n",
    "np.allclose(eos.logfug(T, Psat, 'L', v0=vl)[0], eos.logfug(T, Psat, 'V', v0=vv)[0])"
   ]
  },
  {
   "cell_type": "markdown",
   "metadata": {},
   "source": [
    "The ``eos`` object also includes the calculation of some thermal derived properties such as residual entropy (``eos.EntropyR``), residual enthalpy (``eos.EnthalpyR``), residual isochoric heat capacity (``eos.CvR``), , residual isobaric heat capacity (``eos.CpR``).\n",
    "\n",
    "For the speed of sound calculation (``eos.speed_sound``) the ideal gas heat capacities are required, in the example the isochoric and isobaric ideal gas contributions are set to $3R/2$ and $5R/2$, respectively. Better values of ideal gas heat capacities contribution can be found from empirical correlations, such as the provided by DIPPR 801."
   ]
  },
  {
   "cell_type": "code",
   "execution_count": 14,
   "metadata": {},
   "outputs": [
    {
     "name": "stdout",
     "output_type": "stream",
     "text": [
      "Vaporization Entropy :  142.8199794927401 J / mol K\n",
      "Vaporization Enthalpy :  42845.99384783339 J / mol\n",
      "Residual isochoric heat capacity :  30.83559197746939 J / mol K\n",
      "Residual isobaric heat capacity :  28.20967588845166 J / mol K\n",
      "Speed of sound :  1563.6575055525836 m / s\n"
     ]
    }
   ],
   "source": [
    "# vaporization entropy in J/mol K\n",
    "Sl = eos.EntropyR(T, Psat, 'L', v0=vl)\n",
    "Sv = eos.EntropyR(T, Psat, 'V', v0=vv)\n",
    "Svap = Sv - Sl\n",
    "\n",
    "# vaporization enthalpy in J/mol\n",
    "Hl = eos.EnthalpyR(T, Psat, 'L')\n",
    "Hv = eos.EnthalpyR(T, Psat, 'V')\n",
    "Hvap = Hv - Hl\n",
    "\n",
    "\n",
    "# isochoric and isobaric residual heats capacities in J / mol K\n",
    "cvr = eos.CvR(1/vl, T)\n",
    "cpr = eos.CpR(T, Psat, 'L')\n",
    "\n",
    "\n",
    "# ideal gas heat capacities, better values can be obtained with DIPPR 801 correlations\n",
    "r = 8.314  # J / mol K\n",
    "CvId = 3*r/2\n",
    "CpId = 5*r/2\n",
    "w = eos.speed_sound(T, Psat, 'V', v0=vl, CvId=CvId, CpId=CpId)\n",
    "\n",
    "print('Vaporization Entropy : ', Svap, 'J / mol K')\n",
    "print('Vaporization Enthalpy : ', Hvap, 'J / mol')\n",
    "print('Residual isochoric heat capacity : ', cvr, 'J / mol K')\n",
    "print('Residual isobaric heat capacity : ', cpr, 'J / mol K')\n",
    "print('Speed of sound : ', w, 'm / s')"
   ]
  },
  {
   "cell_type": "markdown",
   "metadata": {},
   "source": [
    "To get better values of the speed of sound you can provide correlated values for the ideal gas heat capacities."
   ]
  },
  {
   "cell_type": "code",
   "execution_count": 15,
   "metadata": {},
   "outputs": [
    {
     "data": {
      "text/plain": [
       "1542.8100392829724"
      ]
     },
     "execution_count": 15,
     "metadata": {},
     "output_type": "execute_result"
    }
   ],
   "source": [
    "# ideal heat capacity from DIPPR 801.\n",
    "\n",
    "k1=33363\n",
    "k2=26790\n",
    "k3=2610.5\n",
    "k4=8896\n",
    "k5=1169\n",
    "\n",
    "CpId = k1 + k2 * ((k3/T) /np.sinh(k3/T))**2\n",
    "CpId += k4 * ((k5/T) /np.cosh(k5/T))**2\n",
    "CpId /= 1000.\n",
    "\n",
    "CvId = CpId - r\n",
    "\n",
    "# better value for speed of sound (m/s)\n",
    "eos.speed_sound(T, Psat, 'L', v0=vl, CvId=CvId, CpId=CpId)"
   ]
  },
  {
   "cell_type": "markdown",
   "metadata": {},
   "source": [
    "---\n",
    "For further information about each method check out the documentation running: ``eos.function?``"
   ]
  },
  {
   "cell_type": "code",
   "execution_count": null,
   "metadata": {},
   "outputs": [],
   "source": []
  }
 ],
 "metadata": {
  "kernelspec": {
   "display_name": "thermo",
   "language": "python",
   "name": "python3"
  },
  "language_info": {
   "codemirror_mode": {
    "name": "ipython",
    "version": 3
   },
   "file_extension": ".py",
   "mimetype": "text/x-python",
   "name": "python",
   "nbconvert_exporter": "python",
   "pygments_lexer": "ipython3",
   "version": "3.9.7"
  }
 },
 "nbformat": 4,
 "nbformat_minor": 4
}
